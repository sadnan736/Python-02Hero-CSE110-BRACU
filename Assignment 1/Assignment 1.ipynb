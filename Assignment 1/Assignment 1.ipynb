{
  "nbformat": 4,
  "nbformat_minor": 0,
  "metadata": {
    "colab": {
      "provenance": [],
      "collapsed_sections": [
        "DUzDX31cu0e6",
        "uKzaN58uvAvt",
        "OWEPL5TgvBJt",
        "qGnL0VWPvBTi",
        "qNzy8bjLvBcb",
        "4Ym7b3tNvBlD",
        "V4ubeIrsvB2H",
        "EiofXmPNvrfs"
      ]
    },
    "kernelspec": {
      "name": "python3",
      "display_name": "Python 3"
    },
    "language_info": {
      "name": "python"
    }
  },
  "cells": [
    {
      "cell_type": "markdown",
      "source": [
        "## **Task 1**"
      ],
      "metadata": {
        "id": "XqUfY9RQuHys"
      }
    },
    {
      "cell_type": "markdown",
      "source": [
        "Write a Python program that prints \"hello world\" in a console."
      ],
      "metadata": {
        "id": "knIP9D6huqdh"
      }
    },
    {
      "cell_type": "markdown",
      "source": [
        "<table>\n",
        "<tr>\n",
        "    <th>Sample Input</th> \n",
        "    <th>Sample Output</th>\n",
        "</tr>\n",
        "\n",
        "<tr>\n",
        "    <td></td>\n",
        "    <td>hello world</td> \n",
        "</tr>"
      ],
      "metadata": {
        "id": "Vj5iukKauuzR"
      }
    },
    {
      "cell_type": "code",
      "source": [
        "print(\"hello world\")"
      ],
      "metadata": {
        "colab": {
          "base_uri": "https://localhost:8080/"
        },
        "id": "d8KximDFunea",
        "outputId": "d2767946-f304-4eeb-df6b-9630890b4ab9"
      },
      "execution_count": 1,
      "outputs": [
        {
          "output_type": "stream",
          "name": "stdout",
          "text": [
            "hello world\n"
          ]
        }
      ]
    },
    {
      "cell_type": "markdown",
      "source": [
        "## **Task 2**"
      ],
      "metadata": {
        "id": "DUzDX31cu0e6"
      }
    },
    {
      "cell_type": "markdown",
      "source": [],
      "metadata": {
        "id": "GzRTYET4u0e6"
      }
    },
    {
      "cell_type": "markdown",
      "source": [],
      "metadata": {
        "id": "UmfRpDkYu0e6"
      }
    },
    {
      "cell_type": "code",
      "source": [],
      "metadata": {
        "id": "CClxt4q3u0e6"
      },
      "execution_count": null,
      "outputs": []
    },
    {
      "cell_type": "markdown",
      "source": [
        "## **Task 3**"
      ],
      "metadata": {
        "id": "uKzaN58uvAvt"
      }
    },
    {
      "cell_type": "markdown",
      "source": [],
      "metadata": {
        "id": "bGl2OY7tvAvu"
      }
    },
    {
      "cell_type": "markdown",
      "source": [],
      "metadata": {
        "id": "4140wacJvAvv"
      }
    },
    {
      "cell_type": "code",
      "source": [],
      "metadata": {
        "id": "igGWuxwHvAvv"
      },
      "execution_count": null,
      "outputs": []
    },
    {
      "cell_type": "markdown",
      "source": [
        "## **Task 4**"
      ],
      "metadata": {
        "id": "OWEPL5TgvBJt"
      }
    },
    {
      "cell_type": "markdown",
      "source": [],
      "metadata": {
        "id": "rQmppXj-vBJt"
      }
    },
    {
      "cell_type": "markdown",
      "source": [],
      "metadata": {
        "id": "WlR-y3K7vBJu"
      }
    },
    {
      "cell_type": "code",
      "source": [],
      "metadata": {
        "id": "p-n7-94QvBJu"
      },
      "execution_count": null,
      "outputs": []
    },
    {
      "cell_type": "markdown",
      "source": [
        "## **Task 5**"
      ],
      "metadata": {
        "id": "qGnL0VWPvBTi"
      }
    },
    {
      "cell_type": "markdown",
      "source": [],
      "metadata": {
        "id": "XGfCPDx0vBTj"
      }
    },
    {
      "cell_type": "markdown",
      "source": [],
      "metadata": {
        "id": "CItvZguTvBTj"
      }
    },
    {
      "cell_type": "code",
      "source": [],
      "metadata": {
        "id": "SnNPX52tvBTj"
      },
      "execution_count": null,
      "outputs": []
    },
    {
      "cell_type": "markdown",
      "source": [
        "## **Task 6**"
      ],
      "metadata": {
        "id": "qNzy8bjLvBcb"
      }
    },
    {
      "cell_type": "markdown",
      "source": [],
      "metadata": {
        "id": "HyITOrOXvBcc"
      }
    },
    {
      "cell_type": "markdown",
      "source": [],
      "metadata": {
        "id": "jLDDG5dCvBcc"
      }
    },
    {
      "cell_type": "code",
      "source": [],
      "metadata": {
        "id": "hxq00khivBcc"
      },
      "execution_count": null,
      "outputs": []
    },
    {
      "cell_type": "markdown",
      "source": [
        "## **Task 7**"
      ],
      "metadata": {
        "id": "4Ym7b3tNvBlD"
      }
    },
    {
      "cell_type": "markdown",
      "source": [],
      "metadata": {
        "id": "0vGY_nuCvBlD"
      }
    },
    {
      "cell_type": "markdown",
      "source": [],
      "metadata": {
        "id": "Z13_zPxivBlD"
      }
    },
    {
      "cell_type": "code",
      "source": [],
      "metadata": {
        "id": "I9CCkr8YvBlD"
      },
      "execution_count": null,
      "outputs": []
    },
    {
      "cell_type": "markdown",
      "source": [
        "## **Task 8**"
      ],
      "metadata": {
        "id": "V4ubeIrsvB2H"
      }
    },
    {
      "cell_type": "markdown",
      "source": [],
      "metadata": {
        "id": "Y54hV5ABvB2I"
      }
    },
    {
      "cell_type": "markdown",
      "source": [],
      "metadata": {
        "id": "cQ2oVbmAvB2I"
      }
    },
    {
      "cell_type": "code",
      "source": [],
      "metadata": {
        "id": "iyyn-Re-vB2J"
      },
      "execution_count": null,
      "outputs": []
    },
    {
      "cell_type": "markdown",
      "source": [
        "## **Task 9**\n",
        "*   Ungraded\n",
        "\n",
        "\n",
        "\n"
      ],
      "metadata": {
        "id": "EiofXmPNvrfs"
      }
    },
    {
      "cell_type": "markdown",
      "source": [],
      "metadata": {
        "id": "R9ZV1QoZvrfs"
      }
    },
    {
      "cell_type": "markdown",
      "source": [],
      "metadata": {
        "id": "VyLg-od5vrfs"
      }
    },
    {
      "cell_type": "code",
      "source": [],
      "metadata": {
        "id": "JATSDphMvrfs"
      },
      "execution_count": null,
      "outputs": []
    },
    {
      "cell_type": "markdown",
      "source": [
        "## **Task 10**\n",
        "*   Ungraded\n",
        "\n",
        "\n",
        "\n"
      ],
      "metadata": {
        "id": "klhvArxYwRSr"
      }
    },
    {
      "cell_type": "markdown",
      "source": [],
      "metadata": {
        "id": "hzHN_DqSwRSx"
      }
    },
    {
      "cell_type": "markdown",
      "source": [],
      "metadata": {
        "id": "LSxVYRoLwRSx"
      }
    },
    {
      "cell_type": "code",
      "source": [],
      "metadata": {
        "id": "DB_Bv9DYwRSx"
      },
      "execution_count": null,
      "outputs": []
    },
    {
      "cell_type": "markdown",
      "source": [
        "## **Task 10**\n",
        "*   Ungraded\n",
        "\n",
        "\n",
        "\n"
      ],
      "metadata": {
        "id": "EP7wGSkpwRbU"
      }
    },
    {
      "cell_type": "markdown",
      "source": [],
      "metadata": {
        "id": "_b7UjJkQwRbU"
      }
    },
    {
      "cell_type": "markdown",
      "source": [],
      "metadata": {
        "id": "kb1P1DRvwRbU"
      }
    },
    {
      "cell_type": "code",
      "source": [],
      "metadata": {
        "id": "xisZAfQawRbV"
      },
      "execution_count": null,
      "outputs": []
    }
  ]
}