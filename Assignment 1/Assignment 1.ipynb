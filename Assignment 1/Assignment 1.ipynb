{
  "cells": [
    {
      "attachments": {},
      "cell_type": "markdown",
      "metadata": {
        "id": "a3AoqV0pzMaH"
      },
      "source": [
        "<center>This assignment was issued by BRAC University</center>\n",
        "<br>\n",
        "<center>It was completed by Sadnan Islam</center>\n",
        "\n",
        "---\n",
        "<center><a href='linktr.ee/sadnan736'><img src='https://github.com/sadnan736/Python-A2Z-CSE110-BRACU/blob/main/Socials.png?raw=true'  width=\"200\"/></a></center>"
      ]
    },
    {
      "cell_type": "markdown",
      "metadata": {
        "id": "XqUfY9RQuHys"
      },
      "source": [
        "## **Task 1**"
      ]
    },
    {
      "cell_type": "markdown",
      "metadata": {
        "id": "knIP9D6huqdh"
      },
      "source": [
        "Write a Python program that prints \"hello world\" in a console."
      ]
    },
    {
      "cell_type": "markdown",
      "metadata": {
        "id": "Vj5iukKauuzR"
      },
      "source": [
        "<table>\n",
        "<tr>\n",
        "    <th>Sample Input</th> \n",
        "    <th>Sample Output</th>\n",
        "</tr>\n",
        "\n",
        "<tr>\n",
        "    <td></td>\n",
        "    <td>hello world</td> \n",
        "</tr>"
      ]
    },
    {
      "cell_type": "code",
      "execution_count": null,
      "metadata": {
        "colab": {
          "base_uri": "https://localhost:8080/"
        },
        "id": "d8KximDFunea",
        "outputId": "d2767946-f304-4eeb-df6b-9630890b4ab9"
      },
      "outputs": [
        {
          "name": "stdout",
          "output_type": "stream",
          "text": [
            "hello world\n"
          ]
        }
      ],
      "source": [
        "print(\"hello world\")"
      ]
    },
    {
      "cell_type": "markdown",
      "metadata": {
        "id": "DUzDX31cu0e6"
      },
      "source": [
        "## **Task 2**"
      ]
    },
    {
      "cell_type": "markdown",
      "metadata": {
        "id": "GzRTYET4u0e6"
      },
      "source": []
    },
    {
      "cell_type": "markdown",
      "metadata": {
        "id": "UmfRpDkYu0e6"
      },
      "source": []
    },
    {
      "cell_type": "code",
      "execution_count": null,
      "metadata": {
        "id": "CClxt4q3u0e6"
      },
      "outputs": [],
      "source": []
    },
    {
      "cell_type": "markdown",
      "metadata": {
        "id": "uKzaN58uvAvt"
      },
      "source": [
        "## **Task 3**"
      ]
    },
    {
      "cell_type": "markdown",
      "metadata": {
        "id": "bGl2OY7tvAvu"
      },
      "source": []
    },
    {
      "cell_type": "markdown",
      "metadata": {
        "id": "4140wacJvAvv"
      },
      "source": []
    },
    {
      "cell_type": "code",
      "execution_count": null,
      "metadata": {
        "id": "igGWuxwHvAvv"
      },
      "outputs": [],
      "source": []
    },
    {
      "cell_type": "markdown",
      "metadata": {
        "id": "OWEPL5TgvBJt"
      },
      "source": [
        "## **Task 4**"
      ]
    },
    {
      "cell_type": "markdown",
      "metadata": {
        "id": "rQmppXj-vBJt"
      },
      "source": []
    },
    {
      "cell_type": "markdown",
      "metadata": {
        "id": "WlR-y3K7vBJu"
      },
      "source": []
    },
    {
      "cell_type": "code",
      "execution_count": null,
      "metadata": {
        "id": "p-n7-94QvBJu"
      },
      "outputs": [],
      "source": []
    },
    {
      "cell_type": "markdown",
      "metadata": {
        "id": "qGnL0VWPvBTi"
      },
      "source": [
        "## **Task 5**"
      ]
    },
    {
      "cell_type": "markdown",
      "metadata": {
        "id": "XGfCPDx0vBTj"
      },
      "source": []
    },
    {
      "cell_type": "markdown",
      "metadata": {
        "id": "CItvZguTvBTj"
      },
      "source": []
    },
    {
      "cell_type": "code",
      "execution_count": null,
      "metadata": {
        "id": "SnNPX52tvBTj"
      },
      "outputs": [],
      "source": []
    },
    {
      "cell_type": "markdown",
      "metadata": {
        "id": "qNzy8bjLvBcb"
      },
      "source": [
        "## **Task 6**"
      ]
    },
    {
      "cell_type": "markdown",
      "metadata": {
        "id": "HyITOrOXvBcc"
      },
      "source": []
    },
    {
      "cell_type": "markdown",
      "metadata": {
        "id": "jLDDG5dCvBcc"
      },
      "source": []
    },
    {
      "cell_type": "code",
      "execution_count": null,
      "metadata": {
        "id": "hxq00khivBcc"
      },
      "outputs": [],
      "source": []
    },
    {
      "cell_type": "markdown",
      "metadata": {
        "id": "4Ym7b3tNvBlD"
      },
      "source": [
        "## **Task 7**"
      ]
    },
    {
      "cell_type": "markdown",
      "metadata": {
        "id": "0vGY_nuCvBlD"
      },
      "source": []
    },
    {
      "cell_type": "markdown",
      "metadata": {
        "id": "Z13_zPxivBlD"
      },
      "source": []
    },
    {
      "cell_type": "code",
      "execution_count": null,
      "metadata": {
        "id": "I9CCkr8YvBlD"
      },
      "outputs": [],
      "source": []
    },
    {
      "cell_type": "markdown",
      "metadata": {
        "id": "V4ubeIrsvB2H"
      },
      "source": [
        "## **Task 8**"
      ]
    },
    {
      "cell_type": "markdown",
      "metadata": {
        "id": "Y54hV5ABvB2I"
      },
      "source": []
    },
    {
      "cell_type": "markdown",
      "metadata": {
        "id": "cQ2oVbmAvB2I"
      },
      "source": []
    },
    {
      "cell_type": "code",
      "execution_count": null,
      "metadata": {
        "id": "iyyn-Re-vB2J"
      },
      "outputs": [],
      "source": []
    },
    {
      "cell_type": "markdown",
      "metadata": {
        "id": "EiofXmPNvrfs"
      },
      "source": [
        "## **Task 9**\n",
        "*   Ungraded\n",
        "\n",
        "\n",
        "\n"
      ]
    },
    {
      "cell_type": "markdown",
      "metadata": {
        "id": "R9ZV1QoZvrfs"
      },
      "source": []
    },
    {
      "cell_type": "markdown",
      "metadata": {
        "id": "VyLg-od5vrfs"
      },
      "source": []
    },
    {
      "cell_type": "code",
      "execution_count": null,
      "metadata": {
        "id": "JATSDphMvrfs"
      },
      "outputs": [],
      "source": []
    },
    {
      "cell_type": "markdown",
      "metadata": {
        "id": "klhvArxYwRSr"
      },
      "source": [
        "## **Task 10**\n",
        "*   Ungraded\n",
        "\n",
        "\n",
        "\n"
      ]
    },
    {
      "cell_type": "markdown",
      "metadata": {
        "id": "hzHN_DqSwRSx"
      },
      "source": []
    },
    {
      "cell_type": "markdown",
      "metadata": {
        "id": "LSxVYRoLwRSx"
      },
      "source": []
    },
    {
      "cell_type": "code",
      "execution_count": null,
      "metadata": {
        "id": "DB_Bv9DYwRSx"
      },
      "outputs": [],
      "source": []
    },
    {
      "cell_type": "markdown",
      "metadata": {
        "id": "EP7wGSkpwRbU"
      },
      "source": [
        "## **Task 10**\n",
        "*   Ungraded\n",
        "\n",
        "\n",
        "\n"
      ]
    },
    {
      "cell_type": "markdown",
      "metadata": {
        "id": "_b7UjJkQwRbU"
      },
      "source": []
    },
    {
      "cell_type": "markdown",
      "metadata": {
        "id": "kb1P1DRvwRbU"
      },
      "source": []
    },
    {
      "cell_type": "code",
      "execution_count": null,
      "metadata": {
        "id": "xisZAfQawRbV"
      },
      "outputs": [],
      "source": []
    }
  ],
  "metadata": {
    "colab": {
      "collapsed_sections": [
        "DUzDX31cu0e6",
        "uKzaN58uvAvt",
        "OWEPL5TgvBJt",
        "qGnL0VWPvBTi",
        "qNzy8bjLvBcb",
        "4Ym7b3tNvBlD",
        "V4ubeIrsvB2H",
        "EiofXmPNvrfs"
      ],
      "provenance": []
    },
    "kernelspec": {
      "display_name": "Python 3",
      "name": "python3"
    },
    "language_info": {
      "name": "python"
    }
  },
  "nbformat": 4,
  "nbformat_minor": 0
}
