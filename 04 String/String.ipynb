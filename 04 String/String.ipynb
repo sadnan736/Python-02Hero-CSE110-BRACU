{
 "cells": [
  {
   "cell_type": "markdown",
   "metadata": {
    "id": "a3AoqV0pzMaH"
   },
   "source": [
    "<center>This assignment was issued by BRAC University</center>\n",
    "<br>\n",
    "<center>It was completed by Sadnan Islam</center>\n",
    "\n",
    "---\n",
    "<center><a href='https://www.linktr.ee/sadnan736'><img src='https://github.com/sadnan736/PythonA2Z-CSE110-BRACU/blob/main/Socials.png?raw=true'  width=\"200\"/></a></center>"
   ]
  },
  {
   "attachments": {},
   "cell_type": "markdown",
   "metadata": {
    "id": "XqUfY9RQuHys"
   },
   "source": [
    "## **Task 1**"
   ]
  },
  {
   "cell_type": "markdown",
   "metadata": {
    "id": "knIP9D6huqdh"
   },
   "source": [
    "Write a Python program that prints \"hello world\" in a console."
   ]
  },
  {
   "cell_type": "code",
   "execution_count": null,
   "metadata": {
    "colab": {
     "base_uri": "https://localhost:8080/"
    },
    "id": "d8KximDFunea",
    "outputId": "d2767946-f304-4eeb-df6b-9630890b4ab9"
   },
   "outputs": [],
   "source": []
  },
  {
   "attachments": {},
   "cell_type": "markdown",
   "metadata": {
    "id": "XqUfY9RQuHys"
   },
   "source": [
    "## **Task 2**"
   ]
  },
  {
   "cell_type": "markdown",
   "metadata": {
    "id": "knIP9D6huqdh"
   },
   "source": [
    "Write a Python program that prints \"hello world\" in a console."
   ]
  },
  {
   "cell_type": "code",
   "execution_count": null,
   "metadata": {
    "colab": {
     "base_uri": "https://localhost:8080/"
    },
    "id": "d8KximDFunea",
    "outputId": "d2767946-f304-4eeb-df6b-9630890b4ab9"
   },
   "outputs": [],
   "source": []
  },
  {
   "attachments": {},
   "cell_type": "markdown",
   "metadata": {
    "id": "XqUfY9RQuHys"
   },
   "source": [
    "## **Task 3**"
   ]
  },
  {
   "cell_type": "markdown",
   "metadata": {
    "id": "knIP9D6huqdh"
   },
   "source": [
    "Write a Python program that prints \"hello world\" in a console."
   ]
  },
  {
   "cell_type": "code",
   "execution_count": null,
   "metadata": {
    "colab": {
     "base_uri": "https://localhost:8080/"
    },
    "id": "d8KximDFunea",
    "outputId": "d2767946-f304-4eeb-df6b-9630890b4ab9"
   },
   "outputs": [],
   "source": []
  },
  {
   "attachments": {},
   "cell_type": "markdown",
   "metadata": {
    "id": "XqUfY9RQuHys"
   },
   "source": [
    "## **Task 4**"
   ]
  },
  {
   "cell_type": "markdown",
   "metadata": {
    "id": "knIP9D6huqdh"
   },
   "source": [
    "Write a Python program that prints \"hello world\" in a console."
   ]
  },
  {
   "cell_type": "code",
   "execution_count": null,
   "metadata": {
    "colab": {
     "base_uri": "https://localhost:8080/"
    },
    "id": "d8KximDFunea",
    "outputId": "d2767946-f304-4eeb-df6b-9630890b4ab9"
   },
   "outputs": [],
   "source": []
  },
  {
   "attachments": {},
   "cell_type": "markdown",
   "metadata": {
    "id": "XqUfY9RQuHys"
   },
   "source": [
    "## **Task 5**"
   ]
  },
  {
   "cell_type": "markdown",
   "metadata": {
    "id": "knIP9D6huqdh"
   },
   "source": [
    "Write a Python program that prints \"hello world\" in a console."
   ]
  },
  {
   "cell_type": "code",
   "execution_count": null,
   "metadata": {
    "colab": {
     "base_uri": "https://localhost:8080/"
    },
    "id": "d8KximDFunea",
    "outputId": "d2767946-f304-4eeb-df6b-9630890b4ab9"
   },
   "outputs": [],
   "source": []
  },
  {
   "attachments": {},
   "cell_type": "markdown",
   "metadata": {
    "id": "XqUfY9RQuHys"
   },
   "source": [
    "## **Task 6**"
   ]
  },
  {
   "cell_type": "markdown",
   "metadata": {
    "id": "knIP9D6huqdh"
   },
   "source": [
    "Write a Python program that prints \"hello world\" in a console."
   ]
  },
  {
   "cell_type": "code",
   "execution_count": null,
   "metadata": {
    "colab": {
     "base_uri": "https://localhost:8080/"
    },
    "id": "d8KximDFunea",
    "outputId": "d2767946-f304-4eeb-df6b-9630890b4ab9"
   },
   "outputs": [],
   "source": []
  },
  {
   "attachments": {},
   "cell_type": "markdown",
   "metadata": {
    "id": "XqUfY9RQuHys"
   },
   "source": [
    "## **Task 7**"
   ]
  },
  {
   "cell_type": "markdown",
   "metadata": {
    "id": "knIP9D6huqdh"
   },
   "source": [
    "Write a Python program that prints \"hello world\" in a console."
   ]
  },
  {
   "cell_type": "code",
   "execution_count": null,
   "metadata": {
    "colab": {
     "base_uri": "https://localhost:8080/"
    },
    "id": "d8KximDFunea",
    "outputId": "d2767946-f304-4eeb-df6b-9630890b4ab9"
   },
   "outputs": [],
   "source": []
  },
  {
   "attachments": {},
   "cell_type": "markdown",
   "metadata": {
    "id": "XqUfY9RQuHys"
   },
   "source": [
    "## **Task 8**"
   ]
  },
  {
   "cell_type": "markdown",
   "metadata": {
    "id": "knIP9D6huqdh"
   },
   "source": [
    "Write a Python program that prints \"hello world\" in a console."
   ]
  },
  {
   "cell_type": "code",
   "execution_count": null,
   "metadata": {
    "colab": {
     "base_uri": "https://localhost:8080/"
    },
    "id": "d8KximDFunea",
    "outputId": "d2767946-f304-4eeb-df6b-9630890b4ab9"
   },
   "outputs": [],
   "source": []
  },
  {
   "attachments": {},
   "cell_type": "markdown",
   "metadata": {
    "id": "XqUfY9RQuHys"
   },
   "source": [
    "## **Task 9**"
   ]
  },
  {
   "cell_type": "markdown",
   "metadata": {
    "id": "knIP9D6huqdh"
   },
   "source": [
    "Write a Python program that prints \"hello world\" in a console."
   ]
  },
  {
   "cell_type": "code",
   "execution_count": null,
   "metadata": {
    "colab": {
     "base_uri": "https://localhost:8080/"
    },
    "id": "d8KximDFunea",
    "outputId": "d2767946-f304-4eeb-df6b-9630890b4ab9"
   },
   "outputs": [],
   "source": []
  },
  {
   "attachments": {},
   "cell_type": "markdown",
   "metadata": {
    "id": "XqUfY9RQuHys"
   },
   "source": [
    "## **Task 10**"
   ]
  },
  {
   "cell_type": "markdown",
   "metadata": {
    "id": "knIP9D6huqdh"
   },
   "source": [
    "Write a Python program that prints \"hello world\" in a console."
   ]
  },
  {
   "cell_type": "code",
   "execution_count": null,
   "metadata": {
    "colab": {
     "base_uri": "https://localhost:8080/"
    },
    "id": "d8KximDFunea",
    "outputId": "d2767946-f304-4eeb-df6b-9630890b4ab9"
   },
   "outputs": [],
   "source": []
  },
  {
   "attachments": {},
   "cell_type": "markdown",
   "metadata": {
    "id": "XqUfY9RQuHys"
   },
   "source": [
    "## **Task 16**\n",
    "\n",
    "###### * Ungraded"
   ]
  },
  {
   "cell_type": "markdown",
   "metadata": {
    "id": "knIP9D6huqdh"
   },
   "source": [
    "Write a Python program that prints \"hello world\" in a console."
   ]
  },
  {
   "cell_type": "code",
   "execution_count": null,
   "metadata": {
    "colab": {
     "base_uri": "https://localhost:8080/"
    },
    "id": "d8KximDFunea",
    "outputId": "d2767946-f304-4eeb-df6b-9630890b4ab9"
   },
   "outputs": [],
   "source": []
  },
  {
   "attachments": {},
   "cell_type": "markdown",
   "metadata": {
    "id": "XqUfY9RQuHys"
   },
   "source": [
    "## **Task 17**\n",
    "\n",
    "###### * Ungraded"
   ]
  },
  {
   "cell_type": "markdown",
   "metadata": {
    "id": "knIP9D6huqdh"
   },
   "source": [
    "Write a Python program that prints \"hello world\" in a console."
   ]
  },
  {
   "cell_type": "code",
   "execution_count": null,
   "metadata": {
    "colab": {
     "base_uri": "https://localhost:8080/"
    },
    "id": "d8KximDFunea",
    "outputId": "d2767946-f304-4eeb-df6b-9630890b4ab9"
   },
   "outputs": [],
   "source": []
  },
  {
   "attachments": {},
   "cell_type": "markdown",
   "metadata": {
    "id": "XqUfY9RQuHys"
   },
   "source": [
    "## **Task 18**\n",
    "\n",
    "###### * Ungraded"
   ]
  },
  {
   "cell_type": "markdown",
   "metadata": {
    "id": "knIP9D6huqdh"
   },
   "source": [
    "Write a Python program that prints \"hello world\" in a console."
   ]
  },
  {
   "cell_type": "code",
   "execution_count": null,
   "metadata": {
    "colab": {
     "base_uri": "https://localhost:8080/"
    },
    "id": "d8KximDFunea",
    "outputId": "d2767946-f304-4eeb-df6b-9630890b4ab9"
   },
   "outputs": [],
   "source": []
  },
  {
   "attachments": {},
   "cell_type": "markdown",
   "metadata": {
    "id": "XqUfY9RQuHys"
   },
   "source": [
    "## **Task 19**\n",
    "\n",
    "###### * Ungraded"
   ]
  },
  {
   "cell_type": "markdown",
   "metadata": {
    "id": "knIP9D6huqdh"
   },
   "source": [
    "Write a Python program that prints \"hello world\" in a console."
   ]
  },
  {
   "cell_type": "code",
   "execution_count": null,
   "metadata": {
    "colab": {
     "base_uri": "https://localhost:8080/"
    },
    "id": "d8KximDFunea",
    "outputId": "d2767946-f304-4eeb-df6b-9630890b4ab9"
   },
   "outputs": [],
   "source": []
  }
 ],
 "metadata": {
  "kernelspec": {
   "display_name": "Python 3",
   "language": "python",
   "name": "python3"
  },
  "language_info": {
   "name": "python",
   "version": "3.10.7 (tags/v3.10.7:6cc6b13, Sep  5 2022, 14:08:36) [MSC v.1933 64 bit (AMD64)]"
  },
  "orig_nbformat": 4,
  "vscode": {
   "interpreter": {
    "hash": "3ace67975135ed89b0979b869152a5a6d7b3560399eafc83f8bdf4099fed6e66"
   }
  }
 },
 "nbformat": 4,
 "nbformat_minor": 2
}
