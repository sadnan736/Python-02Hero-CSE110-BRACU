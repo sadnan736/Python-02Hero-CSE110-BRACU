{
 "cells": [
  {
   "attachments": {},
   "cell_type": "markdown",
   "metadata": {
    "id": "a3AoqV0pzMaH"
   },
   "source": [
    "<center>This assignment was issued by BRAC University</center>\n",
    "<br>\n",
    "<center>It was completed by Sadnan Islam</center>\n",
    "\n",
    "---\n",
    "<center><a href='https://www.linktr.ee/sadnan736'><img src='https://github.com/sadnan736/PythonA2Z-CSE110-BRACU/blob/main/Socials.png?raw=true'  width=\"200\"/></a></center>"
   ]
  },
  {
   "attachments": {},
   "cell_type": "markdown",
   "metadata": {
    "id": "XqUfY9RQuHys"
   },
   "source": [
    "## **Task 1**"
   ]
  },
  {
   "attachments": {},
   "cell_type": "markdown",
   "metadata": {
    "id": "Vj5iukKauuzR"
   },
   "source": [
    "Write the Python code of a program that reads two numbers from the user, and prints their sum,\n",
    "product, and difference.\n",
    "###### *Hint: subtract the second number from the first one*\n",
    "\n",
    "---"
   ]
  },
  {
   "attachments": {},
   "cell_type": "markdown",
   "metadata": {},
   "source": [
    "**Example 1:** <br>\n",
    "**Sample Input:**<br>\n",
    "4 <br>\n",
    "5 <br>\n",
    "**Sample Output:** <br>\n",
    "Sum = 9 <br>\n",
    "Product = 20<br>\n",
    "Difference = -1<br>\n",
    "Example 2:<br>\n",
    "\n",
    "---\n",
    "**Sample Input:** <br>\n",
    "30<br>\n",
    "2<br>\n",
    "**Sample Output:**<br>\n",
    "Sum = 32<br>\n",
    "Product = 60<br>\n",
    "Difference = 28\n",
    "\n",
    "---"
   ]
  },
  {
   "cell_type": "code",
   "execution_count": null,
   "metadata": {
    "colab": {
     "base_uri": "https://localhost:8080/"
    },
    "id": "d8KximDFunea",
    "outputId": "d2767946-f304-4eeb-df6b-9630890b4ab9"
   },
   "outputs": [],
   "source": [
    "# the following solution and explanation was provided by BRAC University.\n",
    "\n",
    "# First, we take 2 numbers as input from the user\n",
    "# Read 2 numbers as input from the user means taking 2 numbers as input\n",
    "# from the user using the input function\n",
    "var_1 = input('Please enter the first number: ')\n",
    "var_2 = input('Please enter the second number: ')\n",
    "\n",
    "#Since input() function converts everything to String,\n",
    "#For performing any kind of mathematical operation we need to convert them to int.\n",
    "#For this conversion, we need to use the int() function\n",
    "\n",
    "#But at first, we may clarify whether the inputs are actually Strings or not.\n",
    "print(type(var_1))\n",
    "print(type(var_2))\n",
    "\n",
    "#Then we convert the Strings to integer using the int() function\n",
    "var_3 = int(var_1)\n",
    "var_4 = int(var_2)\n",
    "\n",
    "#Input taking and conversion can be done in a single line as shown below\n",
    "#var_1 = int(input('Please enter the first number: '))\n",
    "#var_2 = int(input('Please enter the second number: '))\n",
    "\n",
    "#We may then perform Addition\n",
    "total = var_3 + var_4\n",
    "\n",
    "#Multiplication\n",
    "product = var_3 * var_4\n",
    "#Subtraction\n",
    "difference = var_3 - var_4\n",
    "\n",
    "#And then print all the calculated results\n",
    "print(\"Sum =\", total)\n",
    "print(\"Product =\", product)\n",
    "print(\"Difference =\", difference)"
   ]
  },
  {
   "attachments": {},
   "cell_type": "markdown",
   "metadata": {
    "id": "XqUfY9RQuHys"
   },
   "source": [
    "## **Task 2**"
   ]
  },
  {
   "attachments": {},
   "cell_type": "markdown",
   "metadata": {
    "id": "knIP9D6huqdh"
   },
   "source": [
    "Write the Python code of a program that reads the radius of a circle and prints its circumference\n",
    "and area.\n",
    "\n",
    "---\n",
    "###### *hint(1): we may import math and then use math.pi for getting the value of pi.* <br>\n",
    "###### *For details, we can read from https://docs.python.org/3/library/math.html*\n",
    "###### *hint(2): we can import math and use the math function for making squares with math.pow(number, power) or we can simply use the power operator. For example: S**2.*\n",
    "\n",
    "---"
   ]
  },
  {
   "attachments": {},
   "cell_type": "markdown",
   "metadata": {
    "id": "Vj5iukKauuzR"
   },
   "source": [
    "**Example 1:** <br>\n",
    "**Sample Input:**<br>\n",
    "4<br>\n",
    "**Sample Output:**<br>\n",
    "Area is 50.26548245743669<br>\n",
    "Circumference is 25.132741228718345<br>\n",
    "\n",
    "---\n",
    "**Example 2:**<br>\n",
    "**Sample Input:**<br>\n",
    "3.5<br>\n",
    "**Sample Output:**<br>\n",
    "Area is 38.48451000647496<br>\n",
    "Circumference is 21.991148575128552<br>\n",
    "\n",
    "---"
   ]
  },
  {
   "cell_type": "code",
   "execution_count": 3,
   "metadata": {
    "colab": {
     "base_uri": "https://localhost:8080/"
    },
    "id": "d8KximDFunea",
    "outputId": "d2767946-f304-4eeb-df6b-9630890b4ab9"
   },
   "outputs": [
    {
     "name": "stdout",
     "output_type": "stream",
     "text": [
      "Area is: 38.48451000647496\n",
      "Circumference is 21.991148575128552\n"
     ]
    }
   ],
   "source": [
    "# the area calculation and the explanation until was given by BRACU University and slighly edited by me\n",
    "\n",
    "import math\n",
    "\n",
    "# taking input from the user, then converting it to float\n",
    "# since radius can be a floating point value\n",
    "\n",
    "radius = float(input(\"Please enter the radius value:\"))\n",
    "\n",
    "# squares can be made using these 3 ways, as give in hints\n",
    "# all 3 ways generates the same result for area\n",
    "\n",
    "# area = math.pi * radius ** 2\n",
    "# print(\"Area is:\", area)\n",
    "\n",
    "#area = math.pi * radius * radius\n",
    "# print(\"Area is:\", area)\n",
    "\n",
    "area = math.pi * math.pow(radius, 2)\n",
    "print(\"Area is:\", area)\n",
    "\n",
    "\n",
    "circum = 2* math.pi *radius\n",
    "print('Circumference is', circum)"
   ]
  },
  {
   "attachments": {},
   "cell_type": "markdown",
   "metadata": {
    "id": "XqUfY9RQuHys"
   },
   "source": [
    "## **Task 3**"
   ]
  },
  {
   "attachments": {},
   "cell_type": "markdown",
   "metadata": {
    "id": "knIP9D6huqdh"
   },
   "source": [
    "Write the Python code of a program that reads two numbers from the user. The program should\n",
    "then print \"First is greater\" if the first number is greater, \"Second is greater\" if the second number\n",
    "is greater, and \"The numbers are equal\" otherwise"
   ]
  },
  {
   "attachments": {},
   "cell_type": "markdown",
   "metadata": {
    "id": "Vj5iukKauuzR"
   },
   "source": [
    "---\n",
    "**Sample Input 1:**<br>\n",
    "7<br>\n",
    "3<br>\n",
    "**Sample Output 1:**<br>\n",
    "First is greater<br>\n",
    "\n",
    "---\n",
    "**Sample Input 2:**<br>\n",
    "-33<br>\n",
    "-3<br>\n",
    "**Sample Output 2:**<br>\n",
    "Second is greater<br>\n",
    "\n",
    "---\n",
    "**Sample Input 1:**<br>\n",
    "11<br>\n",
    "11<br>\n",
    "**Sample Output 1:**<br>\n",
    "The numbers are equal<br>"
   ]
  },
  {
   "cell_type": "code",
   "execution_count": null,
   "metadata": {
    "colab": {
     "base_uri": "https://localhost:8080/"
    },
    "id": "d8KximDFunea",
    "outputId": "d2767946-f304-4eeb-df6b-9630890b4ab9"
   },
   "outputs": [],
   "source": [
    "\n",
    "# take 2 numbers a inputs\n",
    "# we will convert the inputs to floats because we can't cast float strings into intergers\n",
    "# if someone inputs a float it will show syntax error\n",
    "\n",
    "numb1  = float(input())\n",
    "numb2  = float(input())\n",
    "\n",
    "# now we can make some if else conditions\n",
    "# remember \"==\" gives us a value of True if both sides are equal else returns False\n",
    "# we only go into a if elif condition if ye have True\n",
    "# suppose we have a = 1, b = 1\n",
    "# now we if we do x = a == b, the value will be True\n",
    "# and now if we type \"if x:\", it will go into that condition\n",
    "\n",
    "# let's check if numb1 is bigger\n",
    "if numb1 > numb2:\n",
    "\n",
    "    # if numb1 is bigger than numb2, we will go into this condition\n",
    "    # now lets print\n",
    "    print(f'First is greater')\n",
    "\n",
    "# if first condition wasn't True, we can give another linked condiiton with \"elif\"\n",
    "# which will only run when first if condition is False\n",
    "\n",
    "elif numb2 > numb1:\n",
    "\n",
    "    print('Second is greater')\n",
    "\n",
    "# now if 'elif' condition was also false, we have to check if they're equal\n",
    "# we can go about this in two different ways\n",
    "# firstly we can just create another elif condition that just checks if they're equal with '=='\n",
    "# or we can use 'else' condition\n",
    "# now if we have two real numbers, none of them is bigger or smaller than other one. what are they?\n",
    "# they are equal\n",
    "# this what else condition is\n",
    "# after checking all conditions and none of them giving us a True outcome,\n",
    "# if there's an else condition then Python will go into that\n",
    "\n",
    "else:\n",
    "    print('The numbers are equal')"
   ]
  },
  {
   "attachments": {},
   "cell_type": "markdown",
   "metadata": {
    "id": "XqUfY9RQuHys"
   },
   "source": [
    "## **Task 4**"
   ]
  },
  {
   "attachments": {},
   "cell_type": "markdown",
   "metadata": {
    "id": "knIP9D6huqdh"
   },
   "source": [
    "Write the Python code of a program that reads two numbers, subtracts the smaller number from\n",
    "the larger one, and prints the result.\n",
    "\n",
    "---\n",
    "###### *Hint: First, we may check which number is greater*"
   ]
  },
  {
   "attachments": {},
   "cell_type": "markdown",
   "metadata": {
    "id": "Vj5iukKauuzR"
   },
   "source": [
    "---\n",
    "**Sample Input 1:**<br>\n",
    "-40<br>\n",
    "-4<br>\n",
    "**Sample Output 1:**<br>\n",
    "36<br>\n",
    "**Explanation:** -4 > -40 so -4 - (-40) = -4 + 40 = 36<br>\n",
    "\n",
    "\n",
    "---\n",
    "**Sample Input 2:**<br>\n",
    "6<br>\n",
    "2<br>\n",
    "**Sample Output 2:**<br>\n",
    "4<br>\n",
    "\n",
    "---\n",
    "**Sample Input 3:**<br>\n",
    "5<br>\n",
    "5<br>\n",
    "**Sample Output 3:**<br>\n",
    "0<br>"
   ]
  },
  {
   "cell_type": "code",
   "execution_count": 5,
   "metadata": {
    "colab": {
     "base_uri": "https://localhost:8080/"
    },
    "id": "d8KximDFunea",
    "outputId": "d2767946-f304-4eeb-df6b-9630890b4ab9"
   },
   "outputs": [
    {
     "name": "stdout",
     "output_type": "stream",
     "text": [
      "0\n"
     ]
    }
   ],
   "source": [
    "# take inputs\n",
    "f1 = float(input())\n",
    "f2 = float(input())\n",
    "\n",
    "# check which is bigger and substract the smaller\n",
    "# add equals in one of the conditions because we wouldn't get any output if user had input two equal numbers\n",
    "# to add less/greater than and equals conditions together we use \"<=\" or \">=\"; remeber to put equals to always in right\n",
    "\n",
    "if f1>=f2:\n",
    "  print(int(f1-f2))\n",
    "elif f1<f2:\n",
    "  print(int(f2-f1))"
   ]
  },
  {
   "attachments": {},
   "cell_type": "markdown",
   "metadata": {
    "id": "XqUfY9RQuHys"
   },
   "source": [
    "## **Task 5**"
   ]
  },
  {
   "attachments": {},
   "cell_type": "markdown",
   "metadata": {
    "id": "knIP9D6huqdh"
   },
   "source": [
    "Write the Python code of a program that reads a number, and prints \"The number is even\" or\n",
    "\"The number is odd\", depending on whether the number is even or odd. <br>\n",
    "\n",
    "###### hint(1): *we may use the modulus (%) operator to check for even or odd*\n",
    "###### hint(2): *we can consider the number to be an integer*\n",
    "\n",
    "---"
   ]
  },
  {
   "attachments": {},
   "cell_type": "markdown",
   "metadata": {
    "id": "Vj5iukKauuzR"
   },
   "source": [
    "**Sample Input 1:** <br>\n",
    "7<br>\n",
    "**Sample Output 1:**<br>\n",
    "The number is odd<br>\n",
    "\n",
    "---\n",
    "**Sample Input 2:**<br>\n",
    "10<br>\n",
    "**Sample Output 2:**<br>\n",
    "The number is even<br>\n",
    "\n",
    "---\n",
    "**Sample Input 3:**<br>\n",
    "-44<br>\n",
    "**Sample Output 3:**<br>\n",
    "The number is even<br>"
   ]
  },
  {
   "cell_type": "code",
   "execution_count": null,
   "metadata": {
    "colab": {
     "base_uri": "https://localhost:8080/"
    },
    "id": "d8KximDFunea",
    "outputId": "d2767946-f304-4eeb-df6b-9630890b4ab9"
   },
   "outputs": [],
   "source": [
    "numb = int(input())\n",
    "\n",
    "# if an even number is divided by 2, the remainder will always be 0\n",
    "# we can get the remainder of an operation with the modulus (%) operator and check if that's zero\n",
    "remainder = numb%2\n",
    "if remainder == 0:\n",
    "  print(\"The number is even\")\n",
    "\n",
    "else:\n",
    "  print(\"The number is odd\")"
   ]
  },
  {
   "attachments": {},
   "cell_type": "markdown",
   "metadata": {
    "id": "XqUfY9RQuHys"
   },
   "source": [
    "## **Task 6**"
   ]
  },
  {
   "attachments": {},
   "cell_type": "markdown",
   "metadata": {
    "id": "knIP9D6huqdh"
   },
   "source": [
    "Write the Python code of a program that reads an integer as input from the user, and prints the\n",
    "integer if it is a multiple of 2 OR 5 and prints \"Not a multiple of 2 OR 5\" otherwise. <br>\n",
    "For example, 2, 4, 5, 6, 8, 10, 12, 14, 15, 16, 18, 20, 22 … i.e. this includes multiples of 2 only,\n",
    "multiples of 5 only and multiples of 2 and 5 both.\n",
    "\n",
    "###### hint(1): *we may use the modulus (%) operator for checking the divisibility*\n",
    "###### hint(2): *we can consider the number to be an integer*\n",
    "\n",
    "---\n"
   ]
  },
  {
   "attachments": {},
   "cell_type": "markdown",
   "metadata": {
    "id": "Vj5iukKauuzR"
   },
   "source": [
    "\n",
    "**Sample Input 1:** <br>\n",
    "5<br>\n",
    "**Sample Output 1:**<br>\n",
    "5<br>\n",
    "\n",
    "---\n",
    "**Sample Input 2:**<br>\n",
    "10<br>\n",
    "**Sample Output 2:**<br>\n",
    "10<br>\n",
    "\n",
    "---\n",
    "**Sample Input 3:**<br>\n",
    "3<br>\n",
    "**Sample Output 3:**<br>\n",
    "Not a multiple of 2 OR 5<br>"
   ]
  },
  {
   "cell_type": "code",
   "execution_count": null,
   "metadata": {
    "colab": {
     "base_uri": "https://localhost:8080/"
    },
    "id": "d8KximDFunea",
    "outputId": "d2767946-f304-4eeb-df6b-9630890b4ab9"
   },
   "outputs": [],
   "source": [
    "# take input\n",
    "numb = int(input())\n",
    "\n",
    "# to find if a mutlpile of x, we need to know if their division (numb/x) will result in a remainder of 0\n",
    "# we know we can find remainder using '%'\n",
    "\n",
    "# we can use the \"or\" function to to join two conditions together,\n",
    "# and even if one of them is 'True', the if condition will pass through\n",
    "# eg: (True or True: True); (True or False : False); (False or False : False)\n",
    "\n",
    "if numb%2==0 or numb%5==0:\n",
    "  print(numb)\n",
    "else:\n",
    "  print(\"Not a multiple of 2 OR 5\")"
   ]
  },
  {
   "attachments": {},
   "cell_type": "markdown",
   "metadata": {
    "id": "XqUfY9RQuHys"
   },
   "source": [
    "## **Task 7**"
   ]
  },
  {
   "attachments": {},
   "cell_type": "markdown",
   "metadata": {
    "id": "knIP9D6huqdh"
   },
   "source": [
    "Write the Python code of a program that reads an integer, and prints the integer it is a multiple of **either 2 or 5 but not both**. If the number is a multiple of 2 and 5 both, then print \"Multiple of 2 and 5 both\". For all other numbers, the program prints \"Not a multiple we want\". <br>\n",
    "For example, 2, 4, 5, 6, 8, 12, 14, 15, 16, 18, 22 … i.e. this includes multiples of 2 only and multiples of 5 only, NOT multiples of 2 and 5 both or other numbers. \n",
    "\n",
    "---\n",
    "###### hint(1): *we may use the modulus (%) operator for checking the divisibility*\n",
    "###### hint(2): *we can consider the number to be an integer*\n",
    "\n",
    "---"
   ]
  },
  {
   "attachments": {},
   "cell_type": "markdown",
   "metadata": {
    "id": "Vj5iukKauuzR"
   },
   "source": [
    "**Sample Input 1:**<br>\n",
    "6<br>\n",
    "**Sample Output 1:**<br>\n",
    "6<br>\n",
    "\n",
    "---\n",
    "**Sample Input 2:**<br>\n",
    "15<br>\n",
    "**Sample Output 2:**<br>\n",
    "15<br>\n",
    "\n",
    "---\n",
    "**Sample Input 3:**<br>\n",
    "10<br>\n",
    "**Sample Output 3:**<br>\n",
    "Multiple of 2 and 5 both<br>\n",
    "\n",
    "---\n",
    "\n",
    "**Sample Input 4:**<br>\n",
    "17<br>\n",
    "**Sample Output 4:**<br>\n",
    "Not a multiple we want<br>"
   ]
  },
  {
   "cell_type": "code",
   "execution_count": null,
   "metadata": {
    "colab": {
     "base_uri": "https://localhost:8080/"
    },
    "id": "d8KximDFunea",
    "outputId": "d2767946-f304-4eeb-df6b-9630890b4ab9"
   },
   "outputs": [],
   "source": [
    "# first we need to take input\n",
    "numb = int(input())\n",
    "\n",
    "# now we know that (True or False : True). So if we put a multiple of 2 with a condition of multiple of 2 or 5, then we will get back True\n",
    "# but we need to differentiate them. So, here a condition \"and\". If and only if all the conditions are met, then the condition will be True\n",
    "# eg: (True and True : True); (True and False : False); (False and True : False); (False and False: False)\n",
    "\n",
    "# give 'and' codition first, else the input will go to 'or' condition if it's a multiple of 2 or 5 or both, and will never go to 'and' condition\n",
    "# because only if 'if' condition is not met, Python will go to elif condition\n",
    "\n",
    "\n",
    "if numb%2==0 and numb%5==0:\n",
    "  print(\"Multiple of 2 and 5 both\")\n",
    "\n",
    "# now 'and' codition\n",
    "elif numb%2==0 or numb%5==0:\n",
    "  print(numb)\n",
    "\n",
    "else:\n",
    "  print(\"Not a multiple we want\")"
   ]
  },
  {
   "attachments": {},
   "cell_type": "markdown",
   "metadata": {
    "id": "XqUfY9RQuHys"
   },
   "source": [
    "## **Task 8**"
   ]
  },
  {
   "attachments": {},
   "cell_type": "markdown",
   "metadata": {
    "id": "knIP9D6huqdh"
   },
   "source": [
    "Write the Python code of a program that reads an integer, and prints the integer if it is a multiple of 2 AND 5 and prints \"Not multiple of 2 and 5 both\" otherwise.\n",
    "\n",
    "---\n",
    "###### *hint(1): we may use the modulus (%) operator for checking the divisibility*\n",
    "###### *hint(2): we can consider the number to be an integer*"
   ]
  },
  {
   "attachments": {},
   "cell_type": "markdown",
   "metadata": {
    "id": "Vj5iukKauuzR"
   },
   "source": [
    "---\n",
    "**Sample Input 1:** <br>\n",
    "30<br>\n",
    "**Sample Output 1:**<br>\n",
    "30<br>\n",
    "\n",
    "---\n",
    "**Sample Input 2:**<br>\n",
    "15<br>\n",
    "**Sample Output 2:**<br>\n",
    "Not multiple of 2 and 5 both<br>\n",
    "\n",
    "---\n",
    "**Sample Input 3:**<br>\n",
    "6<br>\n",
    "**Sample Output 3:**<br>\n",
    "Not multiple of 2 and 5 both<br>\n"
   ]
  },
  {
   "cell_type": "code",
   "execution_count": null,
   "metadata": {
    "colab": {
     "base_uri": "https://localhost:8080/"
    },
    "id": "d8KximDFunea",
    "outputId": "d2767946-f304-4eeb-df6b-9630890b4ab9"
   },
   "outputs": [],
   "source": [
    "# we just did a harder version of this in the previous task\n",
    "\n",
    "numb = int(input())\n",
    "\n",
    "if numb%2==0 and numb%5==0:\n",
    "  print(numb)\n",
    "else:\n",
    "  print(\"Not multiple of 2 and 5 both\")"
   ]
  },
  {
   "attachments": {},
   "cell_type": "markdown",
   "metadata": {
    "id": "XqUfY9RQuHys"
   },
   "source": [
    "## **Task 9**"
   ]
  },
  {
   "attachments": {},
   "cell_type": "markdown",
   "metadata": {
    "id": "knIP9D6huqdh"
   },
   "source": [
    "Write the Python code of a program that finds the number of hours, minutes, and seconds in a given number of seconds. The number of seconds is taken as input from the user. \n",
    "\n",
    "---\n",
    "###### *hint(1): we may consider our user input to be an integer value and use // and % operators to solve the problem*\n",
    "###### *hint(2): 1 hour = 60 mins = 3600 seconds and 1 min = 60 seconds*\n",
    "\n",
    "---"
   ]
  },
  {
   "attachments": {},
   "cell_type": "markdown",
   "metadata": {
    "id": "Vj5iukKauuzR"
   },
   "source": [
    "**Sample Input 1:**<br>\n",
    "10000<br>\n",
    "**Sample Output 1:**<br>\n",
    "Hours: 2 Minutes: 46 Seconds: 40<br>\n",
    "**Explanation:**<br>\n",
    "10000 seconds = 10000 // 3600 = 2 hours and 10000 % 3600 = 2800 seconds.<br>\n",
    "Then again, 2800 // 60 = 46 minutes and 2800 % 60 = 40 seconds.<br>\n",
    "And hence we have arrived at our answer.<br>\n",
    "\n",
    "---\n",
    "**Sample Input 2:**<br>\n",
    "500<br>\n",
    "**Sample Output 2:**<br>\n",
    "Hours: 0 Minutes: 8 Seconds: 20<br>"
   ]
  },
  {
   "cell_type": "code",
   "execution_count": 1,
   "metadata": {
    "colab": {
     "base_uri": "https://localhost:8080/"
    },
    "id": "d8KximDFunea",
    "outputId": "d2767946-f304-4eeb-df6b-9630890b4ab9"
   },
   "outputs": [
    {
     "name": "stdout",
     "output_type": "stream",
     "text": [
      "Hours: 0 Minutes: 8 Seconds: 500\n"
     ]
    }
   ],
   "source": [
    "seconds = int(input())\n",
    "# floor divide seconds by 3600 (1 hour = 3600 seconds) to get total hours\n",
    "hours = seconds//3600\n",
    "# the remainder of the division will be our seconds left to convert\n",
    "seconds = seconds%3600\n",
    "\n",
    "# floor divide seconds by 60 (1 minute = 60 seconds) to get total minutes\n",
    "minutes = seconds//60\n",
    "# the remainder of the division will be our total seconds\n",
    "seconds = seconds%3600\n",
    "\n",
    "# format the output\n",
    "print(f\"Hours: {hours} Minutes: {minutes} Seconds: {seconds}\")"
   ]
  },
  {
   "attachments": {},
   "cell_type": "markdown",
   "metadata": {
    "id": "XqUfY9RQuHys"
   },
   "source": [
    "## **Task 10**"
   ]
  },
  {
   "attachments": {},
   "cell_type": "markdown",
   "metadata": {
    "id": "knIP9D6huqdh"
   },
   "source": [
    "Write a Python program to compute and display a person’s weekly salary as determined by the following conditions:<br>\n",
    "*   If the hours worked is less than or equal to 40, then the person receives Tk 200 per hour.<br>\n",
    "*   If the hours worked is greater than 40, then the person receives Tk 8000 plus Tk 300 for each hour worked over 40 hours.<br>\n",
    "\n",
    "The program should request the hours worked as an input from the user and display the salary as output. You need to make sure that user input is valid. For example, a person cannot work for -5 hours or more than 168 hours in a week. So, the valid hours range is 0 to 168. For invalid hours, print outputs as given in the samples below.<br>\n",
    "\n",
    "---\n",
    "###### *Hint: you can consider the hour (user input) to be an integer*\n",
    "\n",
    "---\n"
   ]
  },
  {
   "attachments": {},
   "cell_type": "markdown",
   "metadata": {
    "id": "Vj5iukKauuzR"
   },
   "source": [
    "**Sample Input 1:**<br>\n",
    "100<br>\n",
    "**Sample Output 1:**<br>\n",
    "26000<br>\n",
    "**Explanation:** Since, the number of hours worked is 100 > 40, therefore salary = 8000 + (100 - 40) * 300 = 26000.<br>\n",
    "\n",
    "---\n",
    "**Sample Input 2:**<br>\n",
    "30<br>\n",
    "**Sample Output 2:**<br>\n",
    "6000<br>\n",
    "**Explanation:** Since, the number of hours worked is 30 < 40, therefore salary = 30 * 200 = 6000.<br>\n",
    "\n",
    "---\n",
    "**Sample Input 3:**<br>\n",
    "-30<br>\n",
    "**Sample Output 3:**<br>\n",
    "Hour cannot be negative<br>\n",
    "\n",
    "---\n",
    "**Sample Input 4:**<br>\n",
    "170<br>\n",
    "**Sample Output 4:**<br>\n",
    "Impossible to work more than 168 hours weekly<br>\n"
   ]
  },
  {
   "cell_type": "code",
   "execution_count": 1,
   "metadata": {
    "colab": {
     "base_uri": "https://localhost:8080/"
    },
    "id": "d8KximDFunea",
    "outputId": "d2767946-f304-4eeb-df6b-9630890b4ab9"
   },
   "outputs": [
    {
     "name": "stdout",
     "output_type": "stream",
     "text": [
      "Impossible to work more than 168 hours weekly\n"
     ]
    }
   ],
   "source": [
    "# take input\n",
    "hour = int(input())\n",
    "# to do this task we have to nest conditions together. meaning, we have to use if conditions in another if condition\n",
    "\n",
    "# we only want to do possible calculations, if a person works works for 24 hours straigh for 1 week (which is almost impossible)\n",
    "# he will only work for 168 hours. so we will only take hours that are less or euqals to 168\n",
    "if hour <= 168:\n",
    "    \n",
    "    # hours can not be in negative, so we have to check for that\n",
    "    if hour >=0:\n",
    "        \n",
    "        # now, if hour is less than or equals to 40, we will just multiply in by 200 to get salary\n",
    "        if hour<=40:\n",
    "          print(hour*200)\n",
    "\n",
    "        # but if it is more, we will just multiply the extra hours by 300 and add it with 8000 (40*200)\n",
    "        elif hour>40:\n",
    "          print(8000+((hour-40)*300))\n",
    "\n",
    "    # if total worked hour is in negative, python will come here\n",
    "    else:\n",
    "      print(\"Hour cannot be negative\")\n",
    "\n",
    "# if total worked hour is greater than 0, it will come here\n",
    "else:\n",
    "  print(\"Impossible to work more than 168 hours weekly\")"
   ]
  },
  {
   "attachments": {},
   "cell_type": "markdown",
   "metadata": {
    "id": "XqUfY9RQuHys"
   },
   "source": [
    "## **Task 11**"
   ]
  },
  {
   "attachments": {
    "image.png": {
     "image/png": "[encoded data removed]"
    }
   },
   "cell_type": "markdown",
   "metadata": {
    "id": "knIP9D6huqdh"
   },
   "source": [
    "Suppose the following expressions are used to calculate the values of L for different values of S:<br>\n",
    "![equation](attachment:image.png)<br>\n",
    "Write the Python code of a program that reads a value of S and then calculates the value of L.<br>\n",
    "\n",
    "---\n",
    "###### *hint(1): you can import math and use math function for making squares with math.pow(number, power) or you can simply write S ** 2.*\n",
    "###### *hint(2): the value of S(user input) will be an integer*\n",
    "\n",
    "---"
   ]
  },
  {
   "attachments": {},
   "cell_type": "markdown",
   "metadata": {
    "id": "Vj5iukKauuzR"
   },
   "source": [
    "**Sample Input 1:**<br>\n",
    "120<br>\n",
    "**Sample Output 1:**<br>\n",
    "2416.2162162162163<br>\n",
    "**Explanation:** Since S (user input) given here is 120 >= 100, so L = 12000 / (4 + (120 * 120)/14900) = 2416.2162162162163<br>\n",
    "\n",
    "---\n",
    "**Sample Input 2:**<br>\n",
    "3<br>\n",
    "**Sample Output 2:**<br>\n",
    "1875<br>\n",
    "**Explanation:** Since S (user input) given here is 3 < 100, so L = 3000 - 125 * 3 * 3 = 1875<br>"
   ]
  },
  {
   "cell_type": "code",
   "execution_count": 4,
   "metadata": {
    "colab": {
     "base_uri": "https://localhost:8080/"
    },
    "id": "d8KximDFunea",
    "outputId": "d2767946-f304-4eeb-df6b-9630890b4ab9"
   },
   "outputs": [
    {
     "name": "stdout",
     "output_type": "stream",
     "text": [
      "2416.2162162162163\n"
     ]
    }
   ],
   "source": [
    "import math\n",
    "s = int(input())\n",
    "\n",
    "if s < 100:\n",
    "\n",
    "  #python follows the order of operations\n",
    "  L =3000 - 125*math.pow(s,2)\n",
    "\n",
    "elif s >=100:\n",
    "  \n",
    "  #python follows the order of operations\n",
    "  L = 12000/(4+math.pow(s,2)/14900)\n",
    "print(L)"
   ]
  },
  {
   "attachments": {},
   "cell_type": "markdown",
   "metadata": {
    "id": "XqUfY9RQuHys"
   },
   "source": [
    "## **Task 12**"
   ]
  },
  {
   "attachments": {},
   "cell_type": "markdown",
   "metadata": {
    "id": "knIP9D6huqdh"
   },
   "source": [
    "Write a Python program that takes an hour from the user as input and tells it is time for which meal. <br>\n",
    "• The user will input the number in a 24-hour format. So, 14 means 2 pm, 3 means 3 am, 18 means 6 pm, etc.<br>\n",
    "• Valid inputs are 0 to 23. Inputs less than 0 or more than 23 are invalid in 24-hour clock.<br>\n",
    "• Assume, input will be whole numbers. For example, 3.5 will NOT be given as input.<br>\n",
    "\n",
    "---\n",
    "**Input range: Message to be printed**<br>\n",
    "4 to 6: Breakfast<br>\n",
    "12 to 13: Lunch<br>\n",
    "16 to 17: Snacks<br>\n",
    "19 to 20: Dinner<br>\n",
    "For all other valid inputs, say \"Patience is a virtue\"<br>\n",
    "For all other invalid inputs, say \"Wrong time\"\n",
    "\n",
    "---"
   ]
  },
  {
   "attachments": {},
   "cell_type": "markdown",
   "metadata": {
    "id": "Vj5iukKauuzR"
   },
   "source": [
    "For example,<br>\n",
    "If the user enters 4, your program should print the message \"Breakfast\".<br>\n",
    "If the user enters 5, your program should print the message \"Breakfast\".<br>\n",
    "If the user enters 6, your program should print the message \"Breakfast\".<br>\n",
    "If the user enters 0, your program should print the message \"Patience is a virtue\".<br>\n",
    "If the user enters 1, your program should print the message \"Patience is a virtue\".<br>\n",
    "If the user enters 18, your program should print the message \"Patience is a virtue\".<br>\n",
    "If the user enters 23, your program should print the message \"Patience is a virtue\".<br>\n",
    "If the user enters 24, your program should print the message \"Wrong Time\".<br>\n",
    "If the user enters -1, your program should print the message \"Wrong Time\".<br>\n",
    "If the user enters 27, your program should print the message \"Wrong time\".<br>\n",
    "\n",
    "---\n",
    "Hints: You can use nested conditionals (if-else) or chained conditions (if-elif-else) to solve this problem.\n"
   ]
  },
  {
   "cell_type": "code",
   "execution_count": 6,
   "metadata": {
    "colab": {
     "base_uri": "https://localhost:8080/"
    },
    "id": "d8KximDFunea",
    "outputId": "d2767946-f304-4eeb-df6b-9630890b4ab9"
   },
   "outputs": [
    {
     "name": "stdout",
     "output_type": "stream",
     "text": [
      "Lunch\n"
     ]
    }
   ],
   "source": [
    "time = int(input())\n",
    "# this task is easy, we just need to give a validations condition first, then just nest all the conditions in them\n",
    "\n",
    "# first we need to check for valid time, in a 24 hour fromat, time can't be less than 0 or more than 24\n",
    "if time >=0 and time <=23:\n",
    "\n",
    "  # for breakfast\n",
    "  if time >=4 and time <=6:\n",
    "    print(\"Breakfast\")\n",
    "\n",
    "  # for lunch\n",
    "  elif time >=12 and time <= 13:\n",
    "    print('Lunch')\n",
    "  \n",
    "  # for snacks\n",
    "  elif time >=16 and time <=17:\n",
    "    print(\"Snacks\")\n",
    "  \n",
    "  # for dinner\n",
    "  elif time >=19 and time <= 20:\n",
    "    print(\"Dinner\")\n",
    "  \n",
    "  # if no other conditions match, it will come here and print \"Patience is a virtue\"\n",
    "  else:\n",
    "    print(\"Patience is a virtue\")\n",
    "\n",
    "# if time is invalid, Python will go here\n",
    "else:\n",
    "  print(\"Wrong time\")"
   ]
  },
  {
   "attachments": {},
   "cell_type": "markdown",
   "metadata": {
    "id": "XqUfY9RQuHys"
   },
   "source": [
    "## **Task 13**"
   ]
  },
  {
   "attachments": {},
   "cell_type": "markdown",
   "metadata": {
    "id": "knIP9D6huqdh"
   },
   "source": [
    "Write the Python code of a program that reads a student’s mark for a single subject, and prints out the corresponding grade for that mark. The mark ranges and corresponding grades are shown in the table below. You need to make sure that the mark is valid. For example, a student cannot receive -5 or 110 marks. So, the valid marks range from 0 to 100. <br>\n",
    "\n",
    "---\n",
    "###### *hint(1): you can consider the number to be an integer*\n",
    "###### *hint(2): this problem can be solved in two ways: top-down (starts from A) and bottom-up (starts from F)*\n",
    "\n",
    "---\n"
   ]
  },
  {
   "attachments": {},
   "cell_type": "markdown",
   "metadata": {
    "id": "Vj5iukKauuzR"
   },
   "source": [
    "<table>\n",
    "<tr>\n",
    "    <th>Sample Input</th> \n",
    "    <th>Sample Output</th>\n",
    "</tr>\n",
    "\n",
    "<tr>\n",
    "    <td>90 or above</td>\n",
    "    <td>A</td> \n",
    "</tr>\n",
    "\n",
    "<tr>\n",
    "    <td>80-89</td>\n",
    "    <td>B</td> \n",
    "</tr>\n",
    "\n",
    "<tr>\n",
    "    <td>70-79</td>\n",
    "    <td>C</td> \n",
    "</tr>\n",
    "\n",
    "<tr>\n",
    "    <td>60-69</td>\n",
    "    <td>D</td> \n",
    "</tr>\n",
    "\n",
    "<tr>\n",
    "    <td>50-59</td>\n",
    "    <td>E</td> \n",
    "</tr>\n",
    "\n",
    "<tr>\n",
    "    <td>Below 50</td>\n",
    "    <td>F</td> \n",
    "</tr>\n",
    " </table>"
   ]
  },
  {
   "cell_type": "code",
   "execution_count": null,
   "metadata": {
    "colab": {
     "base_uri": "https://localhost:8080/"
    },
    "id": "d8KximDFunea",
    "outputId": "d2767946-f304-4eeb-df6b-9630890b4ab9"
   },
   "outputs": [],
   "source": [
    "# this task is just the previous task\n",
    "# make one condition for validating tasks and then nest the required conditions\n",
    "\n",
    "marks = int(input())\n",
    "\n",
    "if marks>=0 and marks<=100:\n",
    "\n",
    "  # we don't need to give upper limit because invalid numbers won't enter this condition\n",
    "  if marks>=90:\n",
    "    print(\"A\")\n",
    "\n",
    "  # in the previous task, we had to give an upper and lower limit, but for this task, we already put an lower limit in the previous 'if' condition (>=90);\n",
    "  # so that will work as the upper limit of this elif condition, because Python goes to an elif condition only if 'if' condition is not met\n",
    "  elif marks>=80:\n",
    "    print(\"B\")\n",
    "\n",
    "  # the same applies here; Pyton goes to elif conditions sequentially - so if number 1 elif condition is not met, python will go to number 2, then 3,4,5..\n",
    "  elif marks>=70:\n",
    "    print(\"C\")\n",
    "\n",
    "  elif marks>=60:\n",
    "    print(\"D\")\n",
    "\n",
    "  elif marks>=50:\n",
    "    print(\"E\")\n",
    "\n",
    "  else:\n",
    "    print(\"F\")\n",
    "\n",
    "else:\n",
    "  print(f\"A student cannot receive {marks} marks\")"
   ]
  },
  {
   "attachments": {},
   "cell_type": "markdown",
   "metadata": {
    "id": "XqUfY9RQuHys"
   },
   "source": [
    "## **Task 14**"
   ]
  },
  {
   "attachments": {},
   "cell_type": "markdown",
   "metadata": {
    "id": "knIP9D6huqdh"
   },
   "source": [
    "Suppose, your friend is building an automated car called “Besla”. He needs to fix the programming of the car so that it runs at a proper speed. Now, write a python program that takes 2 inputs (distance in meters and time in seconds). The program should then print the velocity in kilometers per hour of that car. Also, it should print whether the car is working properly based on the following chart.\n",
    "<table>\n",
    "<tr>\n",
    "    <th>Velocity</th> \n",
    "    <th>Information to be printed</th>\n",
    "</tr>\n",
    "\n",
    "<tr>\n",
    "    <td>Less than 60 km/h</td>\n",
    "    <td>Too slow. Needs more changes</td> \n",
    "</tr>\n",
    "\n",
    "<tr>\n",
    "    <td>Between 60 km/h to 90 km/h</td>\n",
    "    <td>Velocity is okay. The car is ready!</td> \n",
    "</tr>\n",
    "\n",
    "<tr>\n",
    "    <td>Greater than 90 km/h</td>\n",
    "    <td>Too fast. Only a few changes should suffice.</td> \n",
    "</tr>\n",
    " </table>"
   ]
  },
  {
   "attachments": {},
   "cell_type": "markdown",
   "metadata": {
    "id": "Vj5iukKauuzR"
   },
   "source": [
    "---\n",
    "**Sample Input 1:** <br>\n",
    "160000<br>\n",
    "7200<br>\n",
    "**Sample Output 1:**<br>\n",
    "80.0 km/h<br>\n",
    "Velocity is okay. The car is ready!<br>\n",
    "**Explanation:** After the conversion of distance and time, the velocity is (160/2) km/h = 80 km/h. So the velocity is okay<br>\n",
    "\n",
    "---\n",
    "**Sample Input 2:**<br>\n",
    "25400<br>\n",
    "3600<br>\n",
    "**Sample Output 2:**<br>\n",
    "25.4 km/h<br>\n",
    "Too slow. Needs more changes.<br>\n",
    "**Explanation:** After the conversion of distance and time, the velocity is (25.4/1) km/h = 25.4 km/h. So the speed is too slow.\n"
   ]
  },
  {
   "cell_type": "code",
   "execution_count": null,
   "metadata": {
    "colab": {
     "base_uri": "https://localhost:8080/"
    },
    "id": "d8KximDFunea",
    "outputId": "d2767946-f304-4eeb-df6b-9630890b4ab9"
   },
   "outputs": [],
   "source": [
    "dist = float(input())\n",
    "time = float(input())\n",
    "\n",
    "# calculate velocity = (dist/time) m/s.  now 1 km/h = (1 / 3.6) m/s (1000/3600); so velocity = (veclocity (m/s) * 3.6) km/h\n",
    "velocity = (dist/time) *3.6\n",
    "\n",
    "# add the given conditions\n",
    "if velocity < 60:\n",
    "  print(velocity, \"km/h\")\n",
    "  print(\"Too slow. Needs more changes.\")\n",
    "\n",
    "# previous condition upper limit = this condition lower limit\n",
    "elif velocity <=90:\n",
    "  print(velocity, \"km/h\")\n",
    "  print(\"Velocity is okay. The car is ready!\")\n",
    "\n",
    "else:\n",
    "  print(velocity, \"km/h\")\n",
    "  print(\"Too fast. Only a few changes should suffice.\")\n",
    "\n",
    "\n",
    "# check for dist and time - if they're negative (optional)"
   ]
  },
  {
   "attachments": {},
   "cell_type": "markdown",
   "metadata": {
    "id": "XqUfY9RQuHys"
   },
   "source": [
    "## **Task 15**"
   ]
  },
  {
   "attachments": {},
   "cell_type": "markdown",
   "metadata": {
    "id": "knIP9D6huqdh"
   },
   "source": [
    "Write a python program that takes the CGPA and no of credits completed by a student and prints whether the student is eligible for a waiver and of what percentage.<br>\n",
    "To be eligible for a waiver, a student must have completed at least 30 credits and earned a CGPA greater or equal to 3.8. If not, please print \"The student is not eligible for a waiver\".\n",
    "<table>\n",
    "<tr>\n",
    "    <th>CGPA</th> \n",
    "    <th>Waiver percentage</th>\n",
    "</tr>\n",
    "\n",
    "<tr>\n",
    "    <td>3.80 - 3.89</td>\n",
    "    <td>25 percent</td> \n",
    "</tr>\n",
    "\n",
    "<tr>\n",
    "    <td>3.90 - 3.94</td>\n",
    "    <td>50 percent</td> \n",
    "</tr>\n",
    "\n",
    "<tr>\n",
    "    <td>3.95 - 3.99</td>\n",
    "    <td>75 percent</td> \n",
    "</tr>\n",
    "\n",
    "<tr>\n",
    "    <td>4.00</td>\n",
    "    <td>100 percent</td> \n",
    "</tr>\n",
    " </table>"
   ]
  },
  {
   "attachments": {},
   "cell_type": "markdown",
   "metadata": {
    "id": "Vj5iukKauuzR"
   },
   "source": [
    "---\n",
    "**Sample Input 1:**<br>\n",
    "3.93<br>\n",
    "78<br>\n",
    "**Sample Output 1:**<br>\n",
    "The student is eligible for a waiver of 50 percent.<br>\n",
    "\n",
    "---\n",
    "**Sample Input 2:**<br>\n",
    "3.79<br>\n",
    "24<br>\n",
    "**Sample Output 2:**<br>\n",
    "The student is not eligible for a waiver"
   ]
  },
  {
   "cell_type": "code",
   "execution_count": null,
   "metadata": {
    "colab": {
     "base_uri": "https://localhost:8080/"
    },
    "id": "d8KximDFunea",
    "outputId": "d2767946-f304-4eeb-df6b-9630890b4ab9"
   },
   "outputs": [],
   "source": [
    "cg = float(input())\n",
    "credit = float(input())\n",
    "\n",
    "# first we check for validility - cgpa and credits completed can't be less than 0 and cgpa can't be more than 4; \n",
    "if cg>= 0 and cg<=4 and credit>=0:\n",
    "\n",
    "  # then check if the student is even eligible for a waiver\n",
    "  if cg>= 3.8 and credit>=30:\n",
    "\n",
    "    # now fill up the conditions\n",
    "    if cg == 4:\n",
    "      print(\"The student is eligible for a waiver of 100 percent\")\n",
    "\n",
    "    elif cg>=3.95:\n",
    "      print(\"The student is eligible for a waiver of 75 percent\")\n",
    "\n",
    "    elif cg >= 3.90 :\n",
    "      print(\"The student is eligible for a waiver of 50 percent\")\n",
    "\n",
    "    # we used else condiiton here because we already set a lower limit (cg>= 3.8) before coming to this nested conditon; and the higher limit is set by the previous condition (cg >= 3.90)\n",
    "    else :\n",
    "      print(\"The student is eligible for a waiver of 25 percent\")\n",
    "      \n",
    "  # if the student isn't eligible for a waiver. pyton go into this condition \n",
    "  else:\n",
    "    print(\"The student is not eligible for a waiver\")\n",
    "\n",
    "# if input numbers are invalid\n",
    "else:\n",
    "  print(\"The CGPA or the number of credits completed is not correct\")"
   ]
  },
  {
   "attachments": {},
   "cell_type": "markdown",
   "metadata": {
    "id": "XqUfY9RQuHys"
   },
   "source": [
    "## **Task**\n",
    "###### * Ungraded"
   ]
  },
  {
   "cell_type": "markdown",
   "metadata": {
    "id": "knIP9D6huqdh"
   },
   "source": [
    "Write a Python program that prints \"hello world\" in a console."
   ]
  },
  {
   "attachments": {},
   "cell_type": "markdown",
   "metadata": {
    "id": "Vj5iukKauuzR"
   },
   "source": [
    "<table>\n",
    "<tr>\n",
    "    <th>Sample Input</th> \n",
    "    <th>Sample Output</th>\n",
    "</tr>\n",
    "\n",
    "<tr>\n",
    "    <td></td>\n",
    "    <td></td> \n",
    "</tr>\n",
    "\n",
    "<tr>\n",
    "    <td></td>\n",
    "    <td></td> \n",
    "</tr>\n",
    " </table>"
   ]
  },
  {
   "cell_type": "code",
   "execution_count": null,
   "metadata": {
    "colab": {
     "base_uri": "https://localhost:8080/"
    },
    "id": "d8KximDFunea",
    "outputId": "d2767946-f304-4eeb-df6b-9630890b4ab9"
   },
   "outputs": [],
   "source": []
  },
  {
   "attachments": {},
   "cell_type": "markdown",
   "metadata": {
    "id": "XqUfY9RQuHys"
   },
   "source": [
    "## **Task**\n",
    "###### * Ungraded"
   ]
  },
  {
   "cell_type": "markdown",
   "metadata": {
    "id": "knIP9D6huqdh"
   },
   "source": [
    "Write a Python program that prints \"hello world\" in a console."
   ]
  },
  {
   "attachments": {},
   "cell_type": "markdown",
   "metadata": {
    "id": "Vj5iukKauuzR"
   },
   "source": [
    "<table>\n",
    "<tr>\n",
    "    <th>Sample Input</th> \n",
    "    <th>Sample Output</th>\n",
    "</tr>\n",
    "\n",
    "<tr>\n",
    "    <td></td>\n",
    "    <td></td> \n",
    "</tr>\n",
    "\n",
    "<tr>\n",
    "    <td></td>\n",
    "    <td></td> \n",
    "</tr>\n",
    " </table>"
   ]
  },
  {
   "cell_type": "code",
   "execution_count": null,
   "metadata": {
    "colab": {
     "base_uri": "https://localhost:8080/"
    },
    "id": "d8KximDFunea",
    "outputId": "d2767946-f304-4eeb-df6b-9630890b4ab9"
   },
   "outputs": [],
   "source": []
  },
  {
   "attachments": {},
   "cell_type": "markdown",
   "metadata": {
    "id": "XqUfY9RQuHys"
   },
   "source": [
    "## **Task**\n",
    "###### * Ungraded"
   ]
  },
  {
   "cell_type": "markdown",
   "metadata": {
    "id": "knIP9D6huqdh"
   },
   "source": [
    "Write a Python program that prints \"hello world\" in a console."
   ]
  },
  {
   "attachments": {},
   "cell_type": "markdown",
   "metadata": {
    "id": "Vj5iukKauuzR"
   },
   "source": [
    "<table>\n",
    "<tr>\n",
    "    <th>Sample Input</th> \n",
    "    <th>Sample Output</th>\n",
    "</tr>\n",
    "\n",
    "<tr>\n",
    "    <td></td>\n",
    "    <td></td> \n",
    "</tr>\n",
    "\n",
    "<tr>\n",
    "    <td></td>\n",
    "    <td></td> \n",
    "</tr>\n",
    " </table>"
   ]
  },
  {
   "cell_type": "code",
   "execution_count": null,
   "metadata": {
    "colab": {
     "base_uri": "https://localhost:8080/"
    },
    "id": "d8KximDFunea",
    "outputId": "d2767946-f304-4eeb-df6b-9630890b4ab9"
   },
   "outputs": [],
   "source": []
  },
  {
   "attachments": {},
   "cell_type": "markdown",
   "metadata": {
    "id": "XqUfY9RQuHys"
   },
   "source": [
    "## **Task**\n",
    "###### * Ungraded"
   ]
  },
  {
   "cell_type": "markdown",
   "metadata": {
    "id": "knIP9D6huqdh"
   },
   "source": [
    "Write a Python program that prints \"hello world\" in a console."
   ]
  },
  {
   "attachments": {},
   "cell_type": "markdown",
   "metadata": {
    "id": "Vj5iukKauuzR"
   },
   "source": [
    "<table>\n",
    "<tr>\n",
    "    <th>Sample Input</th> \n",
    "    <th>Sample Output</th>\n",
    "</tr>\n",
    "\n",
    "<tr>\n",
    "    <td></td>\n",
    "    <td></td> \n",
    "</tr>\n",
    "\n",
    "<tr>\n",
    "    <td></td>\n",
    "    <td></td> \n",
    "</tr>\n",
    " </table>"
   ]
  },
  {
   "cell_type": "code",
   "execution_count": null,
   "metadata": {
    "colab": {
     "base_uri": "https://localhost:8080/"
    },
    "id": "d8KximDFunea",
    "outputId": "d2767946-f304-4eeb-df6b-9630890b4ab9"
   },
   "outputs": [],
   "source": []
  },
  {
   "attachments": {},
   "cell_type": "markdown",
   "metadata": {
    "id": "XqUfY9RQuHys"
   },
   "source": [
    "## **Task**"
   ]
  },
  {
   "attachments": {},
   "cell_type": "markdown",
   "metadata": {
    "id": "knIP9D6huqdh"
   },
   "source": []
  },
  {
   "attachments": {},
   "cell_type": "markdown",
   "metadata": {
    "id": "Vj5iukKauuzR"
   },
   "source": [
    "<table>\n",
    "<tr>\n",
    "    <th>Sample Input</th> \n",
    "    <th>Sample Output</th>\n",
    "</tr>\n",
    "\n",
    "<tr>\n",
    "    <td></td>\n",
    "    <td></td> \n",
    "</tr>\n",
    "\n",
    "<tr>\n",
    "    <td></td>\n",
    "    <td></td> \n",
    "</tr>\n",
    " </table>"
   ]
  },
  {
   "cell_type": "code",
   "execution_count": null,
   "metadata": {
    "colab": {
     "base_uri": "https://localhost:8080/"
    },
    "id": "d8KximDFunea",
    "outputId": "d2767946-f304-4eeb-df6b-9630890b4ab9"
   },
   "outputs": [],
   "source": []
  }
 ],
 "metadata": {
  "kernelspec": {
   "display_name": "Python 3",
   "language": "python",
   "name": "python3"
  },
  "language_info": {
   "codemirror_mode": {
    "name": "ipython",
    "version": 3
   },
   "file_extension": ".py",
   "mimetype": "text/x-python",
   "name": "python",
   "nbconvert_exporter": "python",
   "pygments_lexer": "ipython3",
   "version": "3.10.7"
  },
  "orig_nbformat": 4,
  "vscode": {
   "interpreter": {
    "hash": "3ace67975135ed89b0979b869152a5a6d7b3560399eafc83f8bdf4099fed6e66"
   }
  }
 },
 "nbformat": 4,
 "nbformat_minor": 2
}
