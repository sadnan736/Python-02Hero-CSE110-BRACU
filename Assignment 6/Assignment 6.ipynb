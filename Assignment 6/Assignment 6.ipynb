{
 "cells": [
  {
   "cell_type": "markdown",
   "metadata": {
    "id": "a3AoqV0pzMaH"
   },
   "source": [
    "<center>This assignment was issued by BRAC University</center>\n",
    "<br>\n",
    "<center>It was completed by Sadnan Islam</center>\n",
    "\n",
    "---\n",
    "<center><a href='https://www.linktr.ee/sadnan736'><img src='https://github.com/sadnan736/PythonA2Z-CSE110-BRACU/blob/main/Socials.png?raw=true'  width=\"200\"/></a></center>"
   ]
  },
  {
   "attachments": {},
   "cell_type": "markdown",
   "metadata": {
    "id": "XqUfY9RQuHys"
   },
   "source": [
    "## **Task**"
   ]
  },
  {
   "cell_type": "markdown",
   "metadata": {
    "id": "knIP9D6huqdh"
   },
   "source": [
    "Write a Python program that prints \"hello world\" in a console."
   ]
  },
  {
   "attachments": {},
   "cell_type": "markdown",
   "metadata": {
    "id": "Vj5iukKauuzR"
   },
   "source": [
    "<table>\n",
    "<tr>\n",
    "    <th>Sample Input</th> \n",
    "    <th>Sample Output</th>\n",
    "</tr>\n",
    "\n",
    "<tr>\n",
    "    <td></td>\n",
    "    <td></td> \n",
    "</tr>\n",
    "\n",
    "<tr>\n",
    "    <td></td>\n",
    "    <td></td> \n",
    "</tr>\n",
    " </table>"
   ]
  },
  {
   "cell_type": "code",
   "execution_count": null,
   "metadata": {
    "colab": {
     "base_uri": "https://localhost:8080/"
    },
    "id": "d8KximDFunea",
    "outputId": "d2767946-f304-4eeb-df6b-9630890b4ab9"
   },
   "outputs": [],
   "source": []
  }
 ],
 "metadata": {
  "kernelspec": {
   "display_name": "Python 3",
   "language": "python",
   "name": "python3"
  },
  "language_info": {
   "name": "python",
   "version": "3.10.7 (tags/v3.10.7:6cc6b13, Sep  5 2022, 14:08:36) [MSC v.1933 64 bit (AMD64)]"
  },
  "orig_nbformat": 4,
  "vscode": {
   "interpreter": {
    "hash": "3ace67975135ed89b0979b869152a5a6d7b3560399eafc83f8bdf4099fed6e66"
   }
  }
 },
 "nbformat": 4,
 "nbformat_minor": 2
}
