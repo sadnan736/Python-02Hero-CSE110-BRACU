{
 "cells": [
  {
   "attachments": {},
   "cell_type": "markdown",
   "metadata": {
    "id": "a3AoqV0pzMaH"
   },
   "source": [
    "<center>This assignment was issued by BRAC University</center>\n",
    "<br>\n",
    "<center>It was completed by Sadnan Islam</center>\n",
    "\n",
    "---\n",
    "<center><a href='https://www.linktr.ee/sadnan736'><img src='https://github.com/sadnan736/PythonA2Z-CSE110-BRACU/blob/main/Socials.png?raw=true'  width=\"200\"/></a></center>"
   ]
  },
  {
   "attachments": {},
   "cell_type": "markdown",
   "metadata": {
    "id": "XqUfY9RQuHys"
   },
   "source": [
    "## **Task 1**"
   ]
  },
  {
   "attachments": {},
   "cell_type": "markdown",
   "metadata": {
    "id": "Vj5iukKauuzR"
   },
   "source": [
    "Write the Python code of a program that reads two numbers from the user, and prints their sum,\n",
    "product, and difference. <br>\n",
    "###### *Hint: subtract the second number from the first one*\n",
    "\n",
    "---"
   ]
  },
  {
   "attachments": {},
   "cell_type": "markdown",
   "metadata": {},
   "source": [
    "**Example 1:** <br>\n",
    "**Sample Input:**<br>\n",
    "4 <br>\n",
    "5 <br>\n",
    "**Sample Output:** <br>\n",
    "Sum = 9 <br>\n",
    "Product = 20<br>\n",
    "Difference = -1<br>\n",
    "Example 2:<br>\n",
    "\n",
    "---\n",
    "**Sample Input:** <br>\n",
    "30<br>\n",
    "2<br>\n",
    "**Sample Output:**<br>\n",
    "Sum = 32<br>\n",
    "Product = 60<br>\n",
    "Difference = 28<br>\n",
    "\n",
    "---"
   ]
  },
  {
   "cell_type": "code",
   "execution_count": null,
   "metadata": {
    "colab": {
     "base_uri": "https://localhost:8080/"
    },
    "id": "d8KximDFunea",
    "outputId": "d2767946-f304-4eeb-df6b-9630890b4ab9"
   },
   "outputs": [],
   "source": [
    "# the following solution and explanation was provided by BRAC University.\n",
    "\n",
    "# First, we take 2 numbers as input from the user\n",
    "# Read 2 numbers as input from the user means taking 2 numbers as input\n",
    "# from the user using the input function\n",
    "var_1 = input('Please enter the first number: ')\n",
    "var_2 = input('Please enter the second number: ')\n",
    "\n",
    "#Since input() function converts everything to String,\n",
    "#For performing any kind of mathematical operation we need to convert them to int.\n",
    "#For this conversion, we need to use the int() function\n",
    "\n",
    "#But at first, we may clarify whether the inputs are actually Strings or not.\n",
    "print(type(var_1))\n",
    "print(type(var_2))\n",
    "\n",
    "#Then we convert the Strings to integer using the int() function\n",
    "var_3 = int(var_1)\n",
    "var_4 = int(var_2)\n",
    "\n",
    "#Input taking and conversion can be done in a single line as shown below\n",
    "#var_1 = int(input('Please enter the first number: '))\n",
    "#var_2 = int(input('Please enter the second number: '))\n",
    "\n",
    "#We may then perform Addition\n",
    "total = var_3 + var_4\n",
    "\n",
    "#Multiplication\n",
    "product = var_3 * var_4\n",
    "#Subtraction\n",
    "difference = var_3 - var_4\n",
    "\n",
    "#And then print all the calculated results\n",
    "print(\"Sum =\", total)\n",
    "print(\"Product =\", product)\n",
    "print(\"Difference =\", difference)"
   ]
  },
  {
   "attachments": {},
   "cell_type": "markdown",
   "metadata": {
    "id": "XqUfY9RQuHys"
   },
   "source": [
    "## **Task 2**"
   ]
  },
  {
   "attachments": {},
   "cell_type": "markdown",
   "metadata": {
    "id": "knIP9D6huqdh"
   },
   "source": [
    "Write the Python code of a program that reads the radius of a circle and prints its circumference\n",
    "and area.\n",
    "\n",
    "---\n",
    "###### *hint(1): we may import math and then use math.pi for getting the value of pi.* <br>\n",
    "###### *For details, we can read from https://docs.python.org/3/library/math.html*\n",
    "###### *hint(2): we can import math and use the math function for making squares with math.pow(number, power) or we can simply use the power operator. For example: S**2.*\n",
    "\n",
    "---"
   ]
  },
  {
   "attachments": {},
   "cell_type": "markdown",
   "metadata": {
    "id": "Vj5iukKauuzR"
   },
   "source": [
    "**Example 1:** <br>\n",
    "**Sample Input:**<br>\n",
    "4<br>\n",
    "**Sample Output:**<br>\n",
    "Area is 50.26548245743669<br>\n",
    "Circumference is 25.132741228718345<br>\n",
    "\n",
    "---\n",
    "**Example 2:**<br>\n",
    "**Sample Input:**<br>\n",
    "3.5<br>\n",
    "**Sample Output:**<br>\n",
    "Area is 38.48451000647496<br>\n",
    "Circumference is 21.991148575128552<br>\n",
    "\n",
    "---"
   ]
  },
  {
   "cell_type": "code",
   "execution_count": 3,
   "metadata": {
    "colab": {
     "base_uri": "https://localhost:8080/"
    },
    "id": "d8KximDFunea",
    "outputId": "d2767946-f304-4eeb-df6b-9630890b4ab9"
   },
   "outputs": [
    {
     "name": "stdout",
     "output_type": "stream",
     "text": [
      "Area is: 38.48451000647496\n",
      "Circumference is 21.991148575128552\n"
     ]
    }
   ],
   "source": [
    "# the area calculation and the explanation until was given by BRACU University and slighly edited by me\n",
    "\n",
    "import math\n",
    "\n",
    "# taking input from the user, then converting it to float\n",
    "# since radius can be a floating point value\n",
    "\n",
    "radius = float(input(\"Please enter the radius value:\"))\n",
    "\n",
    "# squares can be made using these 3 ways, as give in hints\n",
    "# all 3 ways generates the same result for area\n",
    "\n",
    "# area = math.pi * radius ** 2\n",
    "# print(\"Area is:\", area)\n",
    "\n",
    "#area = math.pi * radius * radius\n",
    "# print(\"Area is:\", area)\n",
    "\n",
    "area = math.pi * math.pow(radius, 2)\n",
    "print(\"Area is:\", area)\n",
    "\n",
    "\n",
    "circum = 2* math.pi *radius\n",
    "print('Circumference is', circum)"
   ]
  },
  {
   "attachments": {},
   "cell_type": "markdown",
   "metadata": {
    "id": "XqUfY9RQuHys"
   },
   "source": [
    "## **Task 3**"
   ]
  },
  {
   "attachments": {},
   "cell_type": "markdown",
   "metadata": {
    "id": "knIP9D6huqdh"
   },
   "source": [
    "Write the Python code of a program that reads two numbers from the user. The program should\n",
    "then print \"First is greater\" if the first number is greater, \"Second is greater\" if the second number\n",
    "is greater, and \"The numbers are equal\" otherwise"
   ]
  },
  {
   "attachments": {},
   "cell_type": "markdown",
   "metadata": {
    "id": "Vj5iukKauuzR"
   },
   "source": [
    "---\n",
    "**Sample Input 1:**<br>\n",
    "7<br>\n",
    "3<br>\n",
    "**Sample Output 1:**\n",
    "First is greater<br>\n",
    "\n",
    "---\n",
    "**Sample Input 2:**<br>\n",
    "-33<br>\n",
    "-3<br>\n",
    "**Sample Output 2:**<br>\n",
    "Second is greater<br>\n",
    "\n",
    "---\n",
    "**Sample Input 1:**<br>\n",
    "11<br>\n",
    "11<br>\n",
    "**Sample Output 1:**<br>\n",
    "The numbers are equal<br>"
   ]
  },
  {
   "cell_type": "code",
   "execution_count": null,
   "metadata": {
    "colab": {
     "base_uri": "https://localhost:8080/"
    },
    "id": "d8KximDFunea",
    "outputId": "d2767946-f304-4eeb-df6b-9630890b4ab9"
   },
   "outputs": [],
   "source": [
    "# take 2 numbers a inputs\n",
    "# we will convert the inputs to floats because we can't cast float strings into intergers\n",
    "# if someone inputs a float it will show syntax error\n",
    "\n",
    "numb1  = float(input())\n",
    "numb2  = float(input())\n",
    "\n",
    "# now we can make some if else conditions\n",
    "# remember \"==\" gives us a value of True if both sides are equal else returns False\n",
    "# we only go into a if elif condition if ye have True\n",
    "# suppose we have a = 1, b = 1\n",
    "# now we if we do x = a == b, the value will be True\n",
    "# and now if we type \"if x:\", it will go into that condition\n",
    "\n",
    "# let's check if numb1 is bigger\n",
    "if numb1 > numb2:\n",
    "\n",
    "    # if numb1 is bigger than numb2, we will go into this condition\n",
    "    # now lets print\n",
    "    print(f'First is greater')\n",
    "\n",
    "# if first condition wasn't True, we can give another linked condiiton with \"elif\"\n",
    "# which will only run when first if condition is False\n",
    "\n",
    "elif numb2 > numb1:\n",
    "\n",
    "    print('Second is greater')\n",
    "\n",
    "# now if 'elif' condition was also false, we have to check if they're equal\n",
    "# we can go about this in two different ways\n",
    "# firstly we can just create another elif condition that just checks if they're equal with '=='\n",
    "# or we can use 'else' condition\n",
    "# now if we have two real numbers, none of them is bigger or smaller than other one. what are they?\n",
    "# they are equal\n",
    "# this what else condition is\n",
    "# after checking all conditions and none of them giving us a True outcome,\n",
    "# if there's an else condition then Python will go into that\n",
    "\n",
    "else:\n",
    "    print('The numbers are equal')"
   ]
  },
  {
   "attachments": {},
   "cell_type": "markdown",
   "metadata": {
    "id": "XqUfY9RQuHys"
   },
   "source": [
    "## **Task 4**"
   ]
  },
  {
   "attachments": {},
   "cell_type": "markdown",
   "metadata": {
    "id": "knIP9D6huqdh"
   },
   "source": [
    "Write the Python code of a program that reads two numbers, subtracts the smaller number from\n",
    "the larger one, and prints the result.\n",
    "\n",
    "---\n",
    "###### *Hint: First, we may check which number is greater*"
   ]
  },
  {
   "attachments": {},
   "cell_type": "markdown",
   "metadata": {
    "id": "Vj5iukKauuzR"
   },
   "source": [
    "---\n",
    "**Sample Input 1:**<br>\n",
    "-40<br>\n",
    "-4<br>\n",
    "**Sample Output 1:**<br>\n",
    "36<br>\n",
    "**Explanation:** -4 > -40 so -4 - (-40) = -4 + 40 = 36<br>\n",
    "\n",
    "\n",
    "---\n",
    "**Sample Input 2:**<br>\n",
    "6<br>\n",
    "2<br>\n",
    "**Sample Output 2:**<br>\n",
    "4<br>\n",
    "\n",
    "---\n",
    "**Sample Input 3:**<br>\n",
    "5<br>\n",
    "5<br>\n",
    "**Sample Output 3:**<br>\n",
    "0<br>"
   ]
  },
  {
   "cell_type": "code",
   "execution_count": 7,
   "metadata": {
    "colab": {
     "base_uri": "https://localhost:8080/"
    },
    "id": "d8KximDFunea",
    "outputId": "d2767946-f304-4eeb-df6b-9630890b4ab9"
   },
   "outputs": [
    {
     "name": "stdout",
     "output_type": "stream",
     "text": [
      "5\n"
     ]
    }
   ],
   "source": [
    "# take inputs\n",
    "f1 = float(input())\n",
    "f2 = float(input())\n",
    "\n",
    "# check which is bigger and substract the smaller\n",
    "# add equals in one of the conditions because we wouldn't get any output if user had input two equal numbers\n",
    "\n",
    "if f1>=f2:\n",
    "  print(int(f1-f2))\n",
    "elif f1<f2:\n",
    "  print(int(f2-f1))"
   ]
  },
  {
   "attachments": {},
   "cell_type": "markdown",
   "metadata": {
    "id": "XqUfY9RQuHys"
   },
   "source": [
    "## **Task 5**"
   ]
  },
  {
   "attachments": {},
   "cell_type": "markdown",
   "metadata": {
    "id": "knIP9D6huqdh"
   },
   "source": [
    "Write the Python code of a program that reads a number, and prints \"The number is even\" or\n",
    "\"The number is odd\", depending on whether the number is even or odd. <br>\n",
    "\n",
    "###### hint(1): *we may use the modulus (%) operator to check for even or odd*\n",
    "###### hint(2): *we can consider the number to be an integer*\n",
    "\n",
    "---"
   ]
  },
  {
   "attachments": {},
   "cell_type": "markdown",
   "metadata": {
    "id": "Vj5iukKauuzR"
   },
   "source": [
    "**Sample Input 1:** <br>\n",
    "7<br>\n",
    "**Sample Output 1:**<br>\n",
    "The number is odd<br>\n",
    "\n",
    "---\n",
    "**Sample Input 2:**<br>\n",
    "10<br>\n",
    "**Sample Output 2:**<br>\n",
    "The number is even<br>\n",
    "\n",
    "---\n",
    "**Sample Input 3:**<br>\n",
    "-44<br>\n",
    "**Sample Output 3:**<br>\n",
    "The number is even<br>"
   ]
  },
  {
   "cell_type": "code",
   "execution_count": null,
   "metadata": {
    "colab": {
     "base_uri": "https://localhost:8080/"
    },
    "id": "d8KximDFunea",
    "outputId": "d2767946-f304-4eeb-df6b-9630890b4ab9"
   },
   "outputs": [],
   "source": [
    "numb = int(input())\n",
    "\n",
    "# if an even number is divided by 2, the remainder will always be 0\n",
    "# we can get the remainder of an operation with the modulus (%) operator and check if that's zero\n",
    "remainder = numb%2\n",
    "if remainder == 0:\n",
    "  print(\"The number is even\")\n",
    "\n",
    "else:\n",
    "  print(\"The number is odd\")"
   ]
  },
  {
   "attachments": {},
   "cell_type": "markdown",
   "metadata": {
    "id": "XqUfY9RQuHys"
   },
   "source": [
    "## **Task 6**"
   ]
  },
  {
   "attachments": {},
   "cell_type": "markdown",
   "metadata": {
    "id": "knIP9D6huqdh"
   },
   "source": [
    "Write the Python code of a program that reads an integer as input from the user, and prints the\n",
    "integer if it is a multiple of 2 OR 5 and prints \"Not a multiple of 2 OR 5\" otherwise. <br>\n",
    "For example, 2, 4, 5, 6, 8, 10, 12, 14, 15, 16, 18, 20, 22 … i.e. this includes multiples of 2 only,\n",
    "multiples of 5 only and multiples of 2 and 5 both.\n",
    "\n",
    "###### hint(1): *we may use the modulus (%) operator for checking the divisibility*\n",
    "###### hint(2): *we can consider the number to be an integer*\n",
    "\n",
    "---\n"
   ]
  },
  {
   "attachments": {},
   "cell_type": "markdown",
   "metadata": {
    "id": "Vj5iukKauuzR"
   },
   "source": [
    "\n",
    "**Sample Input 1:** <br>\n",
    "5<br>\n",
    "**Sample Output 1:**<br>\n",
    "5<br>\n",
    "\n",
    "---\n",
    "**Sample Input 2:**<br>\n",
    "10<br>\n",
    "**Sample Output 2:**<br>\n",
    "10<br>\n",
    "\n",
    "---\n",
    "**Sample Input 3:**<br>\n",
    "3<br>\n",
    "**Sample Output 3:**<br>\n",
    "Not a multiple of 2 OR 5<br>"
   ]
  },
  {
   "cell_type": "code",
   "execution_count": null,
   "metadata": {
    "colab": {
     "base_uri": "https://localhost:8080/"
    },
    "id": "d8KximDFunea",
    "outputId": "d2767946-f304-4eeb-df6b-9630890b4ab9"
   },
   "outputs": [],
   "source": [
    "# take input\n",
    "numb = int(input())\n",
    "\n",
    "# we can use the \"or\" function to to join two conditions together,\n",
    "# and even if one of them is True, the if condition will pass\n",
    "# eg: True or True: True; # True or False : False; # False or False : False\n",
    "\n",
    "if numb%2==0 or numb%5==0:\n",
    "  print(numb)\n",
    "else:\n",
    "  print(\"Not a multiple of 2 OR 5\")"
   ]
  },
  {
   "attachments": {},
   "cell_type": "markdown",
   "metadata": {
    "id": "XqUfY9RQuHys"
   },
   "source": [
    "## **Task**"
   ]
  },
  {
   "cell_type": "markdown",
   "metadata": {
    "id": "knIP9D6huqdh"
   },
   "source": [
    "Write a Python program that prints \"hello world\" in a console."
   ]
  },
  {
   "attachments": {},
   "cell_type": "markdown",
   "metadata": {
    "id": "Vj5iukKauuzR"
   },
   "source": [
    "<table>\n",
    "<tr>\n",
    "    <th>Sample Input</th> \n",
    "    <th>Sample Output</th>\n",
    "</tr>\n",
    "\n",
    "<tr>\n",
    "    <td></td>\n",
    "    <td></td> \n",
    "</tr>\n",
    "\n",
    "<tr>\n",
    "    <td></td>\n",
    "    <td></td> \n",
    "</tr>\n",
    " </table>"
   ]
  },
  {
   "cell_type": "code",
   "execution_count": null,
   "metadata": {
    "colab": {
     "base_uri": "https://localhost:8080/"
    },
    "id": "d8KximDFunea",
    "outputId": "d2767946-f304-4eeb-df6b-9630890b4ab9"
   },
   "outputs": [],
   "source": []
  },
  {
   "attachments": {},
   "cell_type": "markdown",
   "metadata": {
    "id": "XqUfY9RQuHys"
   },
   "source": [
    "## **Task**"
   ]
  },
  {
   "cell_type": "markdown",
   "metadata": {
    "id": "knIP9D6huqdh"
   },
   "source": [
    "Write a Python program that prints \"hello world\" in a console."
   ]
  },
  {
   "attachments": {},
   "cell_type": "markdown",
   "metadata": {
    "id": "Vj5iukKauuzR"
   },
   "source": [
    "<table>\n",
    "<tr>\n",
    "    <th>Sample Input</th> \n",
    "    <th>Sample Output</th>\n",
    "</tr>\n",
    "\n",
    "<tr>\n",
    "    <td></td>\n",
    "    <td></td> \n",
    "</tr>\n",
    "\n",
    "<tr>\n",
    "    <td></td>\n",
    "    <td></td> \n",
    "</tr>\n",
    " </table>"
   ]
  },
  {
   "cell_type": "code",
   "execution_count": null,
   "metadata": {
    "colab": {
     "base_uri": "https://localhost:8080/"
    },
    "id": "d8KximDFunea",
    "outputId": "d2767946-f304-4eeb-df6b-9630890b4ab9"
   },
   "outputs": [],
   "source": []
  },
  {
   "attachments": {},
   "cell_type": "markdown",
   "metadata": {
    "id": "XqUfY9RQuHys"
   },
   "source": [
    "## **Task**"
   ]
  },
  {
   "cell_type": "markdown",
   "metadata": {
    "id": "knIP9D6huqdh"
   },
   "source": [
    "Write a Python program that prints \"hello world\" in a console."
   ]
  },
  {
   "attachments": {},
   "cell_type": "markdown",
   "metadata": {
    "id": "Vj5iukKauuzR"
   },
   "source": [
    "<table>\n",
    "<tr>\n",
    "    <th>Sample Input</th> \n",
    "    <th>Sample Output</th>\n",
    "</tr>\n",
    "\n",
    "<tr>\n",
    "    <td></td>\n",
    "    <td></td> \n",
    "</tr>\n",
    "\n",
    "<tr>\n",
    "    <td></td>\n",
    "    <td></td> \n",
    "</tr>\n",
    " </table>"
   ]
  },
  {
   "cell_type": "code",
   "execution_count": null,
   "metadata": {
    "colab": {
     "base_uri": "https://localhost:8080/"
    },
    "id": "d8KximDFunea",
    "outputId": "d2767946-f304-4eeb-df6b-9630890b4ab9"
   },
   "outputs": [],
   "source": []
  },
  {
   "attachments": {},
   "cell_type": "markdown",
   "metadata": {
    "id": "XqUfY9RQuHys"
   },
   "source": [
    "## **Task**"
   ]
  },
  {
   "cell_type": "markdown",
   "metadata": {
    "id": "knIP9D6huqdh"
   },
   "source": [
    "Write a Python program that prints \"hello world\" in a console."
   ]
  },
  {
   "attachments": {},
   "cell_type": "markdown",
   "metadata": {
    "id": "Vj5iukKauuzR"
   },
   "source": [
    "<table>\n",
    "<tr>\n",
    "    <th>Sample Input</th> \n",
    "    <th>Sample Output</th>\n",
    "</tr>\n",
    "\n",
    "<tr>\n",
    "    <td></td>\n",
    "    <td></td> \n",
    "</tr>\n",
    "\n",
    "<tr>\n",
    "    <td></td>\n",
    "    <td></td> \n",
    "</tr>\n",
    " </table>"
   ]
  },
  {
   "cell_type": "code",
   "execution_count": null,
   "metadata": {
    "colab": {
     "base_uri": "https://localhost:8080/"
    },
    "id": "d8KximDFunea",
    "outputId": "d2767946-f304-4eeb-df6b-9630890b4ab9"
   },
   "outputs": [],
   "source": []
  },
  {
   "attachments": {},
   "cell_type": "markdown",
   "metadata": {
    "id": "XqUfY9RQuHys"
   },
   "source": [
    "## **Task**"
   ]
  },
  {
   "cell_type": "markdown",
   "metadata": {
    "id": "knIP9D6huqdh"
   },
   "source": [
    "Write a Python program that prints \"hello world\" in a console."
   ]
  },
  {
   "attachments": {},
   "cell_type": "markdown",
   "metadata": {
    "id": "Vj5iukKauuzR"
   },
   "source": [
    "<table>\n",
    "<tr>\n",
    "    <th>Sample Input</th> \n",
    "    <th>Sample Output</th>\n",
    "</tr>\n",
    "\n",
    "<tr>\n",
    "    <td></td>\n",
    "    <td></td> \n",
    "</tr>\n",
    "\n",
    "<tr>\n",
    "    <td></td>\n",
    "    <td></td> \n",
    "</tr>\n",
    " </table>"
   ]
  },
  {
   "cell_type": "code",
   "execution_count": null,
   "metadata": {
    "colab": {
     "base_uri": "https://localhost:8080/"
    },
    "id": "d8KximDFunea",
    "outputId": "d2767946-f304-4eeb-df6b-9630890b4ab9"
   },
   "outputs": [],
   "source": []
  },
  {
   "attachments": {},
   "cell_type": "markdown",
   "metadata": {
    "id": "XqUfY9RQuHys"
   },
   "source": [
    "## **Task**"
   ]
  },
  {
   "cell_type": "markdown",
   "metadata": {
    "id": "knIP9D6huqdh"
   },
   "source": [
    "Write a Python program that prints \"hello world\" in a console."
   ]
  },
  {
   "attachments": {},
   "cell_type": "markdown",
   "metadata": {
    "id": "Vj5iukKauuzR"
   },
   "source": [
    "<table>\n",
    "<tr>\n",
    "    <th>Sample Input</th> \n",
    "    <th>Sample Output</th>\n",
    "</tr>\n",
    "\n",
    "<tr>\n",
    "    <td></td>\n",
    "    <td></td> \n",
    "</tr>\n",
    "\n",
    "<tr>\n",
    "    <td></td>\n",
    "    <td></td> \n",
    "</tr>\n",
    " </table>"
   ]
  },
  {
   "cell_type": "code",
   "execution_count": null,
   "metadata": {
    "colab": {
     "base_uri": "https://localhost:8080/"
    },
    "id": "d8KximDFunea",
    "outputId": "d2767946-f304-4eeb-df6b-9630890b4ab9"
   },
   "outputs": [],
   "source": []
  },
  {
   "attachments": {},
   "cell_type": "markdown",
   "metadata": {
    "id": "XqUfY9RQuHys"
   },
   "source": [
    "## **Task**"
   ]
  },
  {
   "cell_type": "markdown",
   "metadata": {
    "id": "knIP9D6huqdh"
   },
   "source": [
    "Write a Python program that prints \"hello world\" in a console."
   ]
  },
  {
   "attachments": {},
   "cell_type": "markdown",
   "metadata": {
    "id": "Vj5iukKauuzR"
   },
   "source": [
    "<table>\n",
    "<tr>\n",
    "    <th>Sample Input</th> \n",
    "    <th>Sample Output</th>\n",
    "</tr>\n",
    "\n",
    "<tr>\n",
    "    <td></td>\n",
    "    <td></td> \n",
    "</tr>\n",
    "\n",
    "<tr>\n",
    "    <td></td>\n",
    "    <td></td> \n",
    "</tr>\n",
    " </table>"
   ]
  },
  {
   "cell_type": "code",
   "execution_count": null,
   "metadata": {
    "colab": {
     "base_uri": "https://localhost:8080/"
    },
    "id": "d8KximDFunea",
    "outputId": "d2767946-f304-4eeb-df6b-9630890b4ab9"
   },
   "outputs": [],
   "source": []
  },
  {
   "attachments": {},
   "cell_type": "markdown",
   "metadata": {
    "id": "XqUfY9RQuHys"
   },
   "source": [
    "## **Task**"
   ]
  },
  {
   "cell_type": "markdown",
   "metadata": {
    "id": "knIP9D6huqdh"
   },
   "source": [
    "Write a Python program that prints \"hello world\" in a console."
   ]
  },
  {
   "attachments": {},
   "cell_type": "markdown",
   "metadata": {
    "id": "Vj5iukKauuzR"
   },
   "source": [
    "<table>\n",
    "<tr>\n",
    "    <th>Sample Input</th> \n",
    "    <th>Sample Output</th>\n",
    "</tr>\n",
    "\n",
    "<tr>\n",
    "    <td></td>\n",
    "    <td></td> \n",
    "</tr>\n",
    "\n",
    "<tr>\n",
    "    <td></td>\n",
    "    <td></td> \n",
    "</tr>\n",
    " </table>"
   ]
  },
  {
   "cell_type": "code",
   "execution_count": null,
   "metadata": {
    "colab": {
     "base_uri": "https://localhost:8080/"
    },
    "id": "d8KximDFunea",
    "outputId": "d2767946-f304-4eeb-df6b-9630890b4ab9"
   },
   "outputs": [],
   "source": []
  },
  {
   "attachments": {},
   "cell_type": "markdown",
   "metadata": {
    "id": "XqUfY9RQuHys"
   },
   "source": [
    "## **Task**"
   ]
  },
  {
   "cell_type": "markdown",
   "metadata": {
    "id": "knIP9D6huqdh"
   },
   "source": [
    "Write a Python program that prints \"hello world\" in a console."
   ]
  },
  {
   "attachments": {},
   "cell_type": "markdown",
   "metadata": {
    "id": "Vj5iukKauuzR"
   },
   "source": [
    "<table>\n",
    "<tr>\n",
    "    <th>Sample Input</th> \n",
    "    <th>Sample Output</th>\n",
    "</tr>\n",
    "\n",
    "<tr>\n",
    "    <td></td>\n",
    "    <td></td> \n",
    "</tr>\n",
    "\n",
    "<tr>\n",
    "    <td></td>\n",
    "    <td></td> \n",
    "</tr>\n",
    " </table>"
   ]
  },
  {
   "cell_type": "code",
   "execution_count": null,
   "metadata": {
    "colab": {
     "base_uri": "https://localhost:8080/"
    },
    "id": "d8KximDFunea",
    "outputId": "d2767946-f304-4eeb-df6b-9630890b4ab9"
   },
   "outputs": [],
   "source": []
  },
  {
   "attachments": {},
   "cell_type": "markdown",
   "metadata": {
    "id": "XqUfY9RQuHys"
   },
   "source": [
    "## **Task**"
   ]
  },
  {
   "cell_type": "markdown",
   "metadata": {
    "id": "knIP9D6huqdh"
   },
   "source": [
    "Write a Python program that prints \"hello world\" in a console."
   ]
  },
  {
   "attachments": {},
   "cell_type": "markdown",
   "metadata": {
    "id": "Vj5iukKauuzR"
   },
   "source": [
    "<table>\n",
    "<tr>\n",
    "    <th>Sample Input</th> \n",
    "    <th>Sample Output</th>\n",
    "</tr>\n",
    "\n",
    "<tr>\n",
    "    <td></td>\n",
    "    <td></td> \n",
    "</tr>\n",
    "\n",
    "<tr>\n",
    "    <td></td>\n",
    "    <td></td> \n",
    "</tr>\n",
    " </table>"
   ]
  },
  {
   "cell_type": "code",
   "execution_count": null,
   "metadata": {
    "colab": {
     "base_uri": "https://localhost:8080/"
    },
    "id": "d8KximDFunea",
    "outputId": "d2767946-f304-4eeb-df6b-9630890b4ab9"
   },
   "outputs": [],
   "source": []
  }
 ],
 "metadata": {
  "kernelspec": {
   "display_name": "Python 3",
   "language": "python",
   "name": "python3"
  },
  "language_info": {
   "codemirror_mode": {
    "name": "ipython",
    "version": 3
   },
   "file_extension": ".py",
   "mimetype": "text/x-python",
   "name": "python",
   "nbconvert_exporter": "python",
   "pygments_lexer": "ipython3",
   "version": "3.10.7"
  },
  "orig_nbformat": 4,
  "vscode": {
   "interpreter": {
    "hash": "3ace67975135ed89b0979b869152a5a6d7b3560399eafc83f8bdf4099fed6e66"
   }
  }
 },
 "nbformat": 4,
 "nbformat_minor": 2
}
