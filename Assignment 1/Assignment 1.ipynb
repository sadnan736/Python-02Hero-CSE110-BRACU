{
  "nbformat": 4,
  "nbformat_minor": 0,
  "metadata": {
    "colab": {
      "provenance": [],
      "collapsed_sections": [
        "DUzDX31cu0e6",
        "uKzaN58uvAvt",
        "OWEPL5TgvBJt",
        "qGnL0VWPvBTi",
        "qNzy8bjLvBcb",
        "4Ym7b3tNvBlD",
        "V4ubeIrsvB2H",
        "EiofXmPNvrfs"
      ]
    },
    "kernelspec": {
      "name": "python3",
      "display_name": "Python 3"
    },
    "language_info": {
      "name": "python"
    }
  },
  "cells": [
    {
      "cell_type": "markdown",
      "source": [
        "<center>This assignment was issued by BRAC University</center>\n",
        "<br>\n",
        "<center>It was completed by Sadnan Islam</center>\n",
        "\n",
        "---\n",
        "<center><a href='linktr.ee/sadnan736'><img src='https://github.com/sadnan736/Python-A2Z-CSE110-BRACU/blob/main/Socials.png?raw=true'  width=\"200\"/></a></center>"
      ],
      "metadata": {
        "id": "a3AoqV0pzMaH"
      }
    },
    {
      "cell_type": "markdown",
      "source": [
        "## **Task 1**"
      ],
      "metadata": {
        "id": "XqUfY9RQuHys"
      }
    },
    {
      "cell_type": "markdown",
      "source": [
        "Write a Python program that prints \"hello world\" in a console."
      ],
      "metadata": {
        "id": "knIP9D6huqdh"
      }
    },
    {
      "cell_type": "markdown",
      "source": [
        "<table>\n",
        "<tr>\n",
        "    <th>Sample Input</th> \n",
        "    <th>Sample Output</th>\n",
        "</tr>\n",
        "\n",
        "<tr>\n",
        "    <td></td>\n",
        "    <td>hello world</td> \n",
        "</tr>\n",
        " </table>"
      ],
      "metadata": {
        "id": "Vj5iukKauuzR"
      }
    },
    {
      "cell_type": "code",
      "source": [
        "# the print function will print whatever is in the brackets.\n",
        "# apostrophe symbol marks it as a string, quotation marks will also work\n",
        "print('hello world')"
      ],
      "metadata": {
        "colab": {
          "base_uri": "https://localhost:8080/"
        },
        "id": "d8KximDFunea",
        "outputId": "d2767946-f304-4eeb-df6b-9630890b4ab9"
      },
      "execution_count": null,
      "outputs": [
        {
          "output_type": "stream",
          "name": "stdout",
          "text": [
            "hello world\n"
          ]
        }
      ]
    },
    {
      "cell_type": "markdown",
      "source": [
        "## **Task 2**"
      ],
      "metadata": {
        "id": "DUzDX31cu0e6"
      }
    },
    {
      "cell_type": "markdown",
      "source": [
        "Write a Python program that prints the summation of 54 and 56. The program must use Python operators and numbers but not use any variables."
      ],
      "metadata": {
        "id": "GzRTYET4u0e6"
      }
    },
    {
      "cell_type": "markdown",
      "source": [
        "<table>\n",
        "<tr>\n",
        "    <th>Sample Input</th> \n",
        "    <th>Sample Output</th>\n",
        "</tr>\n",
        "\n",
        "<tr>\n",
        "    <td></td>\n",
        "    <td>110</td> \n",
        "</tr>\n",
        " </table>"
      ],
      "metadata": {
        "id": "UmfRpDkYu0e6"
      }
    },
    {
      "cell_type": "code",
      "source": [
        "# no symbol required because the two values are integers\n",
        "print(54+56)"
      ],
      "metadata": {
        "id": "CClxt4q3u0e6",
        "colab": {
          "base_uri": "https://localhost:8080/"
        },
        "outputId": "5c1c685b-0e80-418d-ce6f-16c2b5465d2b"
      },
      "execution_count": 2,
      "outputs": [
        {
          "output_type": "stream",
          "name": "stdout",
          "text": [
            "110\n"
          ]
        }
      ]
    },
    {
      "cell_type": "markdown",
      "source": [
        "## **Task 3**"
      ],
      "metadata": {
        "id": "uKzaN58uvAvt"
      }
    },
    {
      "cell_type": "markdown",
      "source": [
        "Write a Python program that assigns the values \"Fall\" and 2022 to variables `season` and `year` respectively. Then, print the values of both variables in separate lines.\n"
      ],
      "metadata": {
        "id": "bGl2OY7tvAvu"
      }
    },
    {
      "cell_type": "markdown",
      "source": [
        "<table>\n",
        "<tr>\n",
        "    <th>Sample Input</th> \n",
        "    <th>Sample Output</th>\n",
        "</tr>\n",
        "\n",
        "<tr>\n",
        "    <td></td>\n",
        "    <td>Fall</td> \n",
        "</tr>\n",
        "<tr>\n",
        "    <td></td>\n",
        "    <td>2022</td> \n",
        "</tr>\n",
        " </table>"
      ],
      "metadata": {
        "id": "4140wacJvAvv"
      }
    },
    {
      "cell_type": "code",
      "source": [
        "# we assign variables by giving them a value (string,integer,float,boolean etc)\n",
        "season = 'Fall'\n",
        "year = 2022\n",
        "print(season)\n",
        "print(year)"
      ],
      "metadata": {
        "id": "igGWuxwHvAvv",
        "colab": {
          "base_uri": "https://localhost:8080/"
        },
        "outputId": "e06f2564-1e02-4f30-922c-c13f84155af9"
      },
      "execution_count": 3,
      "outputs": [
        {
          "output_type": "stream",
          "name": "stdout",
          "text": [
            "Fall\n",
            "2022\n"
          ]
        }
      ]
    },
    {
      "cell_type": "markdown",
      "source": [
        "## **Task 4**"
      ],
      "metadata": {
        "id": "OWEPL5TgvBJt"
      }
    },
    {
      "cell_type": "markdown",
      "source": [
        "Write a Python program that reads the user's name and prints it back as shown in the example below."
      ],
      "metadata": {
        "id": "rQmppXj-vBJt"
      }
    },
    {
      "cell_type": "markdown",
      "source": [
        "<table>\n",
        "<tr>\n",
        "    <th>Sample Input</th> \n",
        "    <th>Sample Output</th>\n",
        "</tr>\n",
        "\n",
        "<tr>\n",
        "    <td>John</td>\n",
        "    <td>Your name is John</td> \n",
        "</tr>\n",
        "<tr>\n",
        "    <td>Albert</td>\n",
        "    <td>Your name is Albert\n",
        "</td> \n",
        "</tr>\n",
        " </table>"
      ],
      "metadata": {
        "id": "WlR-y3K7vBJu"
      }
    },
    {
      "cell_type": "code",
      "source": [
        "# we can do this in a lot of ways\n",
        "# first we need to take an input and assign a variable to that\n",
        "name = input (\"Please enter your name: \")\n",
        "# we can use ',' to seperate values in print function, it will be replaced by a space in the console\n",
        "print(\"Your name is\", name)"
      ],
      "metadata": {
        "id": "p-n7-94QvBJu",
        "colab": {
          "base_uri": "https://localhost:8080/"
        },
        "outputId": "c9a238f1-5e44-43c1-d727-1db6c1dc3c87"
      },
      "execution_count": 4,
      "outputs": [
        {
          "output_type": "stream",
          "name": "stdout",
          "text": [
            "Please enter your name: Albert\n",
            "Your name is Albert\n"
          ]
        }
      ]
    },
    {
      "cell_type": "markdown",
      "source": [
        "## **Task 5**"
      ],
      "metadata": {
        "id": "qGnL0VWPvBTi"
      }
    },
    {
      "cell_type": "markdown",
      "source": [
        "Write a Python program that reads two integers M and N respectively and finds the value of M^N and prints the value as shown in the example."
      ],
      "metadata": {
        "id": "XGfCPDx0vBTj"
      }
    },
    {
      "cell_type": "markdown",
      "source": [
        "<table>\n",
        "<tr>\n",
        "    <th>Sample Input</th> \n",
        "    <th>Sample Output</th>\n",
        "</tr>\n",
        "\n",
        "<tr>\n",
        "    <td>2 <br>\n",
        "    3</td>\n",
        "    <td>2^3: 8</td> \n",
        "</tr>\n",
        "<tr>\n",
        "    <td>10 <br> \n",
        "    5</td>\n",
        "    <td>10^3: 1000</td> \n",
        "</tr>\n",
        " </table>"
      ],
      "metadata": {
        "id": "CItvZguTvBTj"
      }
    },
    {
      "cell_type": "code",
      "source": [
        "# take M and N as inputs\n",
        "M = int(input())\n",
        "N = int(input())\n",
        "# one way we can do power is by: base**exponent\n",
        "pow = M**N\n",
        "\n",
        "# now we have to format in the print function. this useful because ',' adds a space and using '+' too many times is very clunky and slow\n",
        "# we can format by putting an f (newer) before the string, or .format() after\n",
        "print(f'{M}^{N}: {pow}')"
      ],
      "metadata": {
        "id": "SnNPX52tvBTj",
        "colab": {
          "base_uri": "https://localhost:8080/"
        },
        "outputId": "2a3094a0-b797-41a1-83dc-b64c6a7ae5e2"
      },
      "execution_count": 6,
      "outputs": [
        {
          "output_type": "stream",
          "name": "stdout",
          "text": [
            "10\n",
            "3\n",
            "10^3: 1000\n"
          ]
        }
      ]
    },
    {
      "cell_type": "markdown",
      "source": [
        "## **Task 6**"
      ],
      "metadata": {
        "id": "qNzy8bjLvBcb"
      }
    },
    {
      "cell_type": "markdown",
      "source": [
        "A sailor has a boat known as Téssares Boat, which has four corners. The boat is capable of carrying goods of any weight as long as there is equal distribution of loads on each corner of the boat - the center area has been occupied by the engine. The sailor needs your help to know the maximum amount of weight he can carry in each shipment.\n",
        "Write a Python program that reads the total weight of the shipment and prints the maximum load (or weight) the boat can take from the given shipment. We can assume that the weight of each good is exactly 1 unit, therefore, the weight of 5 units means there are 5 (loose) items in the shipment."
      ],
      "metadata": {
        "id": "HyITOrOXvBcc"
      }
    },
    {
      "cell_type": "markdown",
      "source": [
        "<table>\n",
        "<tr>\n",
        "    <th>Sample Input</th> \n",
        "    <th>Sample Output</th>\n",
        "</tr>\n",
        "\n",
        "<tr>\n",
        "    <td>9</td>\n",
        "    <td>8</td> \n",
        "</tr>\n",
        "<tr>\n",
        "    <td>11</td>\n",
        "    <td>8</td> \n",
        "</tr>\n",
        "<tr>\n",
        "    <td>23</td>\n",
        "    <td>20</td> \n",
        "</tr>\n",
        " </table>"
      ],
      "metadata": {
        "id": "jLDDG5dCvBcc"
      }
    },
    {
      "cell_type": "code",
      "source": [
        "# -four corner, equal distribution\n",
        "# we can calculate how much one corner will have to carry by floor dividing total weight by 4\n",
        "corner1 = int(input())//4\n",
        "\n",
        "# we can now multiply this by twelve and get the maxium weight the boat can take\n",
        "max = corner1*4\n",
        "print(max)"
      ],
      "metadata": {
        "id": "hxq00khivBcc",
        "colab": {
          "base_uri": "https://localhost:8080/"
        },
        "outputId": "99ff6925-da04-4ca6-df86-c6443e468037"
      },
      "execution_count": 10,
      "outputs": [
        {
          "output_type": "stream",
          "name": "stdout",
          "text": [
            "23\n",
            "20\n"
          ]
        }
      ]
    },
    {
      "cell_type": "markdown",
      "source": [
        "## **Task 7**"
      ],
      "metadata": {
        "id": "4Ym7b3tNvBlD"
      }
    },
    {
      "cell_type": "markdown",
      "source": [
        "Write a Python program that reads 3 integers A, B, and C respectively, and then reads a floating point number D. After reading, the program should print the result (as int) using the given formula below.\n",
        "Formula110: A^C+B*A-D/3 \n"
      ],
      "metadata": {
        "id": "0vGY_nuCvBlD"
      }
    },
    {
      "cell_type": "markdown",
      "source": [
        "<table>\n",
        "<tr>\n",
        "    <th>Sample Input</th> \n",
        "    <th>Sample Output</th>\n",
        "</tr>\n",
        "\n",
        "<tr>\n",
        "    <td>2 <br>\n",
        "    6 <br>\n",
        "    8 <br>\n",
        "    1.3\n",
        "    </td>\n",
        "    <td>267</td> \n",
        "</tr>\n",
        "<tr>\n",
        "    <td>9 <br>\n",
        "    100 <br>\n",
        "    1 <br>\n",
        "    3.7\n",
        "    </td>\n",
        "    <td>907</td>\n",
        "</tr>\n",
        "<tr>\n",
        "    <td>88 <br>\n",
        "    22 <br>\n",
        "    1 <br>\n",
        "    3.3\n",
        "    </td>\n",
        "    <td>2022</td>\n",
        "</tr>\n",
        " </table>"
      ],
      "metadata": {
        "id": "Z13_zPxivBlD"
      }
    },
    {
      "cell_type": "code",
      "source": [
        "# first we need to take input\n",
        "A = int(input())\n",
        "B = int(input())\n",
        "C = int(input())\n",
        "D = float(input())\n",
        "\n",
        "# python follows the order of operations, so\n",
        "Formula110 = A**C + B*A - D/3\n",
        "# if you want to be sure, you can use brackets to make sure that operation happens first\n",
        "\n",
        "print(int(Formula110))"
      ],
      "metadata": {
        "id": "I9CCkr8YvBlD",
        "colab": {
          "base_uri": "https://localhost:8080/"
        },
        "outputId": "f4f1c24d-0c4e-4584-c0d1-72225c9125c1"
      },
      "execution_count": 12,
      "outputs": [
        {
          "output_type": "stream",
          "name": "stdout",
          "text": [
            "88\n",
            "22\n",
            "1\n",
            "3.3\n",
            "2022\n"
          ]
        }
      ]
    },
    {
      "cell_type": "markdown",
      "source": [
        "## **Task 8**"
      ],
      "metadata": {
        "id": "V4ubeIrsvB2H"
      }
    },
    {
      "cell_type": "markdown",
      "source": [
        "Write a python program that takes an integer from the user which represents the number of chocolates that he/she has. He/She decided to distribute the chocolates equally among 3 friends, keeping the remaining chocolates for him/herself. Find out the number of chocolates each friend will receive and the number of chocolates that will be remaining."
      ],
      "metadata": {
        "id": "Y54hV5ABvB2I"
      }
    },
    {
      "cell_type": "markdown",
      "source": [
        "**Sample Input 1:** <br>\n",
        "50 <br>\n",
        "**Sample Output 1:** <br>\n",
        "Each friend will receive 16 chocolates <br>\n",
        "The number of remaining chocolates is 2 <br>\n",
        "**Sample Input 2:** <br>\n",
        "90 <br>\n",
        "**Sample Output 2:** <br>\n",
        "Each friend will receive 30 chocolates <br>\n",
        "The number of remaining chocolates is 0 <br>"
      ],
      "metadata": {
        "id": "8wGVAo3SIE6O"
      }
    },
    {
      "cell_type": "code",
      "source": [
        "original = int(input())\n",
        "# to find how many each friend will receive we just need to floor divide by 3\n",
        "each = original//3\n",
        "# now multiply by 3 and substract from original\n",
        "left = original - each*3\n",
        "print(f'Each friend will receive {each} chocolates')\n",
        "print(f'The number of remaining chocolates is {left}')"
      ],
      "metadata": {
        "id": "iyyn-Re-vB2J",
        "colab": {
          "base_uri": "https://localhost:8080/"
        },
        "outputId": "6179fe2e-9b85-4973-9dab-41d40e0ef2cf"
      },
      "execution_count": 14,
      "outputs": [
        {
          "output_type": "stream",
          "name": "stdout",
          "text": [
            "90\n",
            "Each friend will receive 30 chocolates\n",
            "The number of remaining chocolates is 0\n"
          ]
        }
      ]
    },
    {
      "cell_type": "markdown",
      "source": [
        "## **Task 9**\n",
        "*   Ungraded\n",
        "\n",
        "\n",
        "\n"
      ],
      "metadata": {
        "id": "EiofXmPNvrfs"
      }
    },
    {
      "cell_type": "markdown",
      "source": [],
      "metadata": {
        "id": "R9ZV1QoZvrfs"
      }
    },
    {
      "cell_type": "markdown",
      "source": [],
      "metadata": {
        "id": "VyLg-od5vrfs"
      }
    },
    {
      "cell_type": "code",
      "source": [],
      "metadata": {
        "id": "JATSDphMvrfs"
      },
      "execution_count": null,
      "outputs": []
    },
    {
      "cell_type": "markdown",
      "source": [
        "## **Task 10**\n",
        "*   Ungraded\n",
        "\n",
        "\n",
        "\n"
      ],
      "metadata": {
        "id": "klhvArxYwRSr"
      }
    },
    {
      "cell_type": "markdown",
      "source": [],
      "metadata": {
        "id": "hzHN_DqSwRSx"
      }
    },
    {
      "cell_type": "markdown",
      "source": [],
      "metadata": {
        "id": "LSxVYRoLwRSx"
      }
    },
    {
      "cell_type": "code",
      "source": [],
      "metadata": {
        "id": "DB_Bv9DYwRSx"
      },
      "execution_count": null,
      "outputs": []
    },
    {
      "cell_type": "markdown",
      "source": [
        "## **Task 10**\n",
        "*   Ungraded\n",
        "\n",
        "\n",
        "\n"
      ],
      "metadata": {
        "id": "EP7wGSkpwRbU"
      }
    },
    {
      "cell_type": "markdown",
      "source": [],
      "metadata": {
        "id": "_b7UjJkQwRbU"
      }
    },
    {
      "cell_type": "markdown",
      "source": [],
      "metadata": {
        "id": "kb1P1DRvwRbU"
      }
    },
    {
      "cell_type": "code",
      "source": [],
      "metadata": {
        "id": "xisZAfQawRbV"
      },
      "execution_count": null,
      "outputs": []
    }
  ]
}