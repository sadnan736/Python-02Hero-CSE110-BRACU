{
 "cells": [
  {
   "cell_type": "markdown",
   "metadata": {
    "id": "a3AoqV0pzMaH"
   },
   "source": [
    "<center>This assignment was issued by BRAC University</center>\n",
    "<br>\n",
    "<center>It was completed by Sadnan Islam</center>\n",
    "\n",
    "---\n",
    "<center><a href='https://www.linktr.ee/sadnan736'><img src='https://github.com/sadnan736/PythonA2Z-CSE110-BRACU/blob/main/Socials.png?raw=true'  width=\"200\"/></a></center>"
   ]
  },
  {
   "attachments": {},
   "cell_type": "markdown",
   "metadata": {
    "id": "XqUfY9RQuHys"
   },
   "source": [
    "## **Task 1**"
   ]
  },
  {
   "attachments": {},
   "cell_type": "markdown",
   "metadata": {
    "id": "knIP9D6huqdh"
   },
   "source": [
    "<p class=\"c2\"><span class=\"c7\">Write the python programs, which prints the following sequences of values in loops:</span></p><p class=\"c2\"><span class=\"c7\">a) 24, 18, 12, 6, 0, -6<br>b) -10, -5, 0, 5, 10, 15, 20<br>c) 18, 27, 36, 45, 54, 63<br>d) 18, -27, 36, -45, 54, -63</span></p><p class=\"c2\"><span class=\"c5\">===============================================================</span></p><p class=\"c2\"><span class=\"c19\">Hint (1):</span><span class=\"c7\">&nbsp;You may use a while loop for solving these problems.</span></p><p class=\"c14\"><span class=\"c19\">Hint (2):</span><span class=\"c7\">&nbsp;We are already familiar with the print() function. But, when we use it to print any value, it automatically adds an additional newline after each print statement.</span></p><p class=\"c2\"><span class=\"c7\">For example:<br>print(1)<br>print(2)</span></p><p class=\"c2\"><span class=\"c7\">Output:<br>1<br>2</span></p><p class=\"c2\"><span class=\"c5\">===============================================================</span></p><p class=\"c14\"><span class=\"c7\">To solve this problem, in Python3, we can add an extra argument (end = &quot; &quot;) in the print function which tells the program to skip printing the additional newline.</span></p><p class=\"c2\"><span class=\"c7\">For example:<br>print(1, end =&quot;&quot;)<br>print(2)</span></p><p class=\"c2\"><span class=\"c7\">Output: (prints the next output right to the previous one)<br>12</span></p><p class=\"c2\"><span class=\"c5\">===============================================================</span></p><p class=\"c14\"><span class=\"c7\">In Task-1(a), the loop counter may be initialized at 24 and then the loop should terminate when the loop counter reaches -6. The difference between the first two values is 24 - 18 = 6. So, the loop counter value is getting decremented by 6 in every iteration for the given sequence here.</span></p><hr style=\"page-break-before:always;display:none;\"><p class=\"c9\"><span class=\"c7\"></span></p><p class=\"c2\"><span class=\"c7\">For your understanding, the code for Task 1(a) is done for you.</span></p>"
   ]
  },
  {
   "cell_type": "code",
   "execution_count": null,
   "metadata": {
    "colab": {
     "base_uri": "https://localhost:8080/"
    },
    "id": "d8KximDFunea",
    "outputId": "d2767946-f304-4eeb-df6b-9630890b4ab9"
   },
   "outputs": [],
   "source": [
    "# a) 24, 18, 12, 6, 0, -6\n",
    "\n",
    "# the following task was done by BRACU University\n",
    " \n",
    "# initializing loop counter\n",
    "counter = 24\n",
    " \n",
    "# loop structure\n",
    "while counter >= -6:\n",
    "    \n",
    "    #inside loop body\n",
    "    if counter == -6:\n",
    "        print(counter, end = \"\") \n",
    "    else:\n",
    "        print(counter, end = \", \") \n",
    "     \n",
    "    counter = counter - 6 #updating loop counter\n",
    "    #inside loop body\n",
    "    \n",
    "#outside loop body\n"
   ]
  },
  {
   "cell_type": "code",
   "execution_count": 1,
   "metadata": {},
   "outputs": [
    {
     "name": "stdout",
     "output_type": "stream",
     "text": [
      "-10, -5, 0, 5, 10, 15, 20\n"
     ]
    }
   ],
   "source": [
    "# b) -10, -5, 0, 5, 10, 15, 20\n",
    "\n",
    "# intialize for loop for (start point, end point [exclusive], interval)\n",
    "for i in range(-10,21,5):\n",
    "\n",
    "  # if we look at the sample output, the number 20 doesn't have a comma beside it, so we have to add another seperate condition for that\n",
    "\n",
    "  if i != 20:\n",
    "    # end allows us to connect the the output with this one, we can also add a string in between them\n",
    "    print(i, end=\", \")\n",
    "\n",
    "  # when i == 20, python will go into this condition\n",
    "  else:\n",
    "    print(i)"
   ]
  },
  {
   "cell_type": "code",
   "execution_count": 2,
   "metadata": {},
   "outputs": [
    {
     "name": "stdout",
     "output_type": "stream",
     "text": [
      "18, 27, 36, 45, 54, 63\n"
     ]
    }
   ],
   "source": [
    "# c) 18, 27, 36, 45, 54, 63\n",
    "# this is same as b.\n",
    "\n",
    "for i in range(18,64,9):\n",
    "  \n",
    "  # we just flipped the conditions from b\n",
    "  if i == 63:\n",
    "    print(i)\n",
    "    \n",
    "  else:\n",
    "    print(i,end=\", \")"
   ]
  },
  {
   "cell_type": "code",
   "execution_count": 3,
   "metadata": {},
   "outputs": [
    {
     "name": "stdout",
     "output_type": "stream",
     "text": [
      "18, -27, 36, -45, 54, -63\n"
     ]
    }
   ],
   "source": [
    "# d) 18, -27, 36, -45, 54, -63\n",
    "\n",
    "# this is almost same as task c, just multiply odd numbers with -1\n",
    "\n",
    "for i in range(18,64,9):\n",
    "\n",
    "  # if number is even, do nothing\n",
    "  if i%2==0:\n",
    "    print(i, end=\", \")\n",
    "\n",
    "  # if number is odd\n",
    "  else:\n",
    "    # special condition for last output, no comma in end function\n",
    "    if i == 63:\n",
    "      print(-i)\n",
    "    else:\n",
    "      print(-i, end=\", \")"
   ]
  },
  {
   "attachments": {},
   "cell_type": "markdown",
   "metadata": {
    "id": "XqUfY9RQuHys"
   },
   "source": [
    "## **Task 2**"
   ]
  },
  {
   "attachments": {},
   "cell_type": "markdown",
   "metadata": {
    "id": "knIP9D6huqdh"
   },
   "source": [
    "<p class=\"c2\"><span class=\"c7\">Write a Python code for the following:</span></p><p class=\"c2\"><span class=\"c7\">1) Ask the user to enter the name of his favorite car.<br>2) Ask the user to enter a Number</span></p><p class=\"c14\"><span class=\"c7\">Display the name of the user&rsquo;s favorite car, the number of times specified in the second step.</span></p><p class=\"c14\"><span class=\"c5\">===============================================================</span><span class=\"c19\"><br>Example 1:</span><span class=\"c7\">&nbsp;If the user enters &ldquo;Toyota&rdquo; and 2, your program should print the name &ldquo;Toyota&rdquo; two times.</span></p><p class=\"c2\"><span class=\"c19\">Sample Input 1:</span><span class=\"c7\"><br>Toyota<br>2</span></p><p class=\"c2\"><span class=\"c19\">Sample Output 1:</span><span class=\"c7\"><br>Toyota<br>Toyota</span></p><p class=\"c14\"><span class=\"c5\">===============================================================</span><span class=\"c19\"><br>Example 2:</span><span class=\"c7\">&nbsp;If the user enters &ldquo;Veyron&rdquo; and 5, your program should print the name &ldquo;Veyron&rdquo; five times.</span></p><p class=\"c2\"><span class=\"c19\">Sample Input 2:</span><span class=\"c7\"><br>Veyron<br>5</span></p><p class=\"c2\"><span class=\"c19\">Sample Output 2:</span><span class=\"c7\"><br>Veyron<br>Veyron<br>Veyron<br>Veyron<br>Veyron</span></p>"
   ]
  },
  {
   "cell_type": "code",
   "execution_count": 4,
   "metadata": {
    "colab": {
     "base_uri": "https://localhost:8080/"
    },
    "id": "d8KximDFunea",
    "outputId": "d2767946-f304-4eeb-df6b-9630890b4ab9"
   },
   "outputs": [
    {
     "name": "stdout",
     "output_type": "stream",
     "text": [
      "Veyron\n",
      "Veyron\n",
      "Veyron\n",
      "Veyron\n",
      "Veyron\n"
     ]
    }
   ],
   "source": [
    "# take inputs\n",
    "car = input()\n",
    "times = int(input())\n",
    "\n",
    "# run a loop for how many times\n",
    "for i in range(times):\n",
    "  print(car)"
   ]
  },
  {
   "attachments": {},
   "cell_type": "markdown",
   "metadata": {
    "id": "XqUfY9RQuHys"
   },
   "source": [
    "## **Task 3**"
   ]
  },
  {
   "attachments": {},
   "cell_type": "markdown",
   "metadata": {
    "id": "knIP9D6huqdh"
   },
   "source": [
    "<p class=\"c14\"><span class=\"c32\">Write the Python code of a program that adds all numbers that are multiples of&nbsp;</span><span class=\"c19\">both 7 and 9</span><span class=\"c7\">&nbsp;up to 600 (including 600) i.e. 63, 126, 189, 252, ....</span></p><p class=\"c2\"><span class=\"c19\">The output of your program should be:</span><span class=\"c7\">&nbsp;2835<br>since 63 + 126 + 189 + 252 + 315 + 378 + 441 + 504 + 567 = 2835</span></p><p class=\"c9\"><span class=\"c5 c16\"></span></p>"
   ]
  },
  {
   "cell_type": "code",
   "execution_count": 10,
   "metadata": {
    "colab": {
     "base_uri": "https://localhost:8080/"
    },
    "id": "d8KximDFunea",
    "outputId": "d2767946-f304-4eeb-df6b-9630890b4ab9"
   },
   "outputs": [
    {
     "name": "stdout",
     "output_type": "stream",
     "text": [
      "2835\n"
     ]
    }
   ],
   "source": [
    "# declare variable for sum\n",
    "s=0\n",
    "# run a for loop\n",
    "# we used min value 9 and interval of 9 because our number must be multiples of 7 and 9; and 9 is the bigger number\n",
    "# you can also just use range(0,601)\n",
    "for i in range(9,601,9):\n",
    "\n",
    "  # we only check if it is divisble by 7 because, we set our range to be always a multiple of 9\n",
    "  if i%7==0:\n",
    "    # add i to sum\n",
    "    s += i\n",
    "\n",
    "print(s)"
   ]
  },
  {
   "attachments": {},
   "cell_type": "markdown",
   "metadata": {
    "id": "XqUfY9RQuHys"
   },
   "source": [
    "## **Task 4**"
   ]
  },
  {
   "attachments": {},
   "cell_type": "markdown",
   "metadata": {
    "id": "knIP9D6huqdh"
   },
   "source": [
    "<p class=\"c14\"><span class=\"c32\">Write a Python code of a program that adds all numbers that are multiples of&nbsp;</span><span class=\"c19\">either 7 or 9 but not both</span><span class=\"c7\">, up to 600 (including 600) i.e. 7, 9, 14, 18, 21..... and so on but not the numbers 63, 126, 189..... which are multiples of both 7 and 9.</span></p><p class=\"c49\"><span class=\"c19\">The output of your program should be:</span><span class=\"c7\">&nbsp;39814</span></p><p class=\"c9\"><span class=\"c5 c16\"></span></p>"
   ]
  },
  {
   "cell_type": "code",
   "execution_count": 8,
   "metadata": {
    "colab": {
     "base_uri": "https://localhost:8080/"
    },
    "id": "d8KximDFunea",
    "outputId": "d2767946-f304-4eeb-df6b-9630890b4ab9"
   },
   "outputs": [
    {
     "name": "stdout",
     "output_type": "stream",
     "text": [
      "39814\n"
     ]
    }
   ],
   "source": [
    "# declare variable for sum\n",
    "s = 0\n",
    "\n",
    "# start loop from 7, because checking other numbers would be pointless\n",
    "for i in range(7, 601):\n",
    "  \n",
    "  # make a condition multiple of 7 and 9 both; need to check and condition first [explained branching tasks]\n",
    "  if i%7==0 and i%9==0:\n",
    "    continue\n",
    "\n",
    "  elif i%7==0 or i%9==0:\n",
    "     s += i\n",
    "     \n",
    "print(s)"
   ]
  },
  {
   "attachments": {},
   "cell_type": "markdown",
   "metadata": {
    "id": "XqUfY9RQuHys"
   },
   "source": [
    "## **Task 5**"
   ]
  },
  {
   "attachments": {},
   "cell_type": "markdown",
   "metadata": {
    "id": "knIP9D6huqdh"
   },
   "source": [
    "<p class=\"c14\"><span class=\"c32\">Write the Python code of a program that displays all the&nbsp;</span><span class=\"c19\">odd numbers</span><span class=\"c7\">&nbsp;between 10 and 50 (inclusive).</span></p><p class=\"c2\"><span class=\"c19\">Output:</span><span class=\"c7\">&nbsp;11 13 15 17 19 21 23 25 27 29 31 33 35 37 39 41 43 45 47 49</span></p>"
   ]
  },
  {
   "cell_type": "code",
   "execution_count": 7,
   "metadata": {
    "colab": {
     "base_uri": "https://localhost:8080/"
    },
    "id": "d8KximDFunea",
    "outputId": "d2767946-f304-4eeb-df6b-9630890b4ab9"
   },
   "outputs": [
    {
     "name": "stdout",
     "output_type": "stream",
     "text": [
      "11 13 15 17 19 21 23 25 27 29 31 33 35 37 39 41 43 45 47 49\n"
     ]
    }
   ],
   "source": [
    "# run a loop\n",
    "for i in range(10,51):\n",
    "\n",
    "  # give condition for odd\n",
    "  if i%2!=0:\n",
    "\n",
    "    # condition for all other odds\n",
    "    if i!=49:\n",
    "      print(i, end= \" \")\n",
    "      \n",
    "    # special condition for last odd number\n",
    "    else:\n",
    "      print(i)"
   ]
  },
  {
   "attachments": {},
   "cell_type": "markdown",
   "metadata": {
    "id": "XqUfY9RQuHys"
   },
   "source": [
    "## **Task 6**"
   ]
  },
  {
   "attachments": {},
   "cell_type": "markdown",
   "metadata": {
    "id": "knIP9D6huqdh"
   },
   "source": [
    "<p class=\"c14\"><span class=\"c32\">Write a Python code that will calculate the&nbsp;</span><span class=\"c19\">value of y if the expression</span><span class=\"c7\">&nbsp;of y is as follows (n is the input):</span></p><p class=\"c20 c37\"><span class=\"c32\">y=1</span><span class=\"c10\">2</span><span class=\"c32\">&minus;2</span><span class=\"c10\">2</span><span class=\"c32\">+3</span><span class=\"c10\">2</span><span class=\"c32\">&minus;4</span><span class=\"c10\">2</span><span class=\"c32\">+5</span><span class=\"c10\">2</span><span class=\"c32\">.........+n</span><span class=\"c10\">2</span></p><p class=\"c2\"><span class=\"c5\">===============================================================</span></p><p class=\"c2\"><span class=\"c19\">Sample Input 1:</span><span class=\"c7\"><br>5</span></p><p class=\"c2\"><span class=\"c19\">Sample Output 1:</span><span class=\"c7\"><br>15</span></p><p class=\"c2\"><span class=\"c19\">Explanation:</span><span class=\"c7\">&nbsp;y = 1 - 4 + 9 - 16 + 25 = 15</span></p><p class=\"c2\"><span class=\"c5\">===============================================================</span><span class=\"c19\">Sample Input 2:</span><span class=\"c7\"><br>10</span></p><p class=\"c2\"><span class=\"c19\">Sample Output 2:</span><span class=\"c7\"><br>-55</span></p><p class=\"c2\"><span class=\"c19\">Explanation:</span><span class=\"c7\">&nbsp;y = 1 - 4 + 9 - 16 + 25 - 36 + 49 - 64 + 81 - 100 = -55</span></p><p class=\"c2\"><span class=\"c5\">===============================================================</span><span class=\"c19\">Sample Input 3:</span><span class=\"c7\"><br>20</span></p><p class=\"c2\"><span class=\"c19\">Sample Output 3:</span><span class=\"c7\"><br>-210</span></p><p class=\"c2 c25\"><span class=\"c5 c16\"></span></p><hr style=\"page-break-before:always;display:none;\"><p class=\"c9\"><span class=\"c6\"></span></p>"
   ]
  },
  {
   "cell_type": "code",
   "execution_count": 11,
   "metadata": {
    "colab": {
     "base_uri": "https://localhost:8080/"
    },
    "id": "d8KximDFunea",
    "outputId": "d2767946-f304-4eeb-df6b-9630890b4ab9"
   },
   "outputs": [
    {
     "name": "stdout",
     "output_type": "stream",
     "text": [
      "-210\n"
     ]
    }
   ],
   "source": [
    "# declare y variable and take input\n",
    "y = 0\n",
    "n = int(input())\n",
    "\n",
    "# run loop until input (inclusive)\n",
    "for i in range(1,n+1):\n",
    "  # check for even, square number, and make it negative and add it so s\n",
    "  if i%2 == 0:\n",
    "    y += - (i**2)\n",
    "    \n",
    "  # check for odd and the squared number to s\n",
    "  else:\n",
    "    y+= i**2\n",
    "\n",
    "print(y)"
   ]
  },
  {
   "attachments": {},
   "cell_type": "markdown",
   "metadata": {
    "id": "XqUfY9RQuHys"
   },
   "source": [
    "## **Task 7**"
   ]
  },
  {
   "attachments": {},
   "cell_type": "markdown",
   "metadata": {
    "id": "knIP9D6huqdh"
   },
   "source": [
    "<p class=\"c14\"><span class=\"c32\">Write a Python code of a program that asks the user to enter ten numbers and then display the total and the average of&nbsp;</span><span class=\"c19\">ONLY</span><span class=\"c32\">&nbsp;the&nbsp;</span><span class=\"c19\">odd numbers</span><span class=\"c32\">&nbsp;among those ten numbers.<br></span><span class=\"c23\">[Please do not use list for this task]</span></p><p class=\"c2\"><span class=\"c5\">===============================================================</span><span class=\"c19\"><br>Sample Input 1:</span><span class=\"c7\"><br>1</span></p><p class=\"c2\"><span class=\"c7\">2</span></p><p class=\"c2\"><span class=\"c7\">3</span></p><p class=\"c2\"><span class=\"c7\">4</span></p><p class=\"c2\"><span class=\"c7\">5</span></p><p class=\"c2\"><span class=\"c7\">6</span></p><p class=\"c2\"><span class=\"c7\">7</span></p><p class=\"c2\"><span class=\"c7\">8</span></p><p class=\"c2\"><span class=\"c7\">9</span></p><p class=\"c2\"><span class=\"c7\">10</span></p><p class=\"c2\"><span class=\"c19\">Sample Output 1:</span><span class=\"c7\">&nbsp;The total of the odd numbers is 25 and their average is 5.0</span></p><p class=\"c2\"><span class=\"c19\">Explanation:</span><span class=\"c7\">&nbsp;The total is 1 + 3 + 5 + 7 + 9 = 25 and the average is 25/5 = 5.0</span></p><p class=\"c2\"><span class=\"c5\">===============================================================</span><span class=\"c19\"><br>Sample Input 2:</span><span class=\"c7\"><br>-20</span></p><p class=\"c2\"><span class=\"c7\">13</span></p><p class=\"c2\"><span class=\"c7\">-5</span></p><p class=\"c2\"><span class=\"c7\">40</span></p><p class=\"c2\"><span class=\"c7\">-17</span></p><p class=\"c2\"><span class=\"c7\">10</span></p><p class=\"c2\"><span class=\"c7\">20</span></p><p class=\"c2\"><span class=\"c7\">-8</span></p><p class=\"c2\"><span class=\"c7\">99</span></p><p class=\"c2\"><span class=\"c7\">-200</span></p><p class=\"c2\"><span class=\"c19\">Sample Output 2:</span></p><p class=\"c2\"><span class=\"c7\">The total of the odd numbers is 90 and their average is 22.5</span></p><p class=\"c14\"><span class=\"c19\">Explanation:</span><span class=\"c7\">&nbsp;The total is 90 = 13 + (-5) + (-17) + 99) and their average is 90/4 = 22.5</span></p><p class=\"c2 c25\"><span class=\"c5 c16\"></span></p>"
   ]
  },
  {
   "cell_type": "code",
   "execution_count": 12,
   "metadata": {
    "colab": {
     "base_uri": "https://localhost:8080/"
    },
    "id": "d8KximDFunea",
    "outputId": "d2767946-f304-4eeb-df6b-9630890b4ab9"
   },
   "outputs": [
    {
     "name": "stdout",
     "output_type": "stream",
     "text": [
      "The total of the odd numbers is 90 and their average is 22.5\n"
     ]
    }
   ],
   "source": [
    "# avg = sum/count\n",
    "# declare sum and count variable for total sum of the odd numbers and how many there are\n",
    "sum = 0\n",
    "count = 0\n",
    "\n",
    "# run a loop to take 10 inputs\n",
    "for i in range(0,10):\n",
    "  # take input\n",
    "  inp = int(input())\n",
    "  # check for even\n",
    "  if inp%2 != 0:\n",
    "    # add to odd counter\n",
    "    count += 1\n",
    "    # add to sum\n",
    "    sum += inp\n",
    "  else:\n",
    "    # the continue statements puts us back in the start of the loop (for loops go up an interval for the variable)\n",
    "    continue\n",
    "\n",
    "# format output\n",
    "print(\n",
    "f\"The total of the odd numbers is {sum} and their average is {sum/count}\"\n",
    "    )"
   ]
  },
  {
   "attachments": {},
   "cell_type": "markdown",
   "metadata": {
    "id": "XqUfY9RQuHys"
   },
   "source": [
    "## **Task 8**"
   ]
  },
  {
   "attachments": {},
   "cell_type": "markdown",
   "metadata": {
    "id": "knIP9D6huqdh"
   },
   "source": [
    "<p class=\"c2\"><span class=\"c7\">Write a Python code for the following:</span></p><ul class=\"c64 lst-kix_list_17-0 start\"><li class=\"c37 c41 li-bullet-0\"><span class=\"c7\">Ask the user to enter a Number, N</span></li><li class=\"c37 c65 li-bullet-0\"><span class=\"c32\">Display the summation of multiples of 7 up to that number (</span><span class=\"c19\">from 1 to N inclusive</span><span class=\"c7\">)</span></li></ul><p class=\"c2\"><span class=\"c5\">===============================================================</span><br><span class=\"c19\">Sample Input 1:</span><span class=\"c7\"><br>50</span></p><p class=\"c2\"><span class=\"c19\">Sample Output 1:</span><span class=\"c7\"><br>196</span></p><p class=\"c14\"><span class=\"c19\">Explanation:</span><span class=\"c7\">&nbsp;The summation of multiples of 7 up to 50 is 7 + 14 + 21 + 28 + 35 + 42 + 49 = 196</span></p><p class=\"c2\"><span class=\"c5\">===============================================================</span><br><span class=\"c19\">Sample Input 2:</span><span class=\"c7\"><br>75</span></p><p class=\"c2\"><span class=\"c19\">Sample Output 2:</span><span class=\"c7\"><br>385</span></p><p class=\"c14\"><span class=\"c19\">Explanation:</span><span class=\"c7\">&nbsp;The summation of multiples of 7 up to 75 is 7 + 14 + 21 + 28 + 35 + 42 + 49 + 56 + 63 + 70 = 385</span></p><p class=\"c2 c25\"><span class=\"c5 c16\"></span></p>"
   ]
  },
  {
   "cell_type": "code",
   "execution_count": 13,
   "metadata": {
    "colab": {
     "base_uri": "https://localhost:8080/"
    },
    "id": "d8KximDFunea",
    "outputId": "d2767946-f304-4eeb-df6b-9630890b4ab9"
   },
   "outputs": [
    {
     "name": "stdout",
     "output_type": "stream",
     "text": [
      "385\n"
     ]
    }
   ],
   "source": [
    "n = int(input())\n",
    "# s for sum\n",
    "s=0\n",
    "# run a for loop starting with 7 until n+1 with an interval of 7 to get multiples of 7\n",
    "for i in range(7,n+1,7):\n",
    "  s+=i\n",
    "\n",
    "print(s)"
   ]
  },
  {
   "attachments": {},
   "cell_type": "markdown",
   "metadata": {
    "id": "XqUfY9RQuHys"
   },
   "source": [
    "## **Task 9**"
   ]
  },
  {
   "attachments": {},
   "cell_type": "markdown",
   "metadata": {
    "id": "knIP9D6huqdh"
   },
   "source": [
    "<p class=\"c14\"><span class=\"c7\">Write a Python code that will read 5 numbers from the user. Your program should print the first number, the sum of the first 2 numbers, the sum of the first 3 numbers, and so on up to the sum of 5 numbers.</span></p><p class=\"c2\"><span class=\"c5\">===============================================================</span><br><br><span class=\"c19\">Sample Input 1:</span><span class=\"c7\"><br>1<br>2<br>3<br>4<br>5</span></p><p class=\"c2\"><span class=\"c19\">Sample Output 1:</span><span class=\"c7\"><br>1<br>3<br>6<br>10<br>15</span></p><p class=\"c2 c25\"><span class=\"c12\"></span></p><p class=\"c2\"><span class=\"c19\">Explanation:</span><span class=\"c7\"><br>When the user enters 1 at first, we print 1, then<br>The user enters 2, (1 + 2) = 3, so our output is 3, then<br>The user enters 3, (3 + 3) = 6, hence our output is 6, then<br>The user enters 4, and we have (6 + 4) = 10, we print 10, and finally<br>The user enters 5, the final sum is 15 which is printed as the last output.</span></p><p class=\"c2\"><span class=\"c7\">===============================================================</span></p><p class=\"c49\"><span class=\"c19\">Sample Input 2:</span><span class=\"c7\"><br>11<br>-29<br>-3<br>47<br>50</span></p><p class=\"c2\"><span class=\"c19\">Sample Output 2:</span><span class=\"c7\"><br>11<br>-18<br>-21<br>26<br>76</span></p><p class=\"c2\"><span class=\"c19\">Explanation:</span><span class=\"c32\"><br>When the user enters 11 at first, we print 11, then<br>The user enters -29, (11 + (-29)) = -18, so our output is -18, then<br>The user enters -3, (-18 - 3) = -21, hence our output is -21, then<br>The user enters 4, and we have (-21 + 47) = 26, we print 26, and finally<br>The user enters 50, the final sum is (26 + 50) = 76 which is printed as the last output.</span></p><p class=\"c2 c25\"><span class=\"c5 c16\"></span></p>"
   ]
  },
  {
   "cell_type": "code",
   "execution_count": 14,
   "metadata": {
    "colab": {
     "base_uri": "https://localhost:8080/"
    },
    "id": "d8KximDFunea",
    "outputId": "d2767946-f304-4eeb-df6b-9630890b4ab9"
   },
   "outputs": [
    {
     "name": "stdout",
     "output_type": "stream",
     "text": [
      "11\n",
      "-18\n",
      "-21\n",
      "26\n",
      "76\n"
     ]
    }
   ],
   "source": [
    "# run a for loop -> take input -> add input to sum -> print\n",
    "\n",
    "sum = 0\n",
    "for i in range(5):\n",
    "  inp = int(input())\n",
    "  sum += inp\n",
    "  print(sum)"
   ]
  },
  {
   "attachments": {},
   "cell_type": "markdown",
   "metadata": {
    "id": "XqUfY9RQuHys"
   },
   "source": [
    "## **Task 10**"
   ]
  },
  {
   "attachments": {},
   "cell_type": "markdown",
   "metadata": {
    "id": "knIP9D6huqdh"
   },
   "source": [
    "<p class=\"c14\"><span class=\"c32\">Write a Python program which takes a number and prints the digits from the unit place, then the tenth, then hundredth, etc.&nbsp;</span><span class=\"c23\">(Right to Left)</span></p><p class=\"c14\"><span class=\"c23\">[Consider the input number to be an INTEGER. You are not allowed to use String indexing for solving this task]</span></p><p class=\"c2\"><span class=\"c19\">Example:</span><span class=\"c7\">&nbsp;If the user gives 32768, then print 8, 6, 7, 2, 3</span></p><p class=\"c2\"><span class=\"c7\">===============================================================</span></p><p class=\"c14\"><span class=\"c19\">Hint (1):</span><span class=\"c7\">&nbsp;The input() function, converts the input data to String data type by default. Therefore, please type cast it to an integer before proceeding further.</span></p><p class=\"c14\"><span class=\"c19\">Hint (2):</span><span class=\"c7\">&nbsp;First to get the digit from the right side, we can take the remainder of the number using modulus (%) operator i.e. mod 10 to get the rightmost digit and print it. For dropping the last digit, we can perform floor division by 10 on the number and then continue the same to print the other digits as shown below.</span></p><p class=\"c2\"><span class=\"c7\">32768 % 10 = 8</span></p><p class=\"c2\"><span class=\"c7\">32768 // 10 = 3276</span></p><p class=\"c2\"><span class=\"c7\">Then,</span></p><p class=\"c2\"><span class=\"c7\">3276 % 10 = 6</span></p><p class=\"c2\"><span class=\"c7\">3276 // 10 = 327</span></p><p class=\"c2\"><span class=\"c7\">and so on</span></p><p class=\"c2\"><span class=\"c7\">327 % 10 = 7</span></p><p class=\"c2\"><span class=\"c7\">327 // 10 = 32</span></p><p class=\"c2\"><span class=\"c7\">32 % 10 = 2</span></p><p class=\"c2\"><span class=\"c7\">32 // 10 = 3</span></p><p class=\"c2\"><span class=\"c7\">3 % 10 = 3</span></p><p class=\"c2\"><span class=\"c7\">3 // 10 = 0</span></p><p class=\"c2\"><span class=\"c7\">Done! When the number becomes 0 you can end your loop.</span></p><p class=\"c2 c25\"><span class=\"c5 c16\"></span></p>"
   ]
  },
  {
   "cell_type": "code",
   "execution_count": null,
   "metadata": {
    "colab": {
     "base_uri": "https://localhost:8080/"
    },
    "id": "d8KximDFunea",
    "outputId": "d2767946-f304-4eeb-df6b-9630890b4ab9"
   },
   "outputs": [],
   "source": [
    "n = int(input())\n",
    "\n",
    "while n > 0:\n",
    "  left = n%10\n",
    "  if n<10:\n",
    "    print(left,end=\"\")\n",
    "  else:\n",
    "    print(left, end= \", \")\n",
    "  n = n//10"
   ]
  },
  {
   "attachments": {},
   "cell_type": "markdown",
   "metadata": {
    "id": "XqUfY9RQuHys"
   },
   "source": [
    "## **Task 11**"
   ]
  },
  {
   "attachments": {},
   "cell_type": "markdown",
   "metadata": {
    "id": "knIP9D6huqdh"
   },
   "source": [
    "<p class=\"c14\"><span class=\"c32\">Write a Python program that takes a number and prints how many digits are in that number.<br></span><span class=\"c23\">[Consider the input number to be an INTEGER.]</span></p><p class=\"c2\"><span class=\"c23\">[You are not allowed to use len() function]</span></p><p class=\"c2\"><span class=\"c19\">Example:</span><span class=\"c7\">&nbsp;If the user gives 9876, your program should print 4.</span></p><p class=\"c14\"><span class=\"c19\">Hint:</span><span class=\"c7\">&nbsp;We may keep floor dividing by ten and count how many times this can be done until the number becomes 0 as illustrated below.</span></p><p class=\"c2\"><span class=\"c7\">9876 // 10 = 987, count = 1<br>then, 987 // 10 = 98, count = 2<br>98 // 10 = 9, count = 3<br>9 // 10 = 0, count = 4</span></p><p class=\"c14\"><span class=\"c7\">Done! When the number becomes 0 your loop can end giving you the count of digits, in this case for our input of 9876, 4 digits.</span></p><p class=\"c2 c25\"><span class=\"c5 c16\"></span></p><hr style=\"page-break-before:always;display:none;\"><p class=\"c9\"><span class=\"c6\"></span></p>"
   ]
  },
  {
   "cell_type": "code",
   "execution_count": 15,
   "metadata": {
    "colab": {
     "base_uri": "https://localhost:8080/"
    },
    "id": "d8KximDFunea",
    "outputId": "d2767946-f304-4eeb-df6b-9630890b4ab9"
   },
   "outputs": [
    {
     "name": "stdout",
     "output_type": "stream",
     "text": [
      "4\n"
     ]
    }
   ],
   "source": [
    "a = int(input())\n",
    "count = 0\n",
    "\n",
    "while a > 0 :\n",
    "  count += 1\n",
    "  a = a//10\n",
    "\n",
    "print(count)"
   ]
  },
  {
   "attachments": {},
   "cell_type": "markdown",
   "metadata": {
    "id": "XqUfY9RQuHys"
   },
   "source": [
    "## **Task 12**"
   ]
  },
  {
   "attachments": {},
   "cell_type": "markdown",
   "metadata": {
    "id": "knIP9D6huqdh"
   },
   "source": [
    "<p class=\"c14\"><span class=\"c32\">Write a Python program that takes a number from the user and prints its digits from&nbsp;</span><span class=\"c23\">left to right.</span></p><p class=\"c14\"><span class=\"c23\">[Consider the input number to be an INTEGER. You are not allowed to use String indexing for solving this task]</span></p><p class=\"c2\"><span class=\"c19\">Example:</span><span class=\"c7\">&nbsp;if the user gives 32768, then print 3, 2, 7, 6, 8</span></p><p class=\"c2\"><span class=\"c7\">===============================================================</span></p><p class=\"c14\"><span class=\"c19\">Hint(1):</span><span class=\"c7\">&nbsp;The input() function takes the input data as String data type by default. Please convert it to an integer before starting your code for the task.</span></p><p class=\"c2\"><span class=\"c19\">Hint(2):</span></p><p class=\"c2\"><span class=\"c7\">Step 1: First, count how many digits<br>Step 2: Then, calculate 10 to the power (number of digits - 1).</span></p><p class=\"c14\"><span class=\"c7\">Step 3 with explanation: Say, the input given by the user as in our example, 32768 has 5 digits, so calculating 10 to the power 4 gives us 10000. Then floor dividing 32768 by 10000, we can get 3. </span></p><p class=\"c14\"><span class=\"c7\">Proceeding further, the remainder of 32768 by 10000 (32768 % 10000) gives us 2768. This time to get 2 we need to floor divide 2768 by 1000 which is basically our 10000/10. Again, taking remainder of 2768 by 1000 gives us 768 which we then divide by 100 (i.e. 1000/10) and keep on doing this until there are no more digits left (zero).</span></p><p class=\"c2\"><span class=\"c19\">To summarize and clarify:</span><span class=\"c7\"><br>Loop 1: First, we count digits like our Task 12, say 5 in this case for 32768<br>Loop 2: Then, we calculate 10 to the power 4 (5-1), that is 10000.<br>Loop 3: Then we keep repeating the three steps of floor dividing, modulus and dividing by 10 as demonstrated below.</span></p><p class=\"c2\"><span class=\"c7\">32768 // 10000 = 3<br>32768 % 10000 = 2768<br>10000 // 10 = 1000</span></p><p class=\"c2\"><span class=\"c7\">2768 // 1000 = 2<br>2768 % 1000 = 768<br>1000 // 10 = 100</span></p><p class=\"c2\"><span class=\"c7\">768 // 100 = 7<br>768 % 100 = 68<br>100 // 10 = 10</span></p><p class=\"c2\"><span class=\"c7\">68 // 10 = 6<br>68 % 10 = 8<br>10 // 10 = 1</span></p><p class=\"c2\"><span class=\"c7\">8 // 1 = 8<br>8 % 1 = 0<br>1 // 10 = 0</span></p><p class=\"c2\"><span class=\"c7\">Done. Loop ends as number has become 0.</span></p>"
   ]
  },
  {
   "cell_type": "code",
   "execution_count": 23,
   "metadata": {
    "colab": {
     "base_uri": "https://localhost:8080/"
    },
    "id": "d8KximDFunea",
    "outputId": "d2767946-f304-4eeb-df6b-9630890b4ab9"
   },
   "outputs": [
    {
     "name": "stdout",
     "output_type": "stream",
     "text": [
      "3, 2, 7, 6, 8\n"
     ]
    }
   ],
   "source": [
    "count = 0\n",
    "a = int(input())\n",
    "b = a\n",
    "while a > 0:\n",
    "    count += 1\n",
    "    a = a//10\n",
    "\n",
    "while b > 0:\n",
    "    output = b//(10**(count-1))\n",
    "    b = b%(10**(count-1))\n",
    "    if b == 0:\n",
    "        print(output)\n",
    "    else:\n",
    "        print(output, end=', ')\n",
    "    count = count -1"
   ]
  },
  {
   "attachments": {},
   "cell_type": "markdown",
   "metadata": {
    "id": "XqUfY9RQuHys"
   },
   "source": [
    "## **Task 13**"
   ]
  },
  {
   "attachments": {},
   "cell_type": "markdown",
   "metadata": {
    "id": "knIP9D6huqdh"
   },
   "source": [
    "<p class=\"c14\"><span class=\"c7\">Write a Python program that takes a number as input from the user and prints the divisors of that number as well as how many divisors the number has.</span></p><p class=\"c2\"><span class=\"c5\">===============================================================</span><br><br><span class=\"c19\">Sample Input 1:</span><span class=\"c7\"><br>6</span></p><p class=\"c2\"><span class=\"c19\">Sample Output 1:</span><span class=\"c7\"><br>1</span></p><p class=\"c2\"><span class=\"c7\">2</span></p><p class=\"c2\"><span class=\"c7\">3</span></p><p class=\"c2\"><span class=\"c7\">6<br>Total 4 divisors.</span></p><p class=\"c2\"><span class=\"c5\">===============================================================</span><br><br><span class=\"c19\">Sample Input 2:</span><span class=\"c7\"><br>121</span></p><p class=\"c2\"><span class=\"c19\">Sample Output 2:</span><span class=\"c7\"><br>1</span></p><p class=\"c2\"><span class=\"c7\">11</span></p><p class=\"c2\"><span class=\"c7\">121<br>Total 3 divisors.</span></p><p class=\"c2 c25\"><span class=\"c7\"></span></p>"
   ]
  },
  {
   "cell_type": "code",
   "execution_count": 17,
   "metadata": {
    "colab": {
     "base_uri": "https://localhost:8080/"
    },
    "id": "d8KximDFunea",
    "outputId": "d2767946-f304-4eeb-df6b-9630890b4ab9"
   },
   "outputs": [
    {
     "name": "stdout",
     "output_type": "stream",
     "text": [
      "1\n",
      "11\n",
      "121\n",
      "Total 3 divisors.\n"
     ]
    }
   ],
   "source": [
    "inp = int(input())\n",
    "count = 0\n",
    "for i in range(1,inp+1):\n",
    "  if inp%i == 0:\n",
    "    count += 1\n",
    "    print(i)\n",
    "\n",
    "print(f\"Total {count} divisors.\")"
   ]
  },
  {
   "attachments": {},
   "cell_type": "markdown",
   "metadata": {
    "id": "XqUfY9RQuHys"
   },
   "source": [
    "## **Task 14**"
   ]
  },
  {
   "attachments": {},
   "cell_type": "markdown",
   "metadata": {
    "id": "knIP9D6huqdh"
   },
   "source": [
    "<p class=\"c2 c25\"><span class=\"c16 c60\"></span></p><p class=\"c14\"><span class=\"c7\">Write a Python program that takes a number as input from the user and tells if it is a perfect number or not.</span></p><p class=\"c14\"><span class=\"c19\">Perfect Number:</span><span class=\"c7\">&nbsp;An integer number is said to be a perfect number if its factors, including 1 but not the number itself, sum to the number.</span></p><p class=\"c2\"><span class=\"c5\">===============================================================</span><br><br><span class=\"c19\">Sample Input 1:</span><span class=\"c7\"><br>6</span></p><p class=\"c2\"><span class=\"c19\">Sample Output 2:</span><span class=\"c7\"><br>6 is a perfect number</span></p><p class=\"c2\"><span class=\"c19\">Explanation:</span><span class=\"c7\"><br>6 has 4 divisors: 1, 2, 3, and 6.<br>If we add all factors except 6 itself, 1 + 2 + 3 = 6. The sum of the factors excluding the number itself sum up to the number therefore &quot;6 is a perfect number&quot; is printed.</span></p><p class=\"c2\"><span class=\"c5\">===============================================================</span><br><br><span class=\"c19\">Sample Input 2:</span><span class=\"c7\"><br>28</span></p><p class=\"c2\"><span class=\"c19\">Sample Output 2:</span><span class=\"c7\"><br>28 is a perfect number</span></p><p class=\"c2\"><span class=\"c19\">Explanation:</span><span class=\"c7\"><br>28 has the divisors: 1, 2, 4, 7, 14, and 28.<br>If we add all factors except itself, we get 28, 1 + 2 + 4 + 7 + 14 = 28.</span></p><p class=\"c2\"><span class=\"c5\">===============================================================</span><br><br><span class=\"c19\">Sample Input 3:</span><span class=\"c7\"><br>33</span></p><p class=\"c2\"><span class=\"c19\">Sample Output 3:</span><span class=\"c7\"><br>33 is not a perfect number</span></p><p class=\"c2\"><span class=\"c19\">Explanation:</span><span class=\"c7\"><br>33 has 4 divisors: 1, 3, 11, and 33.<br>If we add all factors except itself, 15 = 1 + 3 + 11. The sum is not equal to the number, therefore 33 is not a perfect number.</span></p>"
   ]
  },
  {
   "cell_type": "code",
   "execution_count": 24,
   "metadata": {
    "colab": {
     "base_uri": "https://localhost:8080/"
    },
    "id": "d8KximDFunea",
    "outputId": "d2767946-f304-4eeb-df6b-9630890b4ab9"
   },
   "outputs": [
    {
     "name": "stdout",
     "output_type": "stream",
     "text": [
      "33 is not a perfect number\n"
     ]
    }
   ],
   "source": [
    "n = int(input())\n",
    "sum = 0\n",
    "\n",
    "for i in range(1,n):\n",
    "  if n%i ==0:\n",
    "    sum+= i\n",
    "\n",
    "if n == sum:\n",
    "  print(f'{n} is a perfect number')\n",
    "else:\n",
    "  print(f'{n} is not a perfect number')"
   ]
  },
  {
   "attachments": {},
   "cell_type": "markdown",
   "metadata": {
    "id": "XqUfY9RQuHys"
   },
   "source": [
    "## **Task 15**"
   ]
  },
  {
   "attachments": {},
   "cell_type": "markdown",
   "metadata": {
    "id": "knIP9D6huqdh"
   },
   "source": [
    "<p class=\"c2\"><span class=\"c7\">Write a Python program that asks the user for one number and tells if it is a prime number or not.</span></p><p class=\"c2\"><span class=\"c19\">Prime Number:</span><span class=\"c7\">&nbsp;If a number has only two divisors, (1 and itself), then it is a prime number. If it is divisible by more numbers, then it is not a prime.</span></p><p class=\"c2\"><span class=\"c19\">Hint:</span><span class=\"c7\">&nbsp;You may use the code for counting divisors from Task 14.</span></p><p class=\"c2\"><span class=\"c5\">===============================================================</span><br><br><span class=\"c19\">Sample Input 1:</span><span class=\"c7\"><br>11</span></p><p class=\"c2\"><span class=\"c19\">Sample Output 1:</span><span class=\"c7\"><br>11 is a prime number</span></p><p class=\"c2\"><span class=\"c19\">Explanation:</span><span class=\"c7\">&nbsp;11 has only 2 divisors: 1 and 11.</span></p><p class=\"c2\"><span class=\"c5\">===============================================================</span><br><br><span class=\"c19\">Sample Input 2:</span><span class=\"c7\"><br>6</span></p><p class=\"c2\"><span class=\"c19\">Sample Output 2:</span><span class=\"c7\"><br>6 is not a prime number</span></p><p class=\"c2\"><span class=\"c19\">Explanation:</span><span class=\"c7\">&nbsp;6 has 4 divisors: 1, 2, 3 and 6.</span></p>"
   ]
  },
  {
   "cell_type": "code",
   "execution_count": 25,
   "metadata": {
    "colab": {
     "base_uri": "https://localhost:8080/"
    },
    "id": "d8KximDFunea",
    "outputId": "d2767946-f304-4eeb-df6b-9630890b4ab9"
   },
   "outputs": [
    {
     "name": "stdout",
     "output_type": "stream",
     "text": [
      "6 is not a prime number\n"
     ]
    }
   ],
   "source": [
    "count = 0\n",
    "n = int(input())\n",
    "\n",
    "for i in range(2,n):\n",
    "  if n%i == 0:\n",
    "    count =+1\n",
    "\n",
    "if count == 0:\n",
    "  print(f\"{n} is a prime number\")\n",
    "else:\n",
    "  print(f\"{n} is not a prime number\")"
   ]
  },
  {
   "attachments": {},
   "cell_type": "markdown",
   "metadata": {
    "id": "XqUfY9RQuHys"
   },
   "source": [
    "## **Task 16**"
   ]
  },
  {
   "attachments": {},
   "cell_type": "markdown",
   "metadata": {
    "id": "knIP9D6huqdh"
   },
   "source": [
    "<p class=\"c14\"><span class=\"c7\">Write a Python program that asks the user for a quantity, then takes that many numbers as input and prints the maximum, minimum and average of those numbers.</span></p><p class=\"c2\"><span class=\"c23\">[Please note that you CANNOT use max, min built-in functions]</span></p><p class=\"c2\"><span class=\"c23\">[Also, you DO NOT need to use lists for this task]</span></p><p class=\"c2\"><span class=\"c5\">===============================================================</span><br><br><span class=\"c19\">Example:</span><span class=\"c7\">&nbsp;If the user enters 5 as an input for quantity and the enters the 5 numbers, 10, 4, -1, -100, and 1.<br>The output of your program should be: &ldquo;Maximum 10&rdquo;, &ldquo;Minimum -100&rdquo;, &ldquo;Average is -17.2&rdquo; as shown below.</span></p><p class=\"c2\"><span class=\"c19\">Input:</span><span class=\"c7\"><br>5 </span></p><p class=\"c2\"><span class=\"c7\">10 </span></p><p class=\"c2\"><span class=\"c7\">4 </span></p><p class=\"c2\"><span class=\"c7\">-1 </span></p><p class=\"c2\"><span class=\"c7\">-100 </span></p><p class=\"c2\"><span class=\"c7\">1</span></p><p class=\"c2\"><span class=\"c19\">Output:</span><span class=\"c7\"><br>Maximum 10<br>Minimum -100<br>Average is -17.2</span></p><p class=\"c2\"><span class=\"c19\">Explanation:</span><span class=\"c7\">&nbsp;Average calculation: (10 + 4 + (-1) + (-100) + 1)/5 = -86/5 = -17.2</span></p><p class=\"c2 c25\"><span class=\"c5 c16\"></span></p>"
   ]
  },
  {
   "cell_type": "code",
   "execution_count": 2,
   "metadata": {
    "colab": {
     "base_uri": "https://localhost:8080/"
    },
    "id": "d8KximDFunea",
    "outputId": "d2767946-f304-4eeb-df6b-9630890b4ab9"
   },
   "outputs": [
    {
     "name": "stdout",
     "output_type": "stream",
     "text": [
      "Maximum 10\n",
      "Minimum -100\n",
      "Average is -17.2\n"
     ]
    }
   ],
   "source": [
    "import math\n",
    "\n",
    "max = -math.inf\n",
    "min = math.inf\n",
    "\n",
    "sum = 0\n",
    "\n",
    "cunt = int(input())\n",
    "for i in range(cunt):\n",
    "  n = int(input())\n",
    "  sum += n\n",
    "  if n > max:\n",
    "    max = n\n",
    "  if n < min:\n",
    "    min = n\n",
    "  \n",
    "print(\"Maximum\", max)\n",
    "print(\"Minimum\", min)\n",
    "print(\"Average is\", sum/cunt)"
   ]
  },
  {
   "attachments": {},
   "cell_type": "markdown",
   "metadata": {
    "id": "XqUfY9RQuHys"
   },
   "source": [
    "## **Task 17**"
   ]
  },
  {
   "attachments": {},
   "cell_type": "markdown",
   "metadata": {
    "id": "knIP9D6huqdh"
   },
   "source": [
    "<p class=\"c14\"><span class=\"c7\">Write a python program that prints a square of size N using + where N will be given as input as illustrated in the examples below.</span></p><p class=\"c2\"><span class=\"c19\">Hint:</span><span class=\"c7\">&nbsp;You may need to use nested loops to solve this problem.</span></p><p class=\"c2\"><span class=\"c5\">===============================================================</span><br><br><span class=\"c19\">Sample Input 1:</span></p><p class=\"c2\"><span class=\"c7\">5</span></p><p class=\"c2\"><span class=\"c19\">Sample Output 1:</span><span class=\"c7\"><br>+++++<br>+++++<br>+++++<br>+++++<br>+++++</span></p><p class=\"c14\"><span class=\"c19\">Explanation:</span><span class=\"c7\">&nbsp;Here, we may see it as 5 rows and 5 columns, where in each horizontal row/line, 5 &#39;+&#39; is printed next to each other and we have a total of 5 lines.</span></p><p class=\"c2\"><span class=\"c5\">===============================================================</span></p><hr style=\"page-break-before:always;display:none;\"><p class=\"c49\"><span class=\"c19\">Sample Input 2:</span></p><p class=\"c2\"><span class=\"c7\">3</span></p><p class=\"c2\"><span class=\"c19\">Sample Output 2:</span><span class=\"c7\"><br>+++<br>+++<br>+++</span></p><p class=\"c14\"><span class=\"c19\">Explanation:</span><span class=\"c7\">&nbsp;If the input is 3, then there will be 3 rows and 3 columns, where in each horizontal row/line, &#39;+&#39; is printed 3 times, 1 in each of the 3 columns and we will have a total of 3 lines.</span></p><p class=\"c2 c25\"><span class=\"c5 c16\"></span></p>"
   ]
  },
  {
   "cell_type": "code",
   "execution_count": 1,
   "metadata": {
    "colab": {
     "base_uri": "https://localhost:8080/"
    },
    "id": "d8KximDFunea",
    "outputId": "d2767946-f304-4eeb-df6b-9630890b4ab9"
   },
   "outputs": [
    {
     "name": "stdout",
     "output_type": "stream",
     "text": [
      "+++++\n",
      "+++++\n",
      "+++++\n",
      "+++++\n",
      "+++++\n"
     ]
    }
   ],
   "source": [
    "n = int(input())\n",
    "m = \"\"\n",
    "\n",
    "for i in range(n):\n",
    "  for i2 in range(n):\n",
    "    print(\"+\",end = \"\")\n",
    "  print()"
   ]
  },
  {
   "attachments": {},
   "cell_type": "markdown",
   "metadata": {
    "id": "XqUfY9RQuHys"
   },
   "source": [
    "## **Task 18**"
   ]
  },
  {
   "attachments": {},
   "cell_type": "markdown",
   "metadata": {
    "id": "knIP9D6huqdh"
   },
   "source": [
    "<p class=\"c14\"><span class=\"c7\">Write a python program that prints a rectangle of size M (height/line numbers) and N (length/column numbers) using incrementing numbers where M and N will be given as input. Please look at the examples below for clarification.</span></p><p class=\"c14\"><span class=\"c19\">Hint:</span><span class=\"c7\">&nbsp;You may need to use nested loops and print the loop counter variable in one of the loops.</span></p><p class=\"c2\"><span class=\"c5\">===============================================================</span><br><br><span class=\"c19\">Sample Input 1:</span><span class=\"c7\"><br>4<br>6</span></p><p class=\"c2\"><span class=\"c19\">Sample Output 1:</span><span class=\"c7\"><br>123456<br>123456<br>123456<br>123456</span></p><p class=\"c14\"><span class=\"c19\">Explanation:</span><span class=\"c7\">&nbsp;The user has given 4 rows/lines and 6 columns as input. Therefore, we have 4 lines in our output here and in each line, the column number is printed from 1 through to 6 for the 6 columns.</span></p><p class=\"c2\"><span class=\"c5\">===============================================================</span><br><br><span class=\"c19\">Sample Input 2:</span><span class=\"c7\"><br>3<br>2</span></p><p class=\"c2\"><span class=\"c19\">Sample Output 2:</span><span class=\"c7\"><br>12<br>12<br>12</span></p><p class=\"c14\"><span class=\"c19\">Explanation:</span><span class=\"c7\">&nbsp;Our user input this time is 3 rows/lines and 2 columns. So, our output has 3 lines and, in each line, the column number 1 and 2 are printed next to each other as the user only wants 2 columns here.</span></p>"
   ]
  },
  {
   "cell_type": "code",
   "execution_count": 3,
   "metadata": {
    "colab": {
     "base_uri": "https://localhost:8080/"
    },
    "id": "d8KximDFunea",
    "outputId": "d2767946-f304-4eeb-df6b-9630890b4ab9"
   },
   "outputs": [
    {
     "name": "stdout",
     "output_type": "stream",
     "text": [
      "12\n",
      "12\n",
      "12\n"
     ]
    }
   ],
   "source": [
    "m = int(input())\n",
    "n = int(input())\n",
    "\n",
    "for i in range(m):\n",
    "  for i2 in range(1,n+1):\n",
    "    print(i2,end= \"\")\n",
    "\n",
    "  print()"
   ]
  },
  {
   "attachments": {},
   "cell_type": "markdown",
   "metadata": {
    "id": "XqUfY9RQuHys"
   },
   "source": [
    "## **Task 19**"
   ]
  },
  {
   "attachments": {},
   "cell_type": "markdown",
   "metadata": {
    "id": "knIP9D6huqdh"
   },
   "source": [
    "<p class=\"c14\"><span class=\"c7\">Write a python program that prints a right-angled triangle of height N using incrementing numbers where N will be given as input.</span></p><p class=\"c14\"><span class=\"c19\">Hint:</span><span class=\"c7\">&nbsp;You may need to use nested loops. Try to think up to which point should the inner loop run.</span></p><p class=\"c2\"><span class=\"c5\">===============================================================</span><br><br><span class=\"c19\">Sample Input 1:</span><span class=\"c7\"><br>4</span></p><p class=\"c2\"><span class=\"c19\">Sample Output 1:</span><span class=\"c7\"><br>1<br>12<br>123<br>1234</span></p><p class=\"c14\"><span class=\"c19\">Explanation:</span><span class=\"c7\">&nbsp;For an input of 4, we have 4 rows/lines where in each line, the respective column number is printed sequentially up to the line/row number. So, in line number 1, we have 1 only. In line 2, 12 is printed. In line 3, we have 123 and so on.</span></p><p class=\"c2\"><span class=\"c5\">===============================================================</span><br><br><span class=\"c19\">Sample Input 2:</span><span class=\"c7\"><br>5</span></p><p class=\"c2\"><span class=\"c19\">Sample Output 2:</span><span class=\"c7\"><br>1<br>12<br>123<br>1234<br>12345</span></p><p class=\"c14\"><span class=\"c19\">Explanation:</span><span class=\"c7\">&nbsp;Numbers are printed sequentially up to the line number for each of the lines.</span></p><p class=\"c2 c25\"><span class=\"c5 c16\"></span></p>"
   ]
  },
  {
   "cell_type": "code",
   "execution_count": 4,
   "metadata": {
    "colab": {
     "base_uri": "https://localhost:8080/"
    },
    "id": "d8KximDFunea",
    "outputId": "d2767946-f304-4eeb-df6b-9630890b4ab9"
   },
   "outputs": [
    {
     "name": "stdout",
     "output_type": "stream",
     "text": [
      "1\n",
      "12\n",
      "123\n",
      "1234\n",
      "12345\n"
     ]
    }
   ],
   "source": [
    "n = int(input())\n",
    "\n",
    "for i in range(1,n+1):\n",
    "  for i2 in range(1,i+1):\n",
    "    print(i2,end =\"\")\n",
    "  print()"
   ]
  },
  {
   "attachments": {},
   "cell_type": "markdown",
   "metadata": {
    "id": "XqUfY9RQuHys"
   },
   "source": [
    "## **Task 25**\n",
    "\n",
    "###### * Ungraded"
   ]
  },
  {
   "attachments": {},
   "cell_type": "markdown",
   "metadata": {
    "id": "knIP9D6huqdh"
   },
   "source": [
    "<p class=\"c14\"><span class=\"c7\">Write a python program that prints all the Fibonacci numbers from 0 to N where N will be given as input by the user.</span></p><p class=\"c14\"><span class=\"c12\">A Fibonacci number is a number which is the summation of its previous two Fibonacci numbers.</span></p><p class=\"c2\"><span class=\"c7\">The first two Fibonacci numbers are 0 and 1.</span></p><p class=\"c2\"><span class=\"c7\">So, the 3rd is 0 + 1 = 1,</span></p><p class=\"c2\"><span class=\"c7\">the 4th is 1 + 1 = 2,</span></p><p class=\"c2\"><span class=\"c7\">the 5th is 1 + 2 = 3,</span></p><p class=\"c2\"><span class=\"c7\">the 6th one is 2 + 3 = 5,</span></p><p class=\"c2\"><span class=\"c7\">and so on.</span></p><p class=\"c2\"><span class=\"c7\">i.e. 0, 1, 1, 2, 3, 5, 8, 13, 21.......</span></p><p class=\"c2\"><span class=\"c5 c16\">===============================================================</span><br><br><span class=\"c12\">Sample Input 1:</span><span class=\"c7\"><br>10</span></p><p class=\"c2\"><span class=\"c12\">Sample Output 1:</span><span class=\"c7\"><br>0 1 1 2 3 5 8</span></p><p class=\"c14\"><span class=\"c12\">Explanation</span><span class=\"c7\">: All Fibonacci numbers up to the number 10 is printed separated by spaces.</span></p><p class=\"c2\"><span class=\"c5 c16\">===============================================================</span><br><br><span class=\"c12\">Sample Input 2:</span><span class=\"c7\"><br>15</span></p><p class=\"c2\"><span class=\"c12\">Sample Output 2:</span><span class=\"c7\"><br>0 1 1 2 3 5 8 13</span></p><p class=\"c2\"><span class=\"c12\">Explanation</span><span class=\"c7\">: All Fibonacci numbers up to the number 15 is printed separated by spaces.</span></p><p class=\"c2 c25\"><span class=\"c5 c16\"></span></p><hr style=\"page-break-before:always;display:none;\"><p class=\"c9\"><span class=\"c6\"></span></p>"
   ]
  },
  {
   "cell_type": "code",
   "execution_count": 13,
   "metadata": {
    "colab": {
     "base_uri": "https://localhost:8080/"
    },
    "id": "d8KximDFunea",
    "outputId": "d2767946-f304-4eeb-df6b-9630890b4ab9"
   },
   "outputs": [
    {
     "name": "stdout",
     "output_type": "stream",
     "text": [
      "0 1 1 2 3 5 8 13"
     ]
    }
   ],
   "source": [
    "m = 0\n",
    "n = int(input())\n",
    "\n",
    "f= 0\n",
    "f1 = 0\n",
    "f2 = 1\n",
    "if n < 0:\n",
    "  print(\"Incorrect value\")\n",
    "elif n ==0:\n",
    "  print(0)\n",
    "elif n == 1:\n",
    "  print(f1,f2,f1+f2)\n",
    "else:\n",
    "  print(0,1, end='')\n",
    "  while f <= n:\n",
    "    f = f1+f2\n",
    "    f1 = f2\n",
    "    f2 = f\n",
    "    if f <= n:\n",
    "      print('',f, end ='')"
   ]
  },
  {
   "attachments": {},
   "cell_type": "markdown",
   "metadata": {
    "id": "XqUfY9RQuHys"
   },
   "source": [
    "## **Task 26**\n",
    "\n",
    "###### * Ungraded"
   ]
  },
  {
   "attachments": {},
   "cell_type": "markdown",
   "metadata": {
    "id": "knIP9D6huqdh"
   },
   "source": [
    "<p class=\"c14\"><span class=\"c7\">Write a python program that converts a decimal integer number to a binary number.</span></p><p class=\"c14\"><span class=\"c19 c66\">Hint</span><span class=\"c32 c66\">: A decimal can be converted to a binary number by keeping track of the remainders after each division of that number by 2.</span></p><p class=\"c2\"><span class=\"c5 c16\">===============================================================</span><br><br><span class=\"c12\">Example 1:</span></p><p class=\"c2\"><span class=\"c7\">For example, to convert 11 to a binary number, we can try the following approach.</span></p><p class=\"c2\"><span class=\"c7\">11 // 2 = 5 (Remainder 1)<br>5 // 2 = 2 (Remainder 1)<br>2 // 2 = 1 (Remainder 0)<br>1 // 2 = 0 (Remainder 1)</span></p><p class=\"c2\"><span class=\"c7\">Now, taking the remainders from bottom to top gives us the binary number which is 1011. Binary of 11 is 1011.</span></p><p class=\"c2\"><span class=\"c12\">Sample Input 1:</span><span class=\"c7\"><br>11</span></p><p class=\"c2\"><span class=\"c12\">Sample Output 1:</span><span class=\"c7\"><br>1011</span></p><p class=\"c2\"><span class=\"c5 c16\">===============================================================</span><br><br><span class=\"c12\">Example 2:</span></p><p class=\"c2\"><span class=\"c7\">Similarly, to convert 13 to a binary number:</span></p><p class=\"c2\"><span class=\"c7\">13 // 2 = 6 (Remainder 1)<br>6 // 2 = 3 (Remainder 0)<br>3 // 2 = 1 (Remainder 1)<br>1 // 2 = 0 (Remainder 1)</span></p><p class=\"c14\"><span class=\"c7\">Again, taking the remainders from the bottom to top, which is 1101 gives us the binary number. Binary of 13 is 1101.</span></p><p class=\"c2\"><span class=\"c12\">Sample Input 2:</span><span class=\"c7\"><br>13</span></p><p class=\"c2\"><span class=\"c12\">Sample Output 2:</span><span class=\"c7\"><br>1101</span></p><p class=\"c2 c25\"><span class=\"c5 c16\"></span></p><hr style=\"page-break-before:always;display:none;\"><p class=\"c9\"><span class=\"c6\"></span></p>"
   ]
  },
  {
   "cell_type": "code",
   "execution_count": 14,
   "metadata": {
    "colab": {
     "base_uri": "https://localhost:8080/"
    },
    "id": "d8KximDFunea",
    "outputId": "d2767946-f304-4eeb-df6b-9630890b4ab9"
   },
   "outputs": [
    {
     "name": "stdout",
     "output_type": "stream",
     "text": [
      "1101\n"
     ]
    }
   ],
   "source": [
    "n = int(input())\n",
    "bin = 0\n",
    "l = \"\"\n",
    "while n > 0:\n",
    "  bin = n%2\n",
    "  n = n//2\n",
    "  l = l + str(bin)\n",
    "\n",
    "lint = int(l[-1::-1])\n",
    "print(lint)"
   ]
  },
  {
   "attachments": {},
   "cell_type": "markdown",
   "metadata": {
    "id": "XqUfY9RQuHys"
   },
   "source": [
    "## **Task 27**\n",
    "\n",
    "###### * Ungraded"
   ]
  },
  {
   "attachments": {},
   "cell_type": "markdown",
   "metadata": {
    "id": "knIP9D6huqdh"
   },
   "source": [
    "<p class=\"c14\"><span class=\"c7\">Write a python program that converts a binary number to a decimal integer number after taking the binary number as an input from the user.</span></p><p class=\"c14\"><span class=\"c12\">Note: A binary number can be converted to its corresponding decimal number by multiplying each binary digit with a power of 2, where the power denotes the position of the binary digit</span></p><p class=\"c2\"><span class=\"c7\">===============================================================</span></p><p class=\"c2\"><span class=\"c12\">Example 1:</span></p><p class=\"c2\"><span class=\"c7\">For example, to convert 1010 to decimal, we can do this</span></p><p class=\"c20 c37\"><span class=\"c7\">2</span><span class=\"c10 c38\">3</span><span class=\"c7\">&nbsp;&times; 1 +&nbsp;2</span><span class=\"c10 c38\">2</span><span class=\"c7\">&nbsp;&times; 0 +&nbsp;2</span><span class=\"c10 c38\">1</span><span class=\"c7\">&nbsp;&times;1 +&nbsp;2</span><span class=\"c10 c38\">0</span><span class=\"c7\">&nbsp;&times; 0 = 10</span></p><p class=\"c2\"><span class=\"c12\">Sample Input 1:</span><span class=\"c7\"><br>1010</span></p><p class=\"c2\"><span class=\"c12\">Sample Output 1:</span><span class=\"c7\"><br>10</span></p><p class=\"c2\"><span class=\"c7\">===============================================================</span></p><p class=\"c2\"><span class=\"c12\">Example 2:</span></p><p class=\"c2\"><span class=\"c7\">So, to convert 11101, we can do this</span></p><p class=\"c20 c37\"><span class=\"c7\">2</span><span class=\"c10 c38\">4</span><span class=\"c7\">&nbsp;x 1 +&nbsp;2</span><span class=\"c10 c38\">3</span><span class=\"c7\">&nbsp;x 1 +&nbsp;2</span><span class=\"c10 c38\">2</span><span class=\"c7\">&nbsp;x 1 +&nbsp;2</span><span class=\"c10 c38\">1</span><span class=\"c7\">&nbsp;x 0 +&nbsp;2</span><span class=\"c10 c38\">0</span><span class=\"c7\">&nbsp;x 1 = 29</span></p><p class=\"c2\"><span class=\"c12\">Sample Input 2:</span><span class=\"c7\"><br>11101</span></p><p class=\"c2\"><span class=\"c12\">Sample Output 2:</span><span class=\"c7\"><br>29</span></p><p class=\"c2 c25\"><span class=\"c5 c16\"></span></p>"
   ]
  },
  {
   "cell_type": "code",
   "execution_count": 15,
   "metadata": {
    "colab": {
     "base_uri": "https://localhost:8080/"
    },
    "id": "d8KximDFunea",
    "outputId": "d2767946-f304-4eeb-df6b-9630890b4ab9"
   },
   "outputs": [
    {
     "name": "stdout",
     "output_type": "stream",
     "text": [
      "29\n"
     ]
    }
   ],
   "source": [
    "bin = 0\n",
    "\n",
    "n = int(input())\n",
    "lenth = len(str(n))\n",
    "\n",
    "for i in range(n):\n",
    "  left = n%10\n",
    "  bin = bin + ((2**i) * left) \n",
    "  n = n//10\n",
    "print(bin)"
   ]
  },
  {
   "attachments": {},
   "cell_type": "markdown",
   "metadata": {},
   "source": [
    "## Caution:<p style=\"color:#e0474c\">We will use lists for the following 2 tasks, please come back to this after doing lists</p>"
   ]
  },
  {
   "attachments": {},
   "cell_type": "markdown",
   "metadata": {
    "id": "XqUfY9RQuHys"
   },
   "source": [
    "## **Task 28**\n",
    "\n",
    "###### * Ungraded"
   ]
  },
  {
   "attachments": {},
   "cell_type": "markdown",
   "metadata": {
    "id": "knIP9D6huqdh"
   },
   "source": [
    "<p class=\"c14\"><span class=\"c7\">Write a Python program that asks the user for a range (a starting number and an ending number) and then&nbsp;</span><span class=\"c12\">counts</span><span class=\"c7\">&nbsp;how many numbers are prime numbers and how many numbers are perfect numbers between that range. It also&nbsp;</span><span class=\"c12\">prints</span><span class=\"c7\">&nbsp;those numbers in the format shown in the output of the example given below.</span></p><p class=\"c2\"><span class=\"c7\">===============================================================</span></p><p class=\"c14\"><span class=\"c12\">Hint (1):</span><span class=\"c7\">&nbsp;We may declare two strings/lists to store the prime and perfect numbers. Inside the loop, we check for prime and perfect numbers and add them to respective string/list besides counting them.</span></p><p class=\"c14\"><span class=\"c12\">Hint (2):</span><span class=\"c7\">&nbsp;We may need to convert numbers in String to integers for checking and calculations. We may again need to convert numbers to Strings for storing and printing as the outputs shown in the example below.</span></p><p class=\"c2\"><span class=\"c7\">===============================================================</span></p><p class=\"c14\"><span class=\"c12\">Example:</span><span class=\"c7\">&nbsp;If the user gives us a range of between 2 and 6, there are 3 prime numbers (2, 3, 5) and 1 perfect number (6) in that range.</span></p><p class=\"c2\"><span class=\"c12\">Input:</span><span class=\"c7\"><br>2<br>6</span></p><p class=\"c2\"><span class=\"c12\">Output:</span><span class=\"c7\"><br>Between 2 and 6,<br>Found 3 prime numbers<br>Found 1 perfect number<br>Prime numbers: 2, 3, 5<br>Perfect number: 6</span></p><p class=\"c2 c25\"><span class=\"c5 c16\"></span></p>"
   ]
  },
  {
   "cell_type": "code",
   "execution_count": 25,
   "metadata": {
    "colab": {
     "base_uri": "https://localhost:8080/"
    },
    "id": "d8KximDFunea",
    "outputId": "d2767946-f304-4eeb-df6b-9630890b4ab9"
   },
   "outputs": [
    {
     "name": "stdout",
     "output_type": "stream",
     "text": [
      "Between 1 and 100,\n",
      "Found 26 prime numbers\n",
      "Found 2 perfect numbers\n",
      "Prime numbers: 1, 2, 3, 5, 7, 11, 13, 17, 19, 23, 29, 31, 37, 41, 43, 47, 53, 59, 61, 67, 71, 73, 79, 83, 89, 97\n",
      "Perfect numbers:  6, 28\n"
     ]
    }
   ],
   "source": [
    "prime = []\n",
    "perfect = []\n",
    "start  = int(input())\n",
    "end = int(input())\n",
    "count = 0\n",
    "\n",
    "# prime calculation\n",
    "for i in range(start,end+1):\n",
    "    count = 0\n",
    "    for i2 in range(2,i):\n",
    "        if i%i2 == 0:\n",
    "            count += 1\n",
    "    if count == 0:\n",
    "        prime.append(i)\n",
    "\n",
    "sum = 0\n",
    "\n",
    "for i in range(start,end+1):\n",
    "    sum = 0\n",
    "    for i2 in range(1,i):\n",
    "        if i%i2 == 0:\n",
    "            sum+= i2\n",
    "    if sum == i:\n",
    "        perfect.append(i)\n",
    "\n",
    "# we can combine two loops together without starting another loop for \"i\"\n",
    "\n",
    "\n",
    "print(f\"Between {start} and {end},\")\n",
    "print(f'Found {len(prime)} prime numbers')\n",
    "print(f'Found {len(perfect)} perfect numbers')\n",
    "print(\"Prime numbers:\", end= \" \")\n",
    "print(*prime, sep = \", \")\n",
    "print(\"Perfect numbers: \", end =\" \")\n",
    "print(*perfect, sep = \", \")\n",
    "\n",
    "# print(\n",
    "# f\"Between {start} and {end},\",\n",
    "# f'\\nFound {len(prime)} prime numbers',\n",
    "# f'\\nFound {len(perfect)} perfect numbers',\n",
    "# \"\\nPrime numbers:\",\n",
    "# f'\\n{prime}',\n",
    "# '\\nPerfect numbers:',\n",
    "# f'\\n{perfect}'\n",
    "# )"
   ]
  },
  {
   "attachments": {},
   "cell_type": "markdown",
   "metadata": {
    "id": "XqUfY9RQuHys"
   },
   "source": [
    "## **Task 29**\n",
    "\n",
    "###### * Ungraded"
   ]
  },
  {
   "attachments": {},
   "cell_type": "markdown",
   "metadata": {
    "id": "knIP9D6huqdh"
   },
   "source": [
    "<p class=\"c14\"><span class=\"c7\">Write a python program that asks the user for a range, a starting number(inclusive) and an ending number (inclusive). Then, take another </span><span class=\"c32\">input for</span><span class=\"c7\">&nbsp;checking. If the product of all the digits of each number in the range is divisible by the third input, then print the number.</span></p><p class=\"c2\"><span class=\"c7\">===============================================================</span></p><p class=\"c2\"><span class=\"c12\">Sample Input 1:</span><span class=\"c7\"><br>25<br>30<br>4</span></p><p class=\"c2\"><span class=\"c12\">Sample Output 1:</span><span class=\"c7\"><br>12 16 0</span></p><p class=\"c14\"><span class=\"c12\">Explanation:</span><span class=\"c7\">&nbsp;The product of all the digits of each number from 25 to 30 are 2 &times; 5, 2 &times; 6, 2 &times; 7, 2 &times; 8, 2 &times; 9 and 3 &times; 0. The final products are 10, 12, 14, 16, 18 and 0 respectively. Out of these numbers only 12, 16 and 0 are divisible by the third input 4 and therefore they are printed.</span></p><p class=\"c2\"><span class=\"c7\">===============================================================</span></p><p class=\"c2\"><span class=\"c12\">Sample Input 2:</span><span class=\"c7\"><br>351<br>356<br>9</span></p><p class=\"c2\"><span class=\"c12\">Sample Output 2:</span><span class=\"c7\"><br>45 90</span></p><p class=\"c2\"><span class=\"c12\">Explanation:</span><span class=\"c7\">&nbsp;The product of all the digits of each number from 351 to 356 are 3&times;5&times;1, 3&times;5&times;2, 3&times;5&times;3, 3&times;5&times;4, 3&times;5&times;5 and 3&times;5&times;6. The final products are 15, 30, 45, 60, 75 and 90 respectively. Out of these numbers only 45 and 90 are divisible by 9 and therefore they are printed.</span></p>"
   ]
  },
  {
   "cell_type": "code",
   "execution_count": 31,
   "metadata": {
    "colab": {
     "base_uri": "https://localhost:8080/"
    },
    "id": "d8KximDFunea",
    "outputId": "d2767946-f304-4eeb-df6b-9630890b4ab9"
   },
   "outputs": [
    {
     "name": "stdout",
     "output_type": "stream",
     "text": [
      "45 90\n"
     ]
    }
   ],
   "source": [
    "start = int(input())\n",
    "end = int(input())\n",
    "div = int(input())\n",
    "length = 0\n",
    "product = 0\n",
    "divlist = []\n",
    "\n",
    "for i in range(start,end+1):\n",
    "    product = 1\n",
    "    length = len(str(i))\n",
    "\n",
    "    for i2 in range(length):\n",
    "        product *= (int(str(i)[i2]))\n",
    "\n",
    "    if product % div == 0:\n",
    "        divlist.append(product)\n",
    "\n",
    "print(*divlist, sep = ' ')\n",
    "\n",
    "\n",
    "\n",
    "#    if (int(str(i)[0]) * int(str(i)[1])) % 4 == 0:\n",
    "#        print((int(str(i)[0]) * int(str(i)[1])), end = ' ')"
   ]
  }
 ],
 "metadata": {
  "kernelspec": {
   "display_name": "Python 3",
   "language": "python",
   "name": "python3"
  },
  "language_info": {
   "codemirror_mode": {
    "name": "ipython",
    "version": 3
   },
   "file_extension": ".py",
   "mimetype": "text/x-python",
   "name": "python",
   "nbconvert_exporter": "python",
   "pygments_lexer": "ipython3",
   "version": "3.10.7 (tags/v3.10.7:6cc6b13, Sep  5 2022, 14:08:36) [MSC v.1933 64 bit (AMD64)]"
  },
  "orig_nbformat": 4,
  "vscode": {
   "interpreter": {
    "hash": "3ace67975135ed89b0979b869152a5a6d7b3560399eafc83f8bdf4099fed6e66"
   }
  }
 },
 "nbformat": 4,
 "nbformat_minor": 2
}
