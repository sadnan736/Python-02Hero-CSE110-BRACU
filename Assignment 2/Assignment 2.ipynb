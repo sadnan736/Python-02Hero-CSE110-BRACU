{
 "cells": [
  {
   "attachments": {},
   "cell_type": "markdown",
   "metadata": {
    "id": "a3AoqV0pzMaH"
   },
   "source": [
    "<center>This assignment was issued by BRAC University</center>\n",
    "<br>\n",
    "<center>It was completed by Sadnan Islam</center>\n",
    "\n",
    "---\n",
    "<center><a href='https://www.linktr.ee/sadnan736'><img src='https://github.com/sadnan736/PythonA2Z-CSE110-BRACU/blob/main/Socials.png?raw=true'  width=\"200\"/></a></center>"
   ]
  },
  {
   "attachments": {},
   "cell_type": "markdown",
   "metadata": {
    "id": "XqUfY9RQuHys"
   },
   "source": [
    "## **Task 1**"
   ]
  },
  {
   "attachments": {},
   "cell_type": "markdown",
   "metadata": {
    "id": "Vj5iukKauuzR"
   },
   "source": [
    "Write the Python code of a program that reads two numbers from the user, and prints their sum,\n",
    "product, and difference. <br>\n",
    "###### *Hint: subtract the second number from the first one*\n",
    "\n",
    "---"
   ]
  },
  {
   "attachments": {},
   "cell_type": "markdown",
   "metadata": {},
   "source": [
    "**Example 1:** <br>\n",
    "**Sample Input:**<br>\n",
    "4 <br>\n",
    "5 <br>\n",
    "**Sample Output:** <br>\n",
    "Sum = 9 <br>\n",
    "Product = 20<br>\n",
    "Difference = -1<br>\n",
    "Example 2:<br>\n",
    "\n",
    "---\n",
    "**Sample Input:** <br>\n",
    "30<br>\n",
    "2<br>\n",
    "**Sample Output:**<br>\n",
    "Sum = 32<br>\n",
    "Product = 60<br>\n",
    "Difference = 28<br>\n",
    "\n",
    "---"
   ]
  },
  {
   "cell_type": "code",
   "execution_count": null,
   "metadata": {
    "colab": {
     "base_uri": "https://localhost:8080/"
    },
    "id": "d8KximDFunea",
    "outputId": "d2767946-f304-4eeb-df6b-9630890b4ab9"
   },
   "outputs": [],
   "source": [
    "# the following solution and explanation was provided by BRAC University.\n",
    "\n",
    "# First, we take 2 numbers as input from the user\n",
    "# Read 2 numbers as input from the user means taking 2 numbers as input\n",
    "# from the user using the input function\n",
    "var_1 = input('Please enter the first number: ')\n",
    "var_2 = input('Please enter the second number: ')\n",
    "\n",
    "#Since input() function converts everything to String,\n",
    "#For performing any kind of mathematical operation we need to convert them to int.\n",
    "#For this conversion, we need to use the int() function\n",
    "\n",
    "#But at first, we may clarify whether the inputs are actually Strings or not.\n",
    "print(type(var_1))\n",
    "print(type(var_2))\n",
    "\n",
    "#Then we convert the Strings to integer using the int() function\n",
    "var_3 = int(var_1)\n",
    "var_4 = int(var_2)\n",
    "\n",
    "#Input taking and conversion can be done in a single line as shown below\n",
    "#var_1 = int(input('Please enter the first number: '))\n",
    "#var_2 = int(input('Please enter the second number: '))\n",
    "\n",
    "#We may then perform Addition\n",
    "total = var_3 + var_4\n",
    "\n",
    "#Multiplication\n",
    "product = var_3 * var_4\n",
    "#Subtraction\n",
    "difference = var_3 - var_4\n",
    "\n",
    "#And then print all the calculated results\n",
    "print(\"Sum =\", total)\n",
    "print(\"Product =\", product)\n",
    "print(\"Difference =\", difference)"
   ]
  },
  {
   "attachments": {},
   "cell_type": "markdown",
   "metadata": {
    "id": "XqUfY9RQuHys"
   },
   "source": [
    "## **Task 2**"
   ]
  },
  {
   "attachments": {},
   "cell_type": "markdown",
   "metadata": {
    "id": "knIP9D6huqdh"
   },
   "source": [
    "Write the Python code of a program that reads the radius of a circle and prints its circumference\n",
    "and area.\n",
    "\n",
    "---\n",
    "###### *hint(1): we may import math and then use math.pi for getting the value of pi.* <br>\n",
    "###### *For details, we can read from https://docs.python.org/3/library/math.html*\n",
    "###### *hint(2): we can import math and use the math function for making squares with math.pow(number, power) or we can simply use the power operator. For example: S**2.*\n",
    "\n",
    "---"
   ]
  },
  {
   "attachments": {},
   "cell_type": "markdown",
   "metadata": {
    "id": "Vj5iukKauuzR"
   },
   "source": [
    "**Example 1:** <br>\n",
    "**Sample Input:**<br>\n",
    "4<br>\n",
    "**Sample Output:**<br>\n",
    "Area is 50.26548245743669<br>\n",
    "Circumference is 25.132741228718345<br>\n",
    "\n",
    "---\n",
    "**Example 2:**<br>\n",
    "**Sample Input:**<br>\n",
    "3.5<br>\n",
    "**Sample Output:**<br>\n",
    "Area is 38.48451000647496<br>\n",
    "Circumference is 21.991148575128552<br>\n",
    "\n",
    "---"
   ]
  },
  {
   "cell_type": "code",
   "execution_count": 3,
   "metadata": {
    "colab": {
     "base_uri": "https://localhost:8080/"
    },
    "id": "d8KximDFunea",
    "outputId": "d2767946-f304-4eeb-df6b-9630890b4ab9"
   },
   "outputs": [
    {
     "name": "stdout",
     "output_type": "stream",
     "text": [
      "Area is: 38.48451000647496\n",
      "Circumference is 21.991148575128552\n"
     ]
    }
   ],
   "source": [
    "# the area calculation and the explanation until was given by BRACU University and slighly edited by me\n",
    "\n",
    "import math\n",
    "\n",
    "# taking input from the user, then converting it to float\n",
    "# since radius can be a floating point value\n",
    "\n",
    "radius = float(input(\"Please enter the radius value:\"))\n",
    "\n",
    "# squares can be made using these 3 ways, as give in hints\n",
    "# all 3 ways generates the same result for area\n",
    "\n",
    "# area = math.pi * radius ** 2\n",
    "# print(\"Area is:\", area)\n",
    "\n",
    "#area = math.pi * radius * radius\n",
    "# print(\"Area is:\", area)\n",
    "\n",
    "area = math.pi * math.pow(radius, 2)\n",
    "print(\"Area is:\", area)\n",
    "\n",
    "\n",
    "circum = 2* math.pi *radius\n",
    "print('Circumference is', circum)"
   ]
  },
  {
   "attachments": {},
   "cell_type": "markdown",
   "metadata": {
    "id": "XqUfY9RQuHys"
   },
   "source": [
    "## **Task 3**"
   ]
  },
  {
   "attachments": {},
   "cell_type": "markdown",
   "metadata": {
    "id": "knIP9D6huqdh"
   },
   "source": [
    "Write the Python code of a program that reads two numbers from the user. The program should\n",
    "then print \"First is greater\" if the first number is greater, \"Second is greater\" if the second number\n",
    "is greater, and \"The numbers are equal\" otherwise"
   ]
  },
  {
   "attachments": {},
   "cell_type": "markdown",
   "metadata": {
    "id": "Vj5iukKauuzR"
   },
   "source": [
    "---\n",
    "**Sample Input 1:**<br>\n",
    "7<br>\n",
    "3<br>\n",
    "**Sample Output 1:**\n",
    "First is greater<br>\n",
    "\n",
    "---\n",
    "**Sample Input 2:**<br>\n",
    "-33<br>\n",
    "-3<br>\n",
    "**Sample Output 2:**<br>\n",
    "Second is greater<br>\n",
    "\n",
    "---\n",
    "**Sample Input 1:**<br>\n",
    "11<br>\n",
    "11<br>\n",
    "**Sample Output 1:**<br>\n",
    "The numbers are equal<br>"
   ]
  },
  {
   "cell_type": "code",
   "execution_count": null,
   "metadata": {
    "colab": {
     "base_uri": "https://localhost:8080/"
    },
    "id": "d8KximDFunea",
    "outputId": "d2767946-f304-4eeb-df6b-9630890b4ab9"
   },
   "outputs": [],
   "source": [
    "# take 2 numbers a inputs\n",
    "# we will convert the inputs to floats because we can't cast float strings into intergers\n",
    "# if someone inputs a float it will show syntax error\n",
    "\n",
    "numb1  = float(input())\n",
    "numb2  = float(input())\n",
    "\n",
    "# now we can make some if else conditions\n",
    "# remember \"==\" gives us a value of True if both sides are equal else returns False\n",
    "# we only go into a if elif condition if ye have True\n",
    "# suppose we have a = 1, b = 1\n",
    "# now we if we do x = a == b, the value will be True\n",
    "# and now if we type \"if x:\", it will go into that condition\n",
    "\n",
    "# let's check if numb1 is bigger\n",
    "if numb1 > numb2:\n",
    "\n",
    "    # if numb1 is bigger than numb2, we will go into this condition\n",
    "    # now lets print\n",
    "    print(f'First is greater')\n",
    "\n",
    "# if first condition wasn't True, we can give another linked condiiton with \"elif\"\n",
    "# which will only run when first if condition is False\n",
    "\n",
    "elif numb2 > numb1:\n",
    "\n",
    "    print('Second is greater')\n",
    "\n",
    "# now if 'elif' condition was also false, we have to check if they're equal\n",
    "# we can go about this in two different ways\n",
    "# firstly we can just create another elif condition that just checks if they're equal with '=='\n",
    "# or we can use 'else' condition\n",
    "# now if we have two real numbers, none of them is bigger or smaller than other one. what are they?\n",
    "# they are equal\n",
    "# this what else condition is\n",
    "# after checking all conditions and none of them giving us a True outcome,\n",
    "# if there's an else condition then Python will go into that\n",
    "\n",
    "else:\n",
    "    print('The numbers are equal')"
   ]
  },
  {
   "attachments": {},
   "cell_type": "markdown",
   "metadata": {
    "id": "XqUfY9RQuHys"
   },
   "source": [
    "## **Task 4**"
   ]
  },
  {
   "attachments": {},
   "cell_type": "markdown",
   "metadata": {
    "id": "knIP9D6huqdh"
   },
   "source": [
    "Write the Python code of a program that reads two numbers, subtracts the smaller number from\n",
    "the larger one, and prints the result.\n",
    "\n",
    "---\n",
    "###### *Hint: First, we may check which number is greater*"
   ]
  },
  {
   "attachments": {},
   "cell_type": "markdown",
   "metadata": {
    "id": "Vj5iukKauuzR"
   },
   "source": [
    "---\n",
    "**Sample Input 1:**<br>\n",
    "-40<br>\n",
    "-4<br>\n",
    "**Sample Output 1:**<br>\n",
    "36<br>\n",
    "**Explanation:** -4 > -40 so -4 - (-40) = -4 + 40 = 36<br>\n",
    "\n",
    "\n",
    "---\n",
    "**Sample Input 2:**<br>\n",
    "6<br>\n",
    "2<br>\n",
    "**Sample Output 2:**<br>\n",
    "4<br>\n",
    "\n",
    "---\n",
    "**Sample Input 3:**<br>\n",
    "5<br>\n",
    "5<br>\n",
    "**Sample Output 3:**<br>\n",
    "0<br>"
   ]
  },
  {
   "cell_type": "code",
   "execution_count": 7,
   "metadata": {
    "colab": {
     "base_uri": "https://localhost:8080/"
    },
    "id": "d8KximDFunea",
    "outputId": "d2767946-f304-4eeb-df6b-9630890b4ab9"
   },
   "outputs": [
    {
     "name": "stdout",
     "output_type": "stream",
     "text": [
      "5\n"
     ]
    }
   ],
   "source": [
    "# take inputs\n",
    "f1 = float(input())\n",
    "f2 = float(input())\n",
    "\n",
    "# check which is bigger and substract the smaller\n",
    "# add equals in one of the conditions because we wouldn't get any output if user had input two equal numbers\n",
    "\n",
    "if f1>=f2:\n",
    "  print(int(f1-f2))\n",
    "elif f1<f2:\n",
    "  print(int(f2-f1))"
   ]
  },
  {
   "attachments": {},
   "cell_type": "markdown",
   "metadata": {
    "id": "XqUfY9RQuHys"
   },
   "source": [
    "## **Task 5**"
   ]
  },
  {
   "attachments": {},
   "cell_type": "markdown",
   "metadata": {
    "id": "knIP9D6huqdh"
   },
   "source": [
    "Write the Python code of a program that reads a number, and prints \"The number is even\" or\n",
    "\"The number is odd\", depending on whether the number is even or odd. <br>\n",
    "\n",
    "###### hint(1): *we may use the modulus (%) operator to check for even or odd*\n",
    "###### hint(2): *we can consider the number to be an integer*\n",
    "\n",
    "---"
   ]
  },
  {
   "attachments": {},
   "cell_type": "markdown",
   "metadata": {
    "id": "Vj5iukKauuzR"
   },
   "source": [
    "**Sample Input 1:** <br>\n",
    "7<br>\n",
    "**Sample Output 1:**<br>\n",
    "The number is odd<br>\n",
    "\n",
    "---\n",
    "**Sample Input 2:**<br>\n",
    "10<br>\n",
    "**Sample Output 2:**<br>\n",
    "The number is even<br>\n",
    "\n",
    "---\n",
    "**Sample Input 3:**<br>\n",
    "-44<br>\n",
    "**Sample Output 3:**<br>\n",
    "The number is even<br>"
   ]
  },
  {
   "cell_type": "code",
   "execution_count": null,
   "metadata": {
    "colab": {
     "base_uri": "https://localhost:8080/"
    },
    "id": "d8KximDFunea",
    "outputId": "d2767946-f304-4eeb-df6b-9630890b4ab9"
   },
   "outputs": [],
   "source": [
    "numb = int(input())\n",
    "\n",
    "# if an even number is divided by 2, the remainder will always be 0\n",
    "# we can get the remainder of an operation with the modulus (%) operator and check if that's zero\n",
    "remainder = numb%2\n",
    "if remainder == 0:\n",
    "  print(\"The number is even\")\n",
    "\n",
    "else:\n",
    "  print(\"The number is odd\")"
   ]
  },
  {
   "attachments": {},
   "cell_type": "markdown",
   "metadata": {
    "id": "XqUfY9RQuHys"
   },
   "source": [
    "## **Task 6**"
   ]
  },
  {
   "attachments": {},
   "cell_type": "markdown",
   "metadata": {
    "id": "knIP9D6huqdh"
   },
   "source": [
    "Write the Python code of a program that reads an integer as input from the user, and prints the\n",
    "integer if it is a multiple of 2 OR 5 and prints \"Not a multiple of 2 OR 5\" otherwise. <br>\n",
    "For example, 2, 4, 5, 6, 8, 10, 12, 14, 15, 16, 18, 20, 22 … i.e. this includes multiples of 2 only,\n",
    "multiples of 5 only and multiples of 2 and 5 both.\n",
    "\n",
    "###### hint(1): *we may use the modulus (%) operator for checking the divisibility*\n",
    "###### hint(2): *we can consider the number to be an integer*\n",
    "\n",
    "---\n"
   ]
  },
  {
   "attachments": {},
   "cell_type": "markdown",
   "metadata": {
    "id": "Vj5iukKauuzR"
   },
   "source": [
    "\n",
    "**Sample Input 1:** <br>\n",
    "5<br>\n",
    "**Sample Output 1:**<br>\n",
    "5<br>\n",
    "\n",
    "---\n",
    "**Sample Input 2:**<br>\n",
    "10<br>\n",
    "**Sample Output 2:**<br>\n",
    "10<br>\n",
    "\n",
    "---\n",
    "**Sample Input 3:**<br>\n",
    "3<br>\n",
    "**Sample Output 3:**<br>\n",
    "Not a multiple of 2 OR 5<br>"
   ]
  },
  {
   "cell_type": "code",
   "execution_count": null,
   "metadata": {
    "colab": {
     "base_uri": "https://localhost:8080/"
    },
    "id": "d8KximDFunea",
    "outputId": "d2767946-f304-4eeb-df6b-9630890b4ab9"
   },
   "outputs": [],
   "source": [
    "# take input\n",
    "numb = int(input())\n",
    "\n",
    "# to find if a mutlpile of x, we need to know if their division (numb/x) will result in a remainder of 0\n",
    "# we know we can find remainder using '%'\n",
    "\n",
    "# we can use the \"or\" function to to join two conditions together,\n",
    "# and even if one of them is 'True', the if condition will pass through\n",
    "# eg: (True or True: True); (True or False : False); (False or False : False)\n",
    "\n",
    "if numb%2==0 or numb%5==0:\n",
    "  print(numb)\n",
    "else:\n",
    "  print(\"Not a multiple of 2 OR 5\")"
   ]
  },
  {
   "attachments": {},
   "cell_type": "markdown",
   "metadata": {
    "id": "XqUfY9RQuHys"
   },
   "source": [
    "## **Task 7**"
   ]
  },
  {
   "attachments": {},
   "cell_type": "markdown",
   "metadata": {
    "id": "knIP9D6huqdh"
   },
   "source": [
    "Write the Python code of a program that reads an integer, and prints the integer it is a multiple of **either 2 or 5 but not both**. If the number is a multiple of 2 and 5 both, then print \"Multiple of 2 and 5 both\". For all other numbers, the program prints \"Not a multiple we want\". <br>\n",
    "For example, 2, 4, 5, 6, 8, 12, 14, 15, 16, 18, 22 … i.e. this includes multiples of 2 only and multiples of 5 only, NOT multiples of 2 and 5 both or other numbers. \n",
    "\n",
    "---\n",
    "###### hint(1): *we may use the modulus (%) operator for checking the divisibility*\n",
    "###### hint(2): *we can consider the number to be an integer*\n",
    "\n",
    "---"
   ]
  },
  {
   "attachments": {},
   "cell_type": "markdown",
   "metadata": {
    "id": "Vj5iukKauuzR"
   },
   "source": [
    "**Sample Input 1:**<br>\n",
    "6<br>\n",
    "**Sample Output 1:**<br>\n",
    "6<br>\n",
    "\n",
    "---\n",
    "**Sample Input 2:**<br>\n",
    "15<br>\n",
    "**Sample Output 2:**<br>\n",
    "15<br>\n",
    "\n",
    "---\n",
    "**Sample Input 3:**<br>\n",
    "10<br>\n",
    "**Sample Output 3:**<br>\n",
    "Multiple of 2 and 5 both<br>\n",
    "\n",
    "---\n",
    "\n",
    "**Sample Input 4:**<br>\n",
    "17<br>\n",
    "**Sample Output 4:**<br>\n",
    "Not a multiple we want<br>"
   ]
  },
  {
   "cell_type": "code",
   "execution_count": null,
   "metadata": {
    "colab": {
     "base_uri": "https://localhost:8080/"
    },
    "id": "d8KximDFunea",
    "outputId": "d2767946-f304-4eeb-df6b-9630890b4ab9"
   },
   "outputs": [],
   "source": [
    "# first we need to take input\n",
    "numb = int(input())\n",
    "\n",
    "# now we know that (True or False : True). So if we put a multiple of 2 with a condition of multiple of 2 or 5, then we will get back True\n",
    "# but we need to differentiate them. So, here a condition \"and\". If and only if all the conditions are met, then the condition will be True\n",
    "# eg: (True and True : True); (True and False : False); (False and True : False); (False and False: False)\n",
    "\n",
    "# give 'and' codition first, else the input will go to 'or' condition if it's a multiple of 2 or 5 or both, and will never go to 'and' condition\n",
    "# because only if 'if' condition is not met, Python will go to elif condition\n",
    "\n",
    "\n",
    "if numb%2==0 and numb%5==0:\n",
    "  print(\"Multiple of 2 and 5 both\")\n",
    "\n",
    "# now 'and' codition\n",
    "elif numb%2==0 or numb%5==0:\n",
    "  print(numb)\n",
    "\n",
    "else:\n",
    "  print(\"Not a multiple we want\")"
   ]
  },
  {
   "attachments": {},
   "cell_type": "markdown",
   "metadata": {
    "id": "XqUfY9RQuHys"
   },
   "source": [
    "## **Task 8**"
   ]
  },
  {
   "attachments": {},
   "cell_type": "markdown",
   "metadata": {
    "id": "knIP9D6huqdh"
   },
   "source": [
    "Write the Python code of a program that reads an integer, and prints the integer if it is a multiple of 2 AND 5 and prints \"Not multiple of 2 and 5 both\" otherwise.\n",
    "\n",
    "---\n",
    "###### *hint(1): we may use the modulus (%) operator for checking the divisibility*\n",
    "###### *hint(2): we can consider the number to be an integer*"
   ]
  },
  {
   "attachments": {},
   "cell_type": "markdown",
   "metadata": {
    "id": "Vj5iukKauuzR"
   },
   "source": [
    "---\n",
    "**Sample Input 1:** <br>\n",
    "30<br>\n",
    "**Sample Output 1:**<br>\n",
    "30<br>\n",
    "\n",
    "---\n",
    "**Sample Input 2:**<br>\n",
    "15<br>\n",
    "**Sample Output 2:**<br>\n",
    "Not multiple of 2 and 5 both<br>\n",
    "\n",
    "---\n",
    "**Sample Input 3:**<br>\n",
    "6<br>\n",
    "**Sample Output 3:**<br>\n",
    "Not multiple of 2 and 5 both<br>\n"
   ]
  },
  {
   "cell_type": "code",
   "execution_count": null,
   "metadata": {
    "colab": {
     "base_uri": "https://localhost:8080/"
    },
    "id": "d8KximDFunea",
    "outputId": "d2767946-f304-4eeb-df6b-9630890b4ab9"
   },
   "outputs": [],
   "source": [
    "# we just did a harder version of this in the previous task\n",
    "\n",
    "numb = int(input())\n",
    "\n",
    "if numb%2==0 and numb%5==0:\n",
    "  print(numb)\n",
    "else:\n",
    "  print(\"Not multiple of 2 and 5 both\")"
   ]
  },
  {
   "attachments": {},
   "cell_type": "markdown",
   "metadata": {
    "id": "XqUfY9RQuHys"
   },
   "source": [
    "## **Task 9**"
   ]
  },
  {
   "attachments": {},
   "cell_type": "markdown",
   "metadata": {
    "id": "knIP9D6huqdh"
   },
   "source": [
    "Write the Python code of a program that finds the number of hours, minutes, and seconds in a given number of seconds. The number of seconds is taken as input from the user. \n",
    "\n",
    "---\n",
    "###### *hint(1): we may consider our user input to be an integer value and use // and % operators to solve the problem*\n",
    "###### *hint(2): 1 hour = 60 mins = 3600 seconds and 1 min = 60 seconds*\n",
    "\n",
    "---"
   ]
  },
  {
   "attachments": {},
   "cell_type": "markdown",
   "metadata": {
    "id": "Vj5iukKauuzR"
   },
   "source": [
    "**Sample Input 1:**<br>\n",
    "10000<br>\n",
    "**Sample Output 1:**<br>\n",
    "Hours: 2 Minutes: 46 Seconds: 40<br>\n",
    "**Explanation:**<br>\n",
    "10000 seconds = 10000 // 3600 = 2 hours and 10000 % 3600 = 2800 seconds.<br>\n",
    "Then again, 2800 // 60 = 46 minutes and 2800 % 60 = 40 seconds.<br>\n",
    "And hence we have arrived at our answer.<br>\n",
    "\n",
    "---\n",
    "**Sample Input 2:**<br>\n",
    "500<br>\n",
    "**Sample Output 2:**<br>\n",
    "Hours: 0 Minutes: 8 Seconds: 20<br>"
   ]
  },
  {
   "cell_type": "code",
   "execution_count": 1,
   "metadata": {
    "colab": {
     "base_uri": "https://localhost:8080/"
    },
    "id": "d8KximDFunea",
    "outputId": "d2767946-f304-4eeb-df6b-9630890b4ab9"
   },
   "outputs": [
    {
     "name": "stdout",
     "output_type": "stream",
     "text": [
      "Hours: 0 Minutes: 8 Seconds: 500\n"
     ]
    }
   ],
   "source": [
    "seconds = int(input())\n",
    "# floor divide seconds by 3600 (1 hour = 3600 seconds) to get total hours\n",
    "hours = seconds//3600\n",
    "# the remainder of the division will be our seconds left to convert\n",
    "seconds = seconds%3600\n",
    "\n",
    "# floor divide seconds by 60 (1 minute = 60 seconds) to get total minutes\n",
    "minutes = seconds//60\n",
    "# the remainder of the division will be our total seconds\n",
    "seconds = seconds%3600\n",
    "\n",
    "# format the output\n",
    "print(f\"Hours: {hours} Minutes: {minutes} Seconds: {seconds}\")"
   ]
  },
  {
   "attachments": {},
   "cell_type": "markdown",
   "metadata": {
    "id": "XqUfY9RQuHys"
   },
   "source": [
    "## **Task 10**"
   ]
  },
  {
   "attachments": {},
   "cell_type": "markdown",
   "metadata": {
    "id": "knIP9D6huqdh"
   },
   "source": [
    "Write a Python program to compute and display a person’s weekly salary as determined by the following conditions:<br>\n",
    "*   If the hours worked is less than or equal to 40, then the person receives Tk 200 per hour.<br>\n",
    "*   If the hours worked is greater than 40, then the person receives Tk 8000 plus Tk 300 for each hour worked over 40 hours.<br>\n",
    "\n",
    "The program should request the hours worked as an input from the user and display the salary as output. You need to make sure that user input is valid. For example, a person cannot work for -5 hours or more than 168 hours in a week. So, the valid hours range is 0 to 168. For invalid hours, print outputs as given in the samples below.<br>\n",
    "\n",
    "---\n",
    "###### *Hint: you can consider the hour (user input) to be an integer*\n",
    "\n",
    "---\n"
   ]
  },
  {
   "attachments": {},
   "cell_type": "markdown",
   "metadata": {
    "id": "Vj5iukKauuzR"
   },
   "source": [
    "**Sample Input 1:**<br>\n",
    "100<br>\n",
    "**Sample Output 1:**<br>\n",
    "26000<br>\n",
    "**Explanation:** Since, the number of hours worked is 100 > 40, therefore salary = 8000 + (100 - 40) * 300 = 26000.<br>\n",
    "\n",
    "---\n",
    "**Sample Input 2:**<br>\n",
    "30<br>\n",
    "**Sample Output 2:**<br>\n",
    "6000<br>\n",
    "**Explanation:** Since, the number of hours worked is 30 < 40, therefore salary = 30 * 200 = 6000.<br>\n",
    "\n",
    "---\n",
    "**Sample Input 3:**<br>\n",
    "-30<br>\n",
    "**Sample Output 3:**<br>\n",
    "Hour cannot be negative<br>\n",
    "\n",
    "---\n",
    "**Sample Input 4:**<br>\n",
    "170<br>\n",
    "**Sample Output 4:**<br>\n",
    "Impossible to work more than 168 hours weekly<br>\n"
   ]
  },
  {
   "cell_type": "code",
   "execution_count": 4,
   "metadata": {
    "colab": {
     "base_uri": "https://localhost:8080/"
    },
    "id": "d8KximDFunea",
    "outputId": "d2767946-f304-4eeb-df6b-9630890b4ab9"
   },
   "outputs": [
    {
     "name": "stdout",
     "output_type": "stream",
     "text": [
      "26000\n"
     ]
    }
   ],
   "source": [
    "# take input\n",
    "hour = int(input())\n",
    "# to do this task we have to nest conditions together. meaning, we have to use if conditions in another if condition\n",
    "\n",
    "# we only want to do possible calculations, if a person works works for 24 hours straigh for 1 week (which is almost impossible)\n",
    "# he will only work for 168 hours. so we will only take hours that are less or euqals to 168\n",
    "if hour <= 168:\n",
    "    \n",
    "    # hours can not be in negative, so we have to check for that\n",
    "    if hour >=0:\n",
    "        \n",
    "        # now, if hour is less than or equals to 40, we will just multiply in by 200 to get salary\n",
    "        if hour<=40:\n",
    "          print(hour*200)\n",
    "\n",
    "        # but if it is more, we will just multiply the extra hours by 300 and add it with 8000 (40*200)\n",
    "        elif hour>40:\n",
    "          print(8000+((hour-40)*300))\n",
    "\n",
    "    # if total worked hour is in negative, python will come here\n",
    "    else:\n",
    "      print(\"Hour cannot be negative\")\n",
    "\n",
    "# if total worked hour is greater than 0, it will come here\n",
    "else:\n",
    "  print(\"Impossible to work more than 168 hours weekly\")"
   ]
  },
  {
   "attachments": {},
   "cell_type": "markdown",
   "metadata": {
    "id": "XqUfY9RQuHys"
   },
   "source": [
    "## **Task**"
   ]
  },
  {
   "cell_type": "markdown",
   "metadata": {
    "id": "knIP9D6huqdh"
   },
   "source": [
    "Write a Python program that prints \"hello world\" in a console."
   ]
  },
  {
   "attachments": {},
   "cell_type": "markdown",
   "metadata": {
    "id": "Vj5iukKauuzR"
   },
   "source": [
    "<table>\n",
    "<tr>\n",
    "    <th>Sample Input</th> \n",
    "    <th>Sample Output</th>\n",
    "</tr>\n",
    "\n",
    "<tr>\n",
    "    <td></td>\n",
    "    <td></td> \n",
    "</tr>\n",
    "\n",
    "<tr>\n",
    "    <td></td>\n",
    "    <td></td> \n",
    "</tr>\n",
    " </table>"
   ]
  },
  {
   "cell_type": "code",
   "execution_count": null,
   "metadata": {
    "colab": {
     "base_uri": "https://localhost:8080/"
    },
    "id": "d8KximDFunea",
    "outputId": "d2767946-f304-4eeb-df6b-9630890b4ab9"
   },
   "outputs": [],
   "source": []
  },
  {
   "attachments": {},
   "cell_type": "markdown",
   "metadata": {
    "id": "XqUfY9RQuHys"
   },
   "source": [
    "## **Task**"
   ]
  },
  {
   "cell_type": "markdown",
   "metadata": {
    "id": "knIP9D6huqdh"
   },
   "source": [
    "Write a Python program that prints \"hello world\" in a console."
   ]
  },
  {
   "attachments": {},
   "cell_type": "markdown",
   "metadata": {
    "id": "Vj5iukKauuzR"
   },
   "source": [
    "<table>\n",
    "<tr>\n",
    "    <th>Sample Input</th> \n",
    "    <th>Sample Output</th>\n",
    "</tr>\n",
    "\n",
    "<tr>\n",
    "    <td></td>\n",
    "    <td></td> \n",
    "</tr>\n",
    "\n",
    "<tr>\n",
    "    <td></td>\n",
    "    <td></td> \n",
    "</tr>\n",
    " </table>"
   ]
  },
  {
   "cell_type": "code",
   "execution_count": null,
   "metadata": {
    "colab": {
     "base_uri": "https://localhost:8080/"
    },
    "id": "d8KximDFunea",
    "outputId": "d2767946-f304-4eeb-df6b-9630890b4ab9"
   },
   "outputs": [],
   "source": []
  },
  {
   "attachments": {},
   "cell_type": "markdown",
   "metadata": {
    "id": "XqUfY9RQuHys"
   },
   "source": [
    "## **Task**"
   ]
  },
  {
   "cell_type": "markdown",
   "metadata": {
    "id": "knIP9D6huqdh"
   },
   "source": [
    "Write a Python program that prints \"hello world\" in a console."
   ]
  },
  {
   "attachments": {},
   "cell_type": "markdown",
   "metadata": {
    "id": "Vj5iukKauuzR"
   },
   "source": [
    "<table>\n",
    "<tr>\n",
    "    <th>Sample Input</th> \n",
    "    <th>Sample Output</th>\n",
    "</tr>\n",
    "\n",
    "<tr>\n",
    "    <td></td>\n",
    "    <td></td> \n",
    "</tr>\n",
    "\n",
    "<tr>\n",
    "    <td></td>\n",
    "    <td></td> \n",
    "</tr>\n",
    " </table>"
   ]
  },
  {
   "cell_type": "code",
   "execution_count": null,
   "metadata": {
    "colab": {
     "base_uri": "https://localhost:8080/"
    },
    "id": "d8KximDFunea",
    "outputId": "d2767946-f304-4eeb-df6b-9630890b4ab9"
   },
   "outputs": [],
   "source": []
  },
  {
   "attachments": {},
   "cell_type": "markdown",
   "metadata": {
    "id": "XqUfY9RQuHys"
   },
   "source": [
    "## **Task**"
   ]
  },
  {
   "cell_type": "markdown",
   "metadata": {
    "id": "knIP9D6huqdh"
   },
   "source": [
    "Write a Python program that prints \"hello world\" in a console."
   ]
  },
  {
   "attachments": {},
   "cell_type": "markdown",
   "metadata": {
    "id": "Vj5iukKauuzR"
   },
   "source": [
    "<table>\n",
    "<tr>\n",
    "    <th>Sample Input</th> \n",
    "    <th>Sample Output</th>\n",
    "</tr>\n",
    "\n",
    "<tr>\n",
    "    <td></td>\n",
    "    <td></td> \n",
    "</tr>\n",
    "\n",
    "<tr>\n",
    "    <td></td>\n",
    "    <td></td> \n",
    "</tr>\n",
    " </table>"
   ]
  },
  {
   "cell_type": "code",
   "execution_count": null,
   "metadata": {
    "colab": {
     "base_uri": "https://localhost:8080/"
    },
    "id": "d8KximDFunea",
    "outputId": "d2767946-f304-4eeb-df6b-9630890b4ab9"
   },
   "outputs": [],
   "source": []
  },
  {
   "attachments": {},
   "cell_type": "markdown",
   "metadata": {
    "id": "XqUfY9RQuHys"
   },
   "source": [
    "## **Task**"
   ]
  },
  {
   "cell_type": "markdown",
   "metadata": {
    "id": "knIP9D6huqdh"
   },
   "source": [
    "Write a Python program that prints \"hello world\" in a console."
   ]
  },
  {
   "attachments": {},
   "cell_type": "markdown",
   "metadata": {
    "id": "Vj5iukKauuzR"
   },
   "source": [
    "<table>\n",
    "<tr>\n",
    "    <th>Sample Input</th> \n",
    "    <th>Sample Output</th>\n",
    "</tr>\n",
    "\n",
    "<tr>\n",
    "    <td></td>\n",
    "    <td></td> \n",
    "</tr>\n",
    "\n",
    "<tr>\n",
    "    <td></td>\n",
    "    <td></td> \n",
    "</tr>\n",
    " </table>"
   ]
  },
  {
   "cell_type": "code",
   "execution_count": null,
   "metadata": {
    "colab": {
     "base_uri": "https://localhost:8080/"
    },
    "id": "d8KximDFunea",
    "outputId": "d2767946-f304-4eeb-df6b-9630890b4ab9"
   },
   "outputs": [],
   "source": []
  },
  {
   "attachments": {},
   "cell_type": "markdown",
   "metadata": {
    "id": "XqUfY9RQuHys"
   },
   "source": [
    "## **Task**"
   ]
  },
  {
   "cell_type": "markdown",
   "metadata": {
    "id": "knIP9D6huqdh"
   },
   "source": [
    "Write a Python program that prints \"hello world\" in a console."
   ]
  },
  {
   "attachments": {},
   "cell_type": "markdown",
   "metadata": {
    "id": "Vj5iukKauuzR"
   },
   "source": [
    "<table>\n",
    "<tr>\n",
    "    <th>Sample Input</th> \n",
    "    <th>Sample Output</th>\n",
    "</tr>\n",
    "\n",
    "<tr>\n",
    "    <td></td>\n",
    "    <td></td> \n",
    "</tr>\n",
    "\n",
    "<tr>\n",
    "    <td></td>\n",
    "    <td></td> \n",
    "</tr>\n",
    " </table>"
   ]
  },
  {
   "cell_type": "code",
   "execution_count": null,
   "metadata": {
    "colab": {
     "base_uri": "https://localhost:8080/"
    },
    "id": "d8KximDFunea",
    "outputId": "d2767946-f304-4eeb-df6b-9630890b4ab9"
   },
   "outputs": [],
   "source": []
  }
 ],
 "metadata": {
  "kernelspec": {
   "display_name": "Python 3",
   "language": "python",
   "name": "python3"
  },
  "language_info": {
   "codemirror_mode": {
    "name": "ipython",
    "version": 3
   },
   "file_extension": ".py",
   "mimetype": "text/x-python",
   "name": "python",
   "nbconvert_exporter": "python",
   "pygments_lexer": "ipython3",
   "version": "3.10.7"
  },
  "orig_nbformat": 4,
  "vscode": {
   "interpreter": {
    "hash": "3ace67975135ed89b0979b869152a5a6d7b3560399eafc83f8bdf4099fed6e66"
   }
  }
 },
 "nbformat": 4,
 "nbformat_minor": 2
}
