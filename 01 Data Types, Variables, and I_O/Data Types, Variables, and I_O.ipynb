{
  "cells": [
    {
      "attachments": {},
      "cell_type": "markdown",
      "metadata": {
        "id": "a3AoqV0pzMaH"
      },
      "source": [
        "<center>This assignment was issued by BRAC University</center>\n",
        "<br>\n",
        "<center>It was completed by Sadnan Islam</center>\n",
        "\n",
        "---\n",
        "<center><a href='https://www.linktr.ee/sadnan736'><img src='https://github.com/sadnan736/PythonA2Z-CSE110-BRACU/blob/main/Socials.png?raw=true'  width=\"200\"/></a></center>"
      ]
    },
    {
      "cell_type": "markdown",
      "metadata": {
        "id": "XqUfY9RQuHys"
      },
      "source": [
        "## **Task 1**"
      ]
    },
    {
      "cell_type": "markdown",
      "metadata": {
        "id": "knIP9D6huqdh"
      },
      "source": [
        "Write a Python program that prints \"hello world\" in a console."
      ]
    },
    {
      "cell_type": "markdown",
      "metadata": {
        "id": "Vj5iukKauuzR"
      },
      "source": [
        "<table>\n",
        "<tr>\n",
        "    <th>Sample Input</th> \n",
        "    <th>Sample Output</th>\n",
        "</tr>\n",
        "\n",
        "<tr>\n",
        "    <td></td>\n",
        "    <td>hello world</td> \n",
        "</tr>\n",
        " </table>"
      ]
    },
    {
      "cell_type": "code",
      "execution_count": null,
      "metadata": {
        "colab": {
          "base_uri": "https://localhost:8080/"
        },
        "id": "d8KximDFunea",
        "outputId": "d2767946-f304-4eeb-df6b-9630890b4ab9"
      },
      "outputs": [
        {
          "name": "stdout",
          "output_type": "stream",
          "text": [
            "hello world\n"
          ]
        }
      ],
      "source": [
        "# the print function will print whatever is in the brackets.\n",
        "# apostrophe symbol marks it as a string, quotation marks will also work\n",
        "print('hello world')"
      ]
    },
    {
      "cell_type": "markdown",
      "metadata": {
        "id": "DUzDX31cu0e6"
      },
      "source": [
        "## **Task 2**"
      ]
    },
    {
      "cell_type": "markdown",
      "metadata": {
        "id": "GzRTYET4u0e6"
      },
      "source": [
        "Write a Python program that prints the summation of 54 and 56. The program must use Python operators and numbers but not use any variables."
      ]
    },
    {
      "cell_type": "markdown",
      "metadata": {
        "id": "UmfRpDkYu0e6"
      },
      "source": [
        "<table>\n",
        "<tr>\n",
        "    <th>Sample Input</th> \n",
        "    <th>Sample Output</th>\n",
        "</tr>\n",
        "\n",
        "<tr>\n",
        "    <td></td>\n",
        "    <td>110</td> \n",
        "</tr>\n",
        " </table>"
      ]
    },
    {
      "cell_type": "code",
      "execution_count": null,
      "metadata": {
        "colab": {
          "base_uri": "https://localhost:8080/"
        },
        "id": "CClxt4q3u0e6",
        "outputId": "5c1c685b-0e80-418d-ce6f-16c2b5465d2b"
      },
      "outputs": [
        {
          "name": "stdout",
          "output_type": "stream",
          "text": [
            "110\n"
          ]
        }
      ],
      "source": [
        "# no symbol required because the two values are integers\n",
        "print(54+56)"
      ]
    },
    {
      "cell_type": "markdown",
      "metadata": {
        "id": "uKzaN58uvAvt"
      },
      "source": [
        "## **Task 3**"
      ]
    },
    {
      "cell_type": "markdown",
      "metadata": {
        "id": "bGl2OY7tvAvu"
      },
      "source": [
        "Write a Python program that assigns the values \"Fall\" and 2022 to variables `season` and `year` respectively. Then, print the values of both variables in separate lines.\n"
      ]
    },
    {
      "cell_type": "markdown",
      "metadata": {
        "id": "4140wacJvAvv"
      },
      "source": [
        "<table>\n",
        "<tr>\n",
        "    <th>Sample Input</th> \n",
        "    <th>Sample Output</th>\n",
        "</tr>\n",
        "\n",
        "<tr>\n",
        "    <td></td>\n",
        "    <td>Fall</td> \n",
        "</tr>\n",
        "<tr>\n",
        "    <td></td>\n",
        "    <td>2022</td> \n",
        "</tr>\n",
        " </table>"
      ]
    },
    {
      "cell_type": "code",
      "execution_count": null,
      "metadata": {
        "colab": {
          "base_uri": "https://localhost:8080/"
        },
        "id": "igGWuxwHvAvv",
        "outputId": "e06f2564-1e02-4f30-922c-c13f84155af9"
      },
      "outputs": [
        {
          "name": "stdout",
          "output_type": "stream",
          "text": [
            "Fall\n",
            "2022\n"
          ]
        }
      ],
      "source": [
        "# we assign variables by giving them a value (string,integer,float,boolean etc)\n",
        "season = 'Fall'\n",
        "year = 2022\n",
        "print(season)\n",
        "print(year)"
      ]
    },
    {
      "cell_type": "markdown",
      "metadata": {
        "id": "OWEPL5TgvBJt"
      },
      "source": [
        "## **Task 4**"
      ]
    },
    {
      "cell_type": "markdown",
      "metadata": {
        "id": "rQmppXj-vBJt"
      },
      "source": [
        "Write a Python program that reads the user's name and prints it back as shown in the example below."
      ]
    },
    {
      "cell_type": "markdown",
      "metadata": {
        "id": "WlR-y3K7vBJu"
      },
      "source": [
        "<table>\n",
        "<tr>\n",
        "    <th>Sample Input</th> \n",
        "    <th>Sample Output</th>\n",
        "</tr>\n",
        "\n",
        "<tr>\n",
        "    <td>John</td>\n",
        "    <td>Your name is John</td> \n",
        "</tr>\n",
        "<tr>\n",
        "    <td>Albert</td>\n",
        "    <td>Your name is Albert\n",
        "</td> \n",
        "</tr>\n",
        " </table>"
      ]
    },
    {
      "cell_type": "code",
      "execution_count": null,
      "metadata": {
        "colab": {
          "base_uri": "https://localhost:8080/"
        },
        "id": "p-n7-94QvBJu",
        "outputId": "c9a238f1-5e44-43c1-d727-1db6c1dc3c87"
      },
      "outputs": [
        {
          "name": "stdout",
          "output_type": "stream",
          "text": [
            "Please enter your name: Albert\n",
            "Your name is Albert\n"
          ]
        }
      ],
      "source": [
        "# we can do this in a lot of ways\n",
        "# first we need to take an input and assign a variable to that\n",
        "name = input (\"Please enter your name: \")\n",
        "# we can use ',' to seperate values in print function, it will be replaced by a space in the console\n",
        "print(\"Your name is\", name)"
      ]
    },
    {
      "cell_type": "markdown",
      "metadata": {
        "id": "qGnL0VWPvBTi"
      },
      "source": [
        "## **Task 5**"
      ]
    },
    {
      "cell_type": "markdown",
      "metadata": {
        "id": "XGfCPDx0vBTj"
      },
      "source": [
        "Write a Python program that reads two integers M and N respectively and finds the value of M^N and prints the value as shown in the example."
      ]
    },
    {
      "cell_type": "markdown",
      "metadata": {
        "id": "CItvZguTvBTj"
      },
      "source": [
        "<table>\n",
        "<tr>\n",
        "    <th>Sample Input</th> \n",
        "    <th>Sample Output</th>\n",
        "</tr>\n",
        "\n",
        "<tr>\n",
        "    <td>2 <br>\n",
        "    3</td>\n",
        "    <td>2^3: 8</td> \n",
        "</tr>\n",
        "<tr>\n",
        "    <td>10 <br> \n",
        "    5</td>\n",
        "    <td>10^3: 1000</td> \n",
        "</tr>\n",
        " </table>"
      ]
    },
    {
      "cell_type": "code",
      "execution_count": null,
      "metadata": {
        "colab": {
          "base_uri": "https://localhost:8080/"
        },
        "id": "SnNPX52tvBTj",
        "outputId": "2a3094a0-b797-41a1-83dc-b64c6a7ae5e2"
      },
      "outputs": [
        {
          "name": "stdout",
          "output_type": "stream",
          "text": [
            "10\n",
            "3\n",
            "10^3: 1000\n"
          ]
        }
      ],
      "source": [
        "# take M and N as inputs\n",
        "M = int(input())\n",
        "N = int(input())\n",
        "# one way we can do power is by: base**exponent\n",
        "pow = M**N\n",
        "\n",
        "# now we have to format in the print function. this useful because ',' adds a space and using '+' too many times is very clunky and slow\n",
        "# we can format by putting an f (newer) before the string, or .format() after\n",
        "print(f'{M}^{N}: {pow}')"
      ]
    },
    {
      "cell_type": "markdown",
      "metadata": {
        "id": "qNzy8bjLvBcb"
      },
      "source": [
        "## **Task 6**"
      ]
    },
    {
      "cell_type": "markdown",
      "metadata": {
        "id": "HyITOrOXvBcc"
      },
      "source": [
        "A sailor has a boat known as Téssares Boat, which has four corners. The boat is capable of carrying goods of any weight as long as there is equal distribution of loads on each corner of the boat - the center area has been occupied by the engine. The sailor needs your help to know the maximum amount of weight he can carry in each shipment.\n",
        "Write a Python program that reads the total weight of the shipment and prints the maximum load (or weight) the boat can take from the given shipment. We can assume that the weight of each good is exactly 1 unit, therefore, the weight of 5 units means there are 5 (loose) items in the shipment."
      ]
    },
    {
      "cell_type": "markdown",
      "metadata": {
        "id": "jLDDG5dCvBcc"
      },
      "source": [
        "<table>\n",
        "<tr>\n",
        "    <th>Sample Input</th> \n",
        "    <th>Sample Output</th>\n",
        "</tr>\n",
        "\n",
        "<tr>\n",
        "    <td>9</td>\n",
        "    <td>8</td> \n",
        "</tr>\n",
        "<tr>\n",
        "    <td>11</td>\n",
        "    <td>8</td> \n",
        "</tr>\n",
        "<tr>\n",
        "    <td>23</td>\n",
        "    <td>20</td> \n",
        "</tr>\n",
        " </table>"
      ]
    },
    {
      "cell_type": "code",
      "execution_count": null,
      "metadata": {
        "colab": {
          "base_uri": "https://localhost:8080/"
        },
        "id": "hxq00khivBcc",
        "outputId": "99ff6925-da04-4ca6-df86-c6443e468037"
      },
      "outputs": [
        {
          "name": "stdout",
          "output_type": "stream",
          "text": [
            "23\n",
            "20\n"
          ]
        }
      ],
      "source": [
        "# -four corner, equal distribution\n",
        "# we can calculate how much one corner will have to carry by floor dividing total weight by 4\n",
        "corner1 = int(input())//4\n",
        "\n",
        "# we can now multiply this by twelve and get the maxium weight the boat can take\n",
        "max = corner1*4\n",
        "print(max)"
      ]
    },
    {
      "cell_type": "markdown",
      "metadata": {
        "id": "4Ym7b3tNvBlD"
      },
      "source": [
        "## **Task 7**"
      ]
    },
    {
      "cell_type": "markdown",
      "metadata": {
        "id": "0vGY_nuCvBlD"
      },
      "source": [
        "Write a Python program that reads 3 integers A, B, and C respectively, and then reads a floating point number D. After reading, the program should print the result (as int) using the given formula below.\n",
        "Formula110: A^C+B*A-D/3 \n"
      ]
    },
    {
      "cell_type": "markdown",
      "metadata": {
        "id": "Z13_zPxivBlD"
      },
      "source": [
        "<table>\n",
        "<tr>\n",
        "    <th>Sample Input</th> \n",
        "    <th>Sample Output</th>\n",
        "</tr>\n",
        "\n",
        "<tr>\n",
        "    <td>2 <br>\n",
        "    6 <br>\n",
        "    8 <br>\n",
        "    1.3\n",
        "    </td>\n",
        "    <td>267</td> \n",
        "</tr>\n",
        "<tr>\n",
        "    <td>9 <br>\n",
        "    100 <br>\n",
        "    1 <br>\n",
        "    3.7\n",
        "    </td>\n",
        "    <td>907</td>\n",
        "</tr>\n",
        "<tr>\n",
        "    <td>88 <br>\n",
        "    22 <br>\n",
        "    1 <br>\n",
        "    3.3\n",
        "    </td>\n",
        "    <td>2022</td>\n",
        "</tr>\n",
        " </table>"
      ]
    },
    {
      "cell_type": "code",
      "execution_count": null,
      "metadata": {
        "colab": {
          "base_uri": "https://localhost:8080/"
        },
        "id": "I9CCkr8YvBlD",
        "outputId": "f4f1c24d-0c4e-4584-c0d1-72225c9125c1"
      },
      "outputs": [
        {
          "name": "stdout",
          "output_type": "stream",
          "text": [
            "88\n",
            "22\n",
            "1\n",
            "3.3\n",
            "2022\n"
          ]
        }
      ],
      "source": [
        "# first we need to take input\n",
        "A = int(input())\n",
        "B = int(input())\n",
        "C = int(input())\n",
        "D = float(input())\n",
        "\n",
        "# python follows the order of operations, so\n",
        "Formula110 = A**C + B*A - D/3\n",
        "# if you want to be sure, you can use brackets to make sure that operation happens first\n",
        "\n",
        "print(int(Formula110))"
      ]
    },
    {
      "cell_type": "markdown",
      "metadata": {
        "id": "V4ubeIrsvB2H"
      },
      "source": [
        "## **Task 8**"
      ]
    },
    {
      "cell_type": "markdown",
      "metadata": {
        "id": "Y54hV5ABvB2I"
      },
      "source": [
        "Write a python program that takes an integer from the user which represents the number of chocolates that he/she has. He/She decided to distribute the chocolates equally among 3 friends, keeping the remaining chocolates for him/herself. Find out the number of chocolates each friend will receive and the number of chocolates that will be remaining."
      ]
    },
    {
      "cell_type": "markdown",
      "metadata": {
        "id": "8wGVAo3SIE6O"
      },
      "source": [
        "**Sample Input 1:** <br>\n",
        "50 <br>\n",
        "**Sample Output 1:** <br>\n",
        "Each friend will receive 16 chocolates <br>\n",
        "The number of remaining chocolates is 2 <br>\n",
        "**Sample Input 2:** <br>\n",
        "90 <br>\n",
        "**Sample Output 2:** <br>\n",
        "Each friend will receive 30 chocolates <br>\n",
        "The number of remaining chocolates is 0 <br>"
      ]
    },
    {
      "cell_type": "code",
      "execution_count": null,
      "metadata": {
        "colab": {
          "base_uri": "https://localhost:8080/"
        },
        "id": "iyyn-Re-vB2J",
        "outputId": "6179fe2e-9b85-4973-9dab-41d40e0ef2cf"
      },
      "outputs": [
        {
          "name": "stdout",
          "output_type": "stream",
          "text": [
            "90\n",
            "Each friend will receive 30 chocolates\n",
            "The number of remaining chocolates is 0\n"
          ]
        }
      ],
      "source": [
        "original = int(input())\n",
        "# to find how many each friend will receive we just need to floor divide by 3\n",
        "each = original//3\n",
        "# now multiply by 3 and substract from original\n",
        "left = original - each*3\n",
        "print(f'Each friend will receive {each} chocolates')\n",
        "print(f'The number of remaining chocolates is {left}')"
      ]
    },
    {
      "cell_type": "markdown",
      "metadata": {
        "id": "EiofXmPNvrfs"
      },
      "source": [
        "## **Task 9**\n",
        "*   Ungraded\n",
        "\n",
        "\n",
        "\n"
      ]
    },
    {
      "cell_type": "markdown",
      "metadata": {
        "id": "R9ZV1QoZvrfs"
      },
      "source": [
        "Write a Python program that reads two values M and N from the user respectively and prints the result by joining (concatenating) them in a bottom-up approach as shown in the following example."
      ]
    },
    {
      "cell_type": "markdown",
      "metadata": {
        "id": "VyLg-od5vrfs"
      },
      "source": [
        "<table>\n",
        "<tr>\n",
        "    <th>Sample Input</th> \n",
        "    <th>Sample Output</th>\n",
        "</tr>\n",
        "\n",
        "<tr>\n",
        "    <td>5 <br> 2</td>\n",
        "    <td>25</td> \n",
        "</tr>\n",
        "\n",
        "<tr>\n",
        "    <td>Hello <br> World</td>\n",
        "    <td>WorldHello</td> \n",
        "</tr>\n",
        "\n",
        "<tr>\n",
        "    <td>Python <br>3</td>\n",
        "    <td>3Python</td> \n",
        "</tr>\n",
        "</table>"
      ]
    },
    {
      "cell_type": "code",
      "execution_count": 1,
      "metadata": {
        "colab": {
          "base_uri": "https://localhost:8080/"
        },
        "id": "JATSDphMvrfs",
        "outputId": "79ce4488-bd2c-433f-e759-ed75c079063b"
      },
      "outputs": [
        {
          "name": "stdout",
          "output_type": "stream",
          "text": [
            "Python\n",
            "3\n",
            "3Python\n"
          ]
        }
      ],
      "source": [
        "# take input from user\n",
        "M = input()\n",
        "N = input()\n",
        "\n",
        "# we can print strings side by side by formatting or by using '+' in between them\n",
        "print(N+M)"
      ]
    },
    {
      "cell_type": "markdown",
      "metadata": {
        "id": "klhvArxYwRSr"
      },
      "source": [
        "## **Task 10**\n",
        "*   Ungraded\n",
        "\n",
        "\n",
        "\n"
      ]
    },
    {
      "cell_type": "markdown",
      "metadata": {
        "id": "hzHN_DqSwRSx"
      },
      "source": [
        "Write a Python program that reads a line from the user and prints the first character of the given input."
      ]
    },
    {
      "cell_type": "markdown",
      "metadata": {
        "id": "LSxVYRoLwRSx"
      },
      "source": [
        "<table>\n",
        "<tr>\n",
        "    <th>Sample Input</th> \n",
        "    <th>Sample Output</th>\n",
        "</tr>\n",
        "\n",
        "<tr>\n",
        "    <td>The quick brown fox jumps over the lazy dog</td>\n",
        "    <td>T</td> \n",
        "</tr>\n",
        "\n",
        "<tr>\n",
        "    <td>Python is an interpreted language</td>\n",
        "    <td>P</td> \n",
        "</tr>\n",
        "</table>"
      ]
    },
    {
      "cell_type": "code",
      "execution_count": 2,
      "metadata": {
        "colab": {
          "base_uri": "https://localhost:8080/"
        },
        "id": "DB_Bv9DYwRSx",
        "outputId": "ca171c25-61df-43dd-b045-a7967692e691"
      },
      "outputs": [
        {
          "name": "stdout",
          "output_type": "stream",
          "text": [
            "Python is an interpreted language\n",
            "P\n"
          ]
        }
      ],
      "source": [
        "# we can achieve this by indexing\n",
        "# each string begins with the index 0, so the index of the first character will be 0\n",
        "\n",
        "a = input()\n",
        "print(a[0])"
      ]
    }
  ],
  "metadata": {
    "colab": {
      "collapsed_sections": [
        "DUzDX31cu0e6",
        "uKzaN58uvAvt",
        "OWEPL5TgvBJt",
        "qGnL0VWPvBTi",
        "qNzy8bjLvBcb",
        "4Ym7b3tNvBlD",
        "V4ubeIrsvB2H",
        "EiofXmPNvrfs"
      ],
      "provenance": []
    },
    "kernelspec": {
      "display_name": "Python 3",
      "language": "python",
      "name": "python3"
    },
    "language_info": {
      "codemirror_mode": {
        "name": "ipython",
        "version": 3
      },
      "file_extension": ".py",
      "mimetype": "text/x-python",
      "name": "python",
      "nbconvert_exporter": "python",
      "pygments_lexer": "ipython3",
      "version": "3.10.7 (tags/v3.10.7:6cc6b13, Sep  5 2022, 14:08:36) [MSC v.1933 64 bit (AMD64)]"
    },
    "vscode": {
      "interpreter": {
        "hash": "3ace67975135ed89b0979b869152a5a6d7b3560399eafc83f8bdf4099fed6e66"
      }
    }
  },
  "nbformat": 4,
  "nbformat_minor": 0
}
